{
 "cells": [
  {
   "cell_type": "markdown",
   "metadata": {},
   "source": [
    "# Speech Feature Extraction using OpenSMILE (GeMapsv01b + ComParE config)"
   ]
  },
  {
   "cell_type": "code",
   "execution_count": null,
   "metadata": {
    "execution": {
     "iopub.execute_input": "2022-02-09T09:29:37.962183Z",
     "iopub.status.busy": "2022-02-09T09:29:37.961569Z",
     "iopub.status.idle": "2022-02-09T09:29:37.989422Z",
     "shell.execute_reply": "2022-02-09T09:29:37.988522Z",
     "shell.execute_reply.started": "2022-02-09T09:29:37.962006Z"
    },
    "tags": []
   },
   "outputs": [],
   "source": [
    "%load_ext autoreload\n",
    "%autoreload 2"
   ]
  },
  {
   "cell_type": "code",
   "execution_count": null,
   "metadata": {
    "execution": {
     "iopub.execute_input": "2022-02-09T09:29:38.273475Z",
     "iopub.status.busy": "2022-02-09T09:29:38.273257Z",
     "iopub.status.idle": "2022-02-09T09:29:38.879904Z",
     "shell.execute_reply": "2022-02-09T09:29:38.878538Z",
     "shell.execute_reply.started": "2022-02-09T09:29:38.273449Z"
    },
    "tags": []
   },
   "outputs": [],
   "source": [
    "import sys\n",
    "from pathlib import Path\n",
    "from typing import List, Optional\n",
    "\n",
    "import pandas as pd\n",
    "from IPython.display import display\n",
    "from tqdm.auto import tqdm\n",
    "\n",
    "sys.path.append(\"..\")\n",
    "# opensmile\n",
    "import opensmile\n",
    "\n",
    "from sgs_utils.path_conf import loc_data_dir, speech_data_session_dir"
   ]
  },
  {
   "cell_type": "markdown",
   "metadata": {},
   "source": [
    "# Extracting features"
   ]
  },
  {
   "cell_type": "markdown",
   "metadata": {},
   "source": [
    "useful links:\n",
    "* [opensmile config folder](https://github.com/audeering/opensmile/tree/v3.0.0/config)\n",
    "* difference between GeMAPS versions [here](https://github.com/audeering/opensmile/blob/v3.0.0/config/gemaps/CHANGES.txt')\n",
    "\n",
    "**note**: `eGeMAPS` is an _extended_ version of the GeMAPS\n",
    "\n",
    "feature-level`\n",
    "* `Functionals`: global segment based features (1 feature per segment)\n",
    "* `LowLevelDescriptor`: sliding window features (1 feature per window)"
   ]
  },
  {
   "cell_type": "code",
   "execution_count": null,
   "metadata": {
    "execution": {
     "iopub.execute_input": "2022-02-09T09:29:38.881978Z",
     "iopub.status.busy": "2022-02-09T09:29:38.881738Z",
     "iopub.status.idle": "2022-02-09T09:29:38.964750Z",
     "shell.execute_reply": "2022-02-09T09:29:38.963776Z",
     "shell.execute_reply.started": "2022-02-09T09:29:38.881939Z"
    },
    "tags": []
   },
   "outputs": [],
   "source": [
    "df_session = pd.read_parquet(loc_data_dir.joinpath(\"df_session_uuid.parquet\"))"
   ]
  },
  {
   "cell_type": "code",
   "execution_count": null,
   "metadata": {
    "execution": {
     "iopub.execute_input": "2022-02-09T09:29:39.016954Z",
     "iopub.status.busy": "2022-02-09T09:29:39.016455Z",
     "iopub.status.idle": "2022-02-09T09:29:39.079057Z",
     "shell.execute_reply": "2022-02-09T09:29:39.078081Z",
     "shell.execute_reply.started": "2022-02-09T09:29:39.016900Z"
    },
    "tags": []
   },
   "outputs": [],
   "source": [
    "# define the feature extraction configs\n",
    "func_gemaps = opensmile.Smile(\n",
    "    feature_set=opensmile.FeatureSet.GeMAPSv01b,\n",
    "    feature_level=opensmile.FeatureLevel.Functionals,\n",
    ")\n",
    "\n",
    "lld_gemaps = opensmile.Smile(\n",
    "    feature_set=opensmile.FeatureSet.GeMAPSv01b,\n",
    "    feature_level=opensmile.FeatureLevel.LowLevelDescriptors,\n",
    ")\n",
    "\n",
    "# we will use the ComParE LLD to calculate frequency-based features on `F0final_sma`\n",
    "lld_compare = opensmile.Smile(\n",
    "    feature_set=opensmile.FeatureSet.ComParE_2016,\n",
    "    feature_level=opensmile.FeatureLevel.LowLevelDescriptors,\n",
    ")"
   ]
  },
  {
   "cell_type": "code",
   "execution_count": null,
   "metadata": {
    "execution": {
     "iopub.execute_input": "2022-02-09T09:29:39.499098Z",
     "iopub.status.busy": "2022-02-09T09:29:39.498773Z",
     "iopub.status.idle": "2022-02-09T09:29:39.522501Z",
     "shell.execute_reply": "2022-02-09T09:29:39.521729Z",
     "shell.execute_reply.started": "2022-02-09T09:29:39.499067Z"
    },
    "tags": []
   },
   "outputs": [],
   "source": [
    "from multiprocessing import Pool\n",
    "import traceback\n",
    "from typing import Tuple"
   ]
  },
  {
   "cell_type": "code",
   "execution_count": null,
   "metadata": {
    "collapsed": true,
    "execution": {
     "iopub.execute_input": "2022-02-09T09:29:39.854407Z",
     "iopub.status.busy": "2022-02-09T09:29:39.854060Z",
     "iopub.status.idle": "2022-02-09T09:43:20.887268Z",
     "shell.execute_reply": "2022-02-09T09:43:20.886519Z",
     "shell.execute_reply.started": "2022-02-09T09:29:39.854367Z"
    },
    "jupyter": {
     "outputs_hidden": true
    },
    "tags": []
   },
   "outputs": [],
   "source": [
    "def _extract_parse_smile_df(s: opensmile.Smile, f: Path) -> pd.DataFrame:\n",
    "    df_feat = s.process_file(f)\n",
    "    df_feat = df_feat.reset_index(drop=False)\n",
    "    df_feat[\"file\"] = df_feat[\"file\"].astype(\"str\")\n",
    "\n",
    "    # df_feat[\"fileName\"] = f.name\n",
    "    df_feat[\"pic_name\"] = f.name.split(\"__\")[0]\n",
    "    df_feat[\"time_str\"] = f.name.split(\"__\")[1].split('.')[0]\n",
    "    df_feat[\"DB\"] = f.parent.name\n",
    "    df_feat[\"ID\"] = f.parent.parent.name.split('__')[-1]\n",
    "    return df_feat\n",
    "\n",
    "def _extract_opensmile_f(file: Path) -> Tuple[pd.DataFrame, ...]:\n",
    "    # calculate the global utterance features\n",
    "    return (\n",
    "        _extract_parse_smile_df(func_gemaps, f=file),\n",
    "        _extract_parse_smile_df(lld_gemaps, f=file),\n",
    "        _extract_parse_smile_df(lld_compare, f=file),\n",
    "    )\n",
    "\n",
    "out = None\n",
    "with Pool(processes=3) as pool:\n",
    "    wav_files = list(speech_data_session_dir.glob(\"*/*/*.wav\"))\n",
    "    results = pool.imap_unordered(_extract_opensmile_f, wav_files)\n",
    "    results = tqdm(results, total=len(wav_files))\n",
    "    try:\n",
    "        out = [f for f in results]\n",
    "    except:\n",
    "        traceback.print_exc()\n",
    "        pool.terminate()\n",
    "    finally:\n",
    "        pool.close()\n",
    "        pool.join()\n",
    "\n",
    "def _parse_concat_df(df_conc: pd.DataFrame) -> pd.DataFrame:\n",
    "    df_conc[\"DB\"] = df_conc[\"DB\"].astype(\"category\")\n",
    "    df_conc[\"pic_name\"] = df_conc[\"pic_name\"].astype(\"category\")\n",
    "    df_conc[\"ID\"] = df_conc[\"ID\"].astype(\"category\")\n",
    "    return df_conc\n",
    "\n",
    "\n",
    "df_gemaps_func = _parse_concat_df(pd.concat([o[0] for o in out], ignore_index=True))\n",
    "df_gemaps_lld = _parse_concat_df(pd.concat([o[1] for o in out], ignore_index=True))\n",
    "df_compare_lld = _parse_concat_df(pd.concat([o[2] for o in out], ignore_index=True))\n",
    "\n",
    "del (\n",
    "    out,\n",
    "    _extract_opensmile_f,\n",
    "    _parse_concat_df,\n",
    "    _extract_parse_smile_df,\n",
    ")"
   ]
  },
  {
   "cell_type": "markdown",
   "metadata": {
    "tags": []
   },
   "source": [
    "## Extract `F0`-range from the LLD's"
   ]
  },
  {
   "cell_type": "code",
   "execution_count": null,
   "metadata": {
    "execution": {
     "iopub.execute_input": "2022-02-09T09:49:16.007098Z",
     "iopub.status.busy": "2022-02-09T09:49:16.006539Z",
     "iopub.status.idle": "2022-02-09T09:49:16.054033Z",
     "shell.execute_reply": "2022-02-09T09:49:16.053347Z",
     "shell.execute_reply.started": "2022-02-09T09:49:16.007045Z"
    },
    "tags": []
   },
   "outputs": [],
   "source": [
    "import numpy as np\n",
    "from tsflex.features import FuncWrapper\n",
    "from tsflex.features.utils import make_robust"
   ]
  },
  {
   "cell_type": "code",
   "execution_count": null,
   "metadata": {
    "execution": {
     "iopub.execute_input": "2022-02-09T09:49:16.787763Z",
     "iopub.status.busy": "2022-02-09T09:49:16.787347Z",
     "iopub.status.idle": "2022-02-09T09:49:16.822068Z",
     "shell.execute_reply": "2022-02-09T09:49:16.821445Z",
     "shell.execute_reply.started": "2022-02-09T09:49:16.787712Z"
    },
    "tags": []
   },
   "outputs": [],
   "source": [
    "def quantile_nz(a: np.ndarray, q=List[float]) -> List[Optional[float]]:\n",
    "    a_nz = a[a > 0]\n",
    "    if len(a_nz):\n",
    "        return np.quantile(a_nz, q=q)\n",
    "    else:\n",
    "        return [None] * len(q)\n",
    "\n",
    "\n",
    "def nonzero_count(a: np.ndarray) -> int:\n",
    "    return sum(a > 0)\n",
    "\n",
    "\n",
    "def return_func_series_list(a: np.ndarray, f_list: List[FuncWrapper]) -> pd.Series:\n",
    "    s = pd.Series(dtype=\"float64\")\n",
    "    for f in f_list:\n",
    "        s = pd.concat([s, pd.Series(data=f(a), index=f.output_names)])\n",
    "    return s.sort_index()\n",
    "\n",
    "\n",
    "qs = sum([[1 - q, q] for q in [0, 0.01, 0.02, 0.03, 0.05, 0.1, 0.15, 0.2]], []) + [0.5]\n",
    "display(str(qs))"
   ]
  },
  {
   "cell_type": "markdown",
   "metadata": {},
   "source": [
    "### GeMAPS LLD"
   ]
  },
  {
   "cell_type": "code",
   "execution_count": null,
   "metadata": {
    "execution": {
     "iopub.execute_input": "2022-02-09T09:49:20.489458Z",
     "iopub.status.busy": "2022-02-09T09:49:20.488922Z",
     "iopub.status.idle": "2022-02-09T09:49:21.032381Z",
     "shell.execute_reply": "2022-02-09T09:49:21.031864Z",
     "shell.execute_reply.started": "2022-02-09T09:49:20.489416Z"
    },
    "tags": []
   },
   "outputs": [],
   "source": [
    "df_gemaps_lld.filter(like=\"F0\").columns\n",
    "# logRelF0-H1-H2_sma3nz -> log freq difference between the harmonics\n",
    "# SMA -> moving average window\n",
    "# NZ -> no-zero"
   ]
  },
  {
   "cell_type": "code",
   "execution_count": null,
   "metadata": {
    "execution": {
     "iopub.execute_input": "2022-02-09T09:53:29.792707Z",
     "iopub.status.busy": "2022-02-09T09:53:29.792292Z",
     "iopub.status.idle": "2022-02-09T09:53:44.457047Z",
     "shell.execute_reply": "2022-02-09T09:53:44.456392Z",
     "shell.execute_reply.started": "2022-02-09T09:53:29.792663Z"
    },
    "tags": []
   },
   "outputs": [],
   "source": [
    "# define the signal on which the function will be performed, and the functions\n",
    "s_name = \"F0semitoneFrom27.5Hz_sma3nz\"\n",
    "\n",
    "f_gemaps_lld_funcs: List[FuncWrapper] = [\n",
    "    make_robust(\n",
    "        FuncWrapper(quantile_nz, output_names=[s_name + f\"_q={q}\" for q in qs], q=qs),\n",
    "        min_nb_samples=3,\n",
    "        passthrough_nans=False,\n",
    "    ),\n",
    "    make_robust(FuncWrapper(nonzero_count, output_names=[f\"{s_name}_nzcount\"])),\n",
    "]\n",
    "\n",
    "# Apply the functions on each group\n",
    "df_gemaps_lld_F0 = (\n",
    "    df_gemaps_lld.groupby(by=[\"file\"])[[s_name]]\n",
    "    .apply(lambda x: return_func_series_list(x.values, f_list=f_gemaps_lld_funcs))\n",
    "    .reset_index()\n",
    ")\n",
    "display(df_gemaps_lld_F0)"
   ]
  },
  {
   "cell_type": "markdown",
   "metadata": {},
   "source": [
    "### ComPaRE LLD"
   ]
  },
  {
   "cell_type": "code",
   "execution_count": null,
   "metadata": {
    "execution": {
     "iopub.execute_input": "2022-02-09T09:54:19.598492Z",
     "iopub.status.busy": "2022-02-09T09:54:19.597881Z",
     "iopub.status.idle": "2022-02-09T09:54:19.646651Z",
     "shell.execute_reply": "2022-02-09T09:54:19.645985Z",
     "shell.execute_reply.started": "2022-02-09T09:54:19.598430Z"
    },
    "tags": []
   },
   "outputs": [],
   "source": [
    "df_compare_lld.filter(like=\"F0\").columns"
   ]
  },
  {
   "cell_type": "code",
   "execution_count": null,
   "metadata": {
    "execution": {
     "iopub.execute_input": "2022-02-09T09:55:09.313508Z",
     "iopub.status.busy": "2022-02-09T09:55:09.313219Z",
     "iopub.status.idle": "2022-02-09T09:55:24.364027Z",
     "shell.execute_reply": "2022-02-09T09:55:24.363446Z",
     "shell.execute_reply.started": "2022-02-09T09:55:09.313478Z"
    },
    "tags": []
   },
   "outputs": [],
   "source": [
    "s_name = \"F0final_sma\"\n",
    "\n",
    "f_compare_lld_funcs: List[FuncWrapper] = [\n",
    "    make_robust(\n",
    "        FuncWrapper(quantile_nz, output_names=[s_name + f\"_q={q}\" for q in qs], q=qs),\n",
    "        min_nb_samples=3,\n",
    "        passthrough_nans=False,\n",
    "    ),\n",
    "    make_robust(FuncWrapper(nonzero_count, output_names=[f\"{s_name}_nzcount\"])),\n",
    "]\n",
    "\n",
    "df_compare_lld_F0 = (\n",
    "    df_compare_lld.groupby(by=[\"file\"])[[s_name]]\n",
    "    .apply(lambda x: return_func_series_list(x.values, f_list=f_compare_lld_funcs))\n",
    "    .reset_index()\n",
    ")\n",
    "display(df_compare_lld_F0)"
   ]
  },
  {
   "cell_type": "code",
   "execution_count": null,
   "metadata": {
    "execution": {
     "iopub.execute_input": "2022-02-09T09:55:34.124726Z",
     "iopub.status.busy": "2022-02-09T09:55:34.124183Z",
     "iopub.status.idle": "2022-02-09T09:55:34.152542Z",
     "shell.execute_reply": "2022-02-09T09:55:34.151841Z",
     "shell.execute_reply.started": "2022-02-09T09:55:34.124665Z"
    },
    "tags": []
   },
   "outputs": [],
   "source": [
    "del df_compare_lld, df_gemaps_lld"
   ]
  },
  {
   "cell_type": "markdown",
   "metadata": {
    "jp-MarkdownHeadingCollapsed": true,
    "tags": []
   },
   "source": [
    "# Join into one big dataframe"
   ]
  },
  {
   "cell_type": "code",
   "execution_count": null,
   "metadata": {
    "execution": {
     "iopub.execute_input": "2022-02-09T10:04:05.875191Z",
     "iopub.status.busy": "2022-02-09T10:04:05.874906Z",
     "iopub.status.idle": "2022-02-09T10:04:06.037886Z",
     "shell.execute_reply": "2022-02-09T10:04:06.037178Z",
     "shell.execute_reply.started": "2022-02-09T10:04:05.875162Z"
    },
    "tags": []
   },
   "outputs": [],
   "source": [
    "df_feat_tot = df_gemaps_func.merge(\n",
    "    df_gemaps_lld_F0,\n",
    "    on=[\"file\"],\n",
    ").merge(df_compare_lld_F0, on=[\"file\"])\n",
    "\n",
    "display(df_feat_tot)\n",
    "\n",
    "df_feat_tot.to_parquet(loc_data_dir.joinpath(\"df_speech_feat_tot.parquet\"), engine='fastparquet')"
   ]
  },
  {
   "cell_type": "markdown",
   "metadata": {},
   "source": [
    "---"
   ]
  },
  {
   "cell_type": "code",
   "execution_count": null,
   "metadata": {
    "execution": {
     "iopub.execute_input": "2022-02-09T10:01:47.430723Z",
     "iopub.status.busy": "2022-02-09T10:01:47.430374Z",
     "iopub.status.idle": "2022-02-09T10:01:47.456294Z",
     "shell.execute_reply": "2022-02-09T10:01:47.455661Z",
     "shell.execute_reply.started": "2022-02-09T10:01:47.430692Z"
    },
    "tags": []
   },
   "outputs": [],
   "source": [
    "df_feat_tot['file'].map(lambda x: '/'.join(x.split('/')[-3:]))"
   ]
  },
  {
   "cell_type": "code",
   "execution_count": null,
   "metadata": {
    "execution": {
     "iopub.execute_input": "2022-02-09T10:01:32.786952Z",
     "iopub.status.busy": "2022-02-09T10:01:32.786391Z",
     "iopub.status.idle": "2022-02-09T10:01:32.824703Z",
     "shell.execute_reply": "2022-02-09T10:01:32.824068Z",
     "shell.execute_reply.started": "2022-02-09T10:01:32.786891Z"
    },
    "tags": []
   },
   "outputs": [],
   "source": [
    "df_feat_tot[['file', 'DB', 'pic_name', 'time_str', 'ID']]"
   ]
  }
 ],
 "metadata": {
  "interpreter": {
   "hash": "bba0c1e2ef9ce8746a430fcf266d4e161334d1b46a64234726800d3acbaeec47"
  },
  "kernelspec": {
   "display_name": "sgs",
   "language": "python",
   "name": "python3"
  },
  "language_info": {
   "codemirror_mode": {
    "name": "ipython",
    "version": 3
   },
   "file_extension": ".py",
   "mimetype": "text/x-python",
   "name": "python",
   "nbconvert_exporter": "python",
   "pygments_lexer": "ipython3",
   "version": "3.8.13"
  }
 },
 "nbformat": 4,
 "nbformat_minor": 4
}
