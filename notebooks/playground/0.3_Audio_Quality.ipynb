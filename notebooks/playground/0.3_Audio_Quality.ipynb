{
 "cells": [
  {
   "cell_type": "markdown",
   "metadata": {},
   "source": [
    "TODO:\n",
    "\n",
    "- [x] Validate the duration of the audio files\n",
    "* Process the audio files and inspect for audio quality\n",
    "* Analyze duration per image"
   ]
  },
  {
   "cell_type": "code",
   "execution_count": 1,
   "metadata": {
    "tags": []
   },
   "outputs": [],
   "source": [
    "# %pip install \"git+https://github.com/aliutkus/speechmetrics#egg=speechmetrics[cpu]\""
   ]
  },
  {
   "cell_type": "code",
   "execution_count": 2,
   "metadata": {},
   "outputs": [],
   "source": [
    "%load_ext autoreload\n",
    "%autoreload 2"
   ]
  },
  {
   "cell_type": "code",
   "execution_count": 3,
   "metadata": {},
   "outputs": [
    {
     "ename": "ModuleNotFoundError",
     "evalue": "No module named 'sgs_utils'",
     "output_type": "error",
     "traceback": [
      "\u001b[0;31m---------------------------------------------------------------------------\u001b[0m",
      "\u001b[0;31mModuleNotFoundError\u001b[0m                       Traceback (most recent call last)",
      "\u001b[1;32m/home/jonas/git/github/semi-guided-speech/notebooks/playground/0.3_Audio_Quality.ipynb Cell 4\u001b[0m in \u001b[0;36m<module>\u001b[0;34m\u001b[0m\n\u001b[1;32m     <a href='vscode-notebook-cell://ssh-remote%2Bgecko/home/jonas/git/github/semi-guided-speech/notebooks/playground/0.3_Audio_Quality.ipynb#W3sdnNjb2RlLXJlbW90ZQ%3D%3D?line=9'>10</a>\u001b[0m \u001b[39mfrom\u001b[39;00m \u001b[39mtqdm\u001b[39;00m\u001b[39m.\u001b[39;00m\u001b[39mauto\u001b[39;00m \u001b[39mimport\u001b[39;00m tqdm\n\u001b[1;32m     <a href='vscode-notebook-cell://ssh-remote%2Bgecko/home/jonas/git/github/semi-guided-speech/notebooks/playground/0.3_Audio_Quality.ipynb#W3sdnNjb2RlLXJlbW90ZQ%3D%3D?line=11'>12</a>\u001b[0m sys\u001b[39m.\u001b[39mpath\u001b[39m.\u001b[39mappend(\u001b[39m\"\u001b[39m\u001b[39m..\u001b[39m\u001b[39m\"\u001b[39m)\n\u001b[0;32m---> <a href='vscode-notebook-cell://ssh-remote%2Bgecko/home/jonas/git/github/semi-guided-speech/notebooks/playground/0.3_Audio_Quality.ipynb#W3sdnNjb2RlLXJlbW90ZQ%3D%3D?line=12'>13</a>\u001b[0m \u001b[39mfrom\u001b[39;00m \u001b[39msgs_utils\u001b[39;00m\u001b[39m.\u001b[39;00m\u001b[39mpath_conf\u001b[39;00m \u001b[39mimport\u001b[39;00m (\n\u001b[1;32m     <a href='vscode-notebook-cell://ssh-remote%2Bgecko/home/jonas/git/github/semi-guided-speech/notebooks/playground/0.3_Audio_Quality.ipynb#W3sdnNjb2RlLXJlbW90ZQ%3D%3D?line=13'>14</a>\u001b[0m     loc_data_dir,\n\u001b[1;32m     <a href='vscode-notebook-cell://ssh-remote%2Bgecko/home/jonas/git/github/semi-guided-speech/notebooks/playground/0.3_Audio_Quality.ipynb#W3sdnNjb2RlLXJlbW90ZQ%3D%3D?line=14'>15</a>\u001b[0m     speech_data_root_dir,\n\u001b[1;32m     <a href='vscode-notebook-cell://ssh-remote%2Bgecko/home/jonas/git/github/semi-guided-speech/notebooks/playground/0.3_Audio_Quality.ipynb#W3sdnNjb2RlLXJlbW90ZQ%3D%3D?line=15'>16</a>\u001b[0m     interim_speech_data_dir,\n\u001b[1;32m     <a href='vscode-notebook-cell://ssh-remote%2Bgecko/home/jonas/git/github/semi-guided-speech/notebooks/playground/0.3_Audio_Quality.ipynb#W3sdnNjb2RlLXJlbW90ZQ%3D%3D?line=16'>17</a>\u001b[0m )\n\u001b[1;32m     <a href='vscode-notebook-cell://ssh-remote%2Bgecko/home/jonas/git/github/semi-guided-speech/notebooks/playground/0.3_Audio_Quality.ipynb#W3sdnNjb2RlLXJlbW90ZQ%3D%3D?line=17'>18</a>\u001b[0m \u001b[39mfrom\u001b[39;00m \u001b[39msgs_utils\u001b[39;00m\u001b[39m.\u001b[39;00m\u001b[39mspeech_metrics\u001b[39;00m \u001b[39mimport\u001b[39;00m srmr\n\u001b[1;32m     <a href='vscode-notebook-cell://ssh-remote%2Bgecko/home/jonas/git/github/semi-guided-speech/notebooks/playground/0.3_Audio_Quality.ipynb#W3sdnNjb2RlLXJlbW90ZQ%3D%3D?line=19'>20</a>\u001b[0m speech_data_session_dir \u001b[39m=\u001b[39m speech_data_root_dir\u001b[39m.\u001b[39mjoinpath(\u001b[39m\"\u001b[39m\u001b[39mbackup\u001b[39m\u001b[39m\"\u001b[39m)\n",
      "\u001b[0;31mModuleNotFoundError\u001b[0m: No module named 'sgs_utils'"
     ]
    }
   ],
   "source": [
    "import sys\n",
    "import traceback\n",
    "from pathlib import Path\n",
    "\n",
    "import librosa\n",
    "import pandas as pd\n",
    "import numpy as np\n",
    "import seaborn as sn\n",
    "import speechmetrics as sm\n",
    "from tqdm.auto import tqdm\n",
    "\n",
    "sys.path.append(\"..\")\n",
    "from sgs_utils.path_conf import (\n",
    "    loc_data_dir,\n",
    "    speech_data_root_dir,\n",
    "    interim_speech_data_dir,\n",
    ")\n",
    "from sgs_utils.speech_metrics import srmr\n",
    "\n",
    "speech_data_session_dir = speech_data_root_dir.joinpath(\"backup\")\n",
    "\n",
    "pd.options.display.max_rows = 80\n",
    "pd.options.display.max_columns = None\n"
   ]
  },
  {
   "cell_type": "code",
   "execution_count": null,
   "metadata": {},
   "outputs": [],
   "source": [
    "df_session = pd.read_parquet(loc_data_dir.joinpath(\"df_session_tot_cleaned.parquet\"))\n"
   ]
  },
  {
   "cell_type": "markdown",
   "metadata": {
    "tags": []
   },
   "source": [
    "## Extracting the metrics"
   ]
  },
  {
   "cell_type": "code",
   "execution_count": 6,
   "metadata": {},
   "outputs": [
    {
     "ename": "",
     "evalue": "",
     "output_type": "error",
     "traceback": [
      "\u001b[1;31mCanceled future for execute_request message before replies were done"
     ]
    },
    {
     "ename": "",
     "evalue": "",
     "output_type": "error",
     "traceback": [
      "\u001b[1;31mThe Kernel crashed while executing code in the the current cell or a previous cell. Please review the code in the cell(s) to identify a possible cause of the failure. Click <a href='https://aka.ms/vscodeJupyterKernelCrash'>here</a> for more info. View Jupyter <a href='command:jupyter.viewOutput'>log</a> for further details."
     ]
    }
   ],
   "source": [
    "metrics = sm.load(\"absolute\", window=2)\n"
   ]
  },
  {
   "cell_type": "code",
   "execution_count": null,
   "metadata": {
    "tags": []
   },
   "outputs": [],
   "source": [
    "def get_metric_dict(r: pd.Series):\n",
    "    if r.wav_duration_s < 5:\n",
    "        return {}\n",
    "    try:\n",
    "        # We will extract the speech metrics on the 16kHz 32-bit float WAV audio\n",
    "        wav_path: Path = list(\n",
    "            (interim_speech_data_dir / \"full_dur_16khz\").glob(\n",
    "                f\"*{r.ID}/{r.DB}/{r.pic_name}__{r.time_str}.wav\"\n",
    "            )\n",
    "        )[0]\n",
    "        metric_dict = metrics(str(wav_path), rate=r.wav_sample_rate)\n",
    "\n",
    "        metric_dict = {\n",
    "            f\"{k}_{i}\": v[i] for k, v in metric_dict.items() for i in range(len(v))\n",
    "        }\n",
    "\n",
    "        # will be used to merge\n",
    "        metric_dict[\"ID\"] = r.ID\n",
    "        metric_dict[\"DB\"] = r.DB\n",
    "        metric_dict[\"time_str\"] = r.time_str\n",
    "\n",
    "        # also use the SRMR form srmrpy\n",
    "        # wav, sr = np.load(wav_path.parent / (wav_path.stem + \".npy\")).ravel(), 16_000\n",
    "        # metric_dict[\"srmrpy\"] = srmr(wav, sr)\n",
    "    except:\n",
    "        traceback.print_exc()\n",
    "    return {}\n",
    "\n",
    "\n"
   ]
  },
  {
   "cell_type": "code",
   "execution_count": null,
   "metadata": {},
   "outputs": [
    {
     "data": {
      "application/vnd.jupyter.widget-view+json": {
       "model_id": "0c39fa7306194bc99ffb43f6e61e68bd",
       "version_major": 2,
       "version_minor": 0
      },
      "text/plain": [
       "  0%|          | 0/3257 [00:00<?, ?it/s]"
      ]
     },
     "metadata": {},
     "output_type": "display_data"
    }
   ],
   "source": [
    "metric_dict_list = []\n",
    "for _, r in tqdm(df_session.iterrows(), total=len(df_session)):\n",
    "    metric_dict_list.append(get_metric_dict(r))\n",
    "    break"
   ]
  },
  {
   "cell_type": "code",
   "execution_count": 17,
   "metadata": {},
   "outputs": [],
   "source": [
    "df_metric = pd.DataFrame(metric_dict_list)\n",
    "# del wav_path, metric_dict, metric_list, r\n",
    "\n",
    "df_metric.to_parquet(loc_data_dir.joinpath(\"df_metric_2s.parquet\"))\n"
   ]
  },
  {
   "cell_type": "markdown",
   "metadata": {},
   "source": [
    "## Analyzing the metrics"
   ]
  },
  {
   "cell_type": "code",
   "execution_count": 7,
   "metadata": {},
   "outputs": [],
   "source": [
    "df_metric_2s = pd.read_parquet(loc_data_dir.joinpath(\"df_metric_2s.parquet\"))\n",
    "df_metric_5s = pd.read_parquet(loc_data_dir.joinpath(\"df_metric_5s.parquet\"))\n"
   ]
  },
  {
   "cell_type": "code",
   "execution_count": 19,
   "metadata": {},
   "outputs": [],
   "source": [
    "df_metric[\"nb_metrics\"] = df_metric.filter(like=\"srmr_\").apply(\n",
    "    lambda x: sum(x.notna()), axis=1\n",
    ")\n"
   ]
  },
  {
   "cell_type": "code",
   "execution_count": 20,
   "metadata": {},
   "outputs": [
    {
     "ename": "KeyError",
     "evalue": "'ID'",
     "output_type": "error",
     "traceback": [
      "\u001b[0;31m---------------------------------------------------------------------------\u001b[0m",
      "\u001b[0;31mKeyError\u001b[0m                                  Traceback (most recent call last)",
      "Input \u001b[0;32mIn [20]\u001b[0m, in \u001b[0;36m<module>\u001b[0;34m\u001b[0m\n\u001b[0;32m----> 1\u001b[0m df_session_metric \u001b[38;5;241m=\u001b[39m \u001b[43mpd\u001b[49m\u001b[38;5;241;43m.\u001b[39;49m\u001b[43mmerge\u001b[49m\u001b[43m(\u001b[49m\n\u001b[1;32m      2\u001b[0m \u001b[43m    \u001b[49m\u001b[43mdf_session\u001b[49m\u001b[43m,\u001b[49m\u001b[43m \u001b[49m\u001b[43mdf_metric\u001b[49m\u001b[43m,\u001b[49m\u001b[43m \u001b[49m\u001b[43mon\u001b[49m\u001b[38;5;241;43m=\u001b[39;49m\u001b[43m[\u001b[49m\u001b[38;5;124;43m\"\u001b[39;49m\u001b[38;5;124;43mID\u001b[39;49m\u001b[38;5;124;43m\"\u001b[39;49m\u001b[43m,\u001b[49m\u001b[43m \u001b[49m\u001b[38;5;124;43m\"\u001b[39;49m\u001b[38;5;124;43mDB\u001b[39;49m\u001b[38;5;124;43m\"\u001b[39;49m\u001b[43m,\u001b[49m\u001b[43m \u001b[49m\u001b[38;5;124;43m\"\u001b[39;49m\u001b[38;5;124;43mtime_str\u001b[39;49m\u001b[38;5;124;43m\"\u001b[39;49m\u001b[43m]\u001b[49m\u001b[43m,\u001b[49m\u001b[43m \u001b[49m\u001b[43mhow\u001b[49m\u001b[38;5;241;43m=\u001b[39;49m\u001b[38;5;124;43m\"\u001b[39;49m\u001b[38;5;124;43mleft\u001b[39;49m\u001b[38;5;124;43m\"\u001b[39;49m\n\u001b[1;32m      3\u001b[0m \u001b[43m)\u001b[49m\n",
      "File \u001b[0;32m~/.cache/pypoetry/virtualenvs/semi-guided-speech-27YL4uf1-py3.8/lib/python3.8/site-packages/pandas/core/reshape/merge.py:107\u001b[0m, in \u001b[0;36mmerge\u001b[0;34m(left, right, how, on, left_on, right_on, left_index, right_index, sort, suffixes, copy, indicator, validate)\u001b[0m\n\u001b[1;32m     90\u001b[0m \u001b[38;5;129m@Substitution\u001b[39m(\u001b[38;5;124m\"\u001b[39m\u001b[38;5;130;01m\\n\u001b[39;00m\u001b[38;5;124mleft : DataFrame or named Series\u001b[39m\u001b[38;5;124m\"\u001b[39m)\n\u001b[1;32m     91\u001b[0m \u001b[38;5;129m@Appender\u001b[39m(_merge_doc, indents\u001b[38;5;241m=\u001b[39m\u001b[38;5;241m0\u001b[39m)\n\u001b[1;32m     92\u001b[0m \u001b[38;5;28;01mdef\u001b[39;00m \u001b[38;5;21mmerge\u001b[39m(\n\u001b[0;32m   (...)\u001b[0m\n\u001b[1;32m    105\u001b[0m     validate: \u001b[38;5;28mstr\u001b[39m \u001b[38;5;241m|\u001b[39m \u001b[38;5;28;01mNone\u001b[39;00m \u001b[38;5;241m=\u001b[39m \u001b[38;5;28;01mNone\u001b[39;00m,\n\u001b[1;32m    106\u001b[0m ) \u001b[38;5;241m-\u001b[39m\u001b[38;5;241m>\u001b[39m DataFrame:\n\u001b[0;32m--> 107\u001b[0m     op \u001b[38;5;241m=\u001b[39m \u001b[43m_MergeOperation\u001b[49m\u001b[43m(\u001b[49m\n\u001b[1;32m    108\u001b[0m \u001b[43m        \u001b[49m\u001b[43mleft\u001b[49m\u001b[43m,\u001b[49m\n\u001b[1;32m    109\u001b[0m \u001b[43m        \u001b[49m\u001b[43mright\u001b[49m\u001b[43m,\u001b[49m\n\u001b[1;32m    110\u001b[0m \u001b[43m        \u001b[49m\u001b[43mhow\u001b[49m\u001b[38;5;241;43m=\u001b[39;49m\u001b[43mhow\u001b[49m\u001b[43m,\u001b[49m\n\u001b[1;32m    111\u001b[0m \u001b[43m        \u001b[49m\u001b[43mon\u001b[49m\u001b[38;5;241;43m=\u001b[39;49m\u001b[43mon\u001b[49m\u001b[43m,\u001b[49m\n\u001b[1;32m    112\u001b[0m \u001b[43m        \u001b[49m\u001b[43mleft_on\u001b[49m\u001b[38;5;241;43m=\u001b[39;49m\u001b[43mleft_on\u001b[49m\u001b[43m,\u001b[49m\n\u001b[1;32m    113\u001b[0m \u001b[43m        \u001b[49m\u001b[43mright_on\u001b[49m\u001b[38;5;241;43m=\u001b[39;49m\u001b[43mright_on\u001b[49m\u001b[43m,\u001b[49m\n\u001b[1;32m    114\u001b[0m \u001b[43m        \u001b[49m\u001b[43mleft_index\u001b[49m\u001b[38;5;241;43m=\u001b[39;49m\u001b[43mleft_index\u001b[49m\u001b[43m,\u001b[49m\n\u001b[1;32m    115\u001b[0m \u001b[43m        \u001b[49m\u001b[43mright_index\u001b[49m\u001b[38;5;241;43m=\u001b[39;49m\u001b[43mright_index\u001b[49m\u001b[43m,\u001b[49m\n\u001b[1;32m    116\u001b[0m \u001b[43m        \u001b[49m\u001b[43msort\u001b[49m\u001b[38;5;241;43m=\u001b[39;49m\u001b[43msort\u001b[49m\u001b[43m,\u001b[49m\n\u001b[1;32m    117\u001b[0m \u001b[43m        \u001b[49m\u001b[43msuffixes\u001b[49m\u001b[38;5;241;43m=\u001b[39;49m\u001b[43msuffixes\u001b[49m\u001b[43m,\u001b[49m\n\u001b[1;32m    118\u001b[0m \u001b[43m        \u001b[49m\u001b[43mcopy\u001b[49m\u001b[38;5;241;43m=\u001b[39;49m\u001b[43mcopy\u001b[49m\u001b[43m,\u001b[49m\n\u001b[1;32m    119\u001b[0m \u001b[43m        \u001b[49m\u001b[43mindicator\u001b[49m\u001b[38;5;241;43m=\u001b[39;49m\u001b[43mindicator\u001b[49m\u001b[43m,\u001b[49m\n\u001b[1;32m    120\u001b[0m \u001b[43m        \u001b[49m\u001b[43mvalidate\u001b[49m\u001b[38;5;241;43m=\u001b[39;49m\u001b[43mvalidate\u001b[49m\u001b[43m,\u001b[49m\n\u001b[1;32m    121\u001b[0m \u001b[43m    \u001b[49m\u001b[43m)\u001b[49m\n\u001b[1;32m    122\u001b[0m     \u001b[38;5;28;01mreturn\u001b[39;00m op\u001b[38;5;241m.\u001b[39mget_result()\n",
      "File \u001b[0;32m~/.cache/pypoetry/virtualenvs/semi-guided-speech-27YL4uf1-py3.8/lib/python3.8/site-packages/pandas/core/reshape/merge.py:700\u001b[0m, in \u001b[0;36m_MergeOperation.__init__\u001b[0;34m(self, left, right, how, on, left_on, right_on, axis, left_index, right_index, sort, suffixes, copy, indicator, validate)\u001b[0m\n\u001b[1;32m    693\u001b[0m \u001b[38;5;28mself\u001b[39m\u001b[38;5;241m.\u001b[39m_cross \u001b[38;5;241m=\u001b[39m cross_col\n\u001b[1;32m    695\u001b[0m \u001b[38;5;66;03m# note this function has side effects\u001b[39;00m\n\u001b[1;32m    696\u001b[0m (\n\u001b[1;32m    697\u001b[0m     \u001b[38;5;28mself\u001b[39m\u001b[38;5;241m.\u001b[39mleft_join_keys,\n\u001b[1;32m    698\u001b[0m     \u001b[38;5;28mself\u001b[39m\u001b[38;5;241m.\u001b[39mright_join_keys,\n\u001b[1;32m    699\u001b[0m     \u001b[38;5;28mself\u001b[39m\u001b[38;5;241m.\u001b[39mjoin_names,\n\u001b[0;32m--> 700\u001b[0m ) \u001b[38;5;241m=\u001b[39m \u001b[38;5;28;43mself\u001b[39;49m\u001b[38;5;241;43m.\u001b[39;49m\u001b[43m_get_merge_keys\u001b[49m\u001b[43m(\u001b[49m\u001b[43m)\u001b[49m\n\u001b[1;32m    702\u001b[0m \u001b[38;5;66;03m# validate the merge keys dtypes. We may need to coerce\u001b[39;00m\n\u001b[1;32m    703\u001b[0m \u001b[38;5;66;03m# to avoid incompatible dtypes\u001b[39;00m\n\u001b[1;32m    704\u001b[0m \u001b[38;5;28mself\u001b[39m\u001b[38;5;241m.\u001b[39m_maybe_coerce_merge_keys()\n",
      "File \u001b[0;32m~/.cache/pypoetry/virtualenvs/semi-guided-speech-27YL4uf1-py3.8/lib/python3.8/site-packages/pandas/core/reshape/merge.py:1097\u001b[0m, in \u001b[0;36m_MergeOperation._get_merge_keys\u001b[0;34m(self)\u001b[0m\n\u001b[1;32m   1095\u001b[0m \u001b[38;5;28;01mif\u001b[39;00m \u001b[38;5;129;01mnot\u001b[39;00m is_rkey(rk):\n\u001b[1;32m   1096\u001b[0m     \u001b[38;5;28;01mif\u001b[39;00m rk \u001b[38;5;129;01mis\u001b[39;00m \u001b[38;5;129;01mnot\u001b[39;00m \u001b[38;5;28;01mNone\u001b[39;00m:\n\u001b[0;32m-> 1097\u001b[0m         right_keys\u001b[38;5;241m.\u001b[39mappend(\u001b[43mright\u001b[49m\u001b[38;5;241;43m.\u001b[39;49m\u001b[43m_get_label_or_level_values\u001b[49m\u001b[43m(\u001b[49m\u001b[43mrk\u001b[49m\u001b[43m)\u001b[49m)\n\u001b[1;32m   1098\u001b[0m     \u001b[38;5;28;01melse\u001b[39;00m:\n\u001b[1;32m   1099\u001b[0m         \u001b[38;5;66;03m# work-around for merge_asof(right_index=True)\u001b[39;00m\n\u001b[1;32m   1100\u001b[0m         right_keys\u001b[38;5;241m.\u001b[39mappend(right\u001b[38;5;241m.\u001b[39mindex)\n",
      "File \u001b[0;32m~/.cache/pypoetry/virtualenvs/semi-guided-speech-27YL4uf1-py3.8/lib/python3.8/site-packages/pandas/core/generic.py:1848\u001b[0m, in \u001b[0;36mNDFrame._get_label_or_level_values\u001b[0;34m(self, key, axis)\u001b[0m\n\u001b[1;32m   1846\u001b[0m     values \u001b[38;5;241m=\u001b[39m \u001b[38;5;28mself\u001b[39m\u001b[38;5;241m.\u001b[39maxes[axis]\u001b[38;5;241m.\u001b[39mget_level_values(key)\u001b[38;5;241m.\u001b[39m_values\n\u001b[1;32m   1847\u001b[0m \u001b[38;5;28;01melse\u001b[39;00m:\n\u001b[0;32m-> 1848\u001b[0m     \u001b[38;5;28;01mraise\u001b[39;00m \u001b[38;5;167;01mKeyError\u001b[39;00m(key)\n\u001b[1;32m   1850\u001b[0m \u001b[38;5;66;03m# Check for duplicates\u001b[39;00m\n\u001b[1;32m   1851\u001b[0m \u001b[38;5;28;01mif\u001b[39;00m values\u001b[38;5;241m.\u001b[39mndim \u001b[38;5;241m>\u001b[39m \u001b[38;5;241m1\u001b[39m:\n",
      "\u001b[0;31mKeyError\u001b[0m: 'ID'"
     ]
    }
   ],
   "source": [
    "df_session_metric = pd.merge(\n",
    "    df_session, df_metric, on=[\"ID\", \"DB\", \"time_str\"], how=\"left\"\n",
    ")\n"
   ]
  },
  {
   "cell_type": "code",
   "execution_count": null,
   "metadata": {},
   "outputs": [],
   "source": [
    "df_session_metric[\"wav_metric_ratio\"] = (\n",
    "    df_session_metric[\"wav_duration_s\"] / df_session_metric[\"nb_metrics\"]\n",
    ")\n"
   ]
  },
  {
   "cell_type": "markdown",
   "metadata": {},
   "source": [
    "It appears we have a metric each 5s of data"
   ]
  },
  {
   "cell_type": "code",
   "execution_count": null,
   "metadata": {},
   "outputs": [
    {
     "data": {
      "text/plain": [
       "<AxesSubplot:ylabel='Frequency'>"
      ]
     },
     "execution_count": 23,
     "metadata": {},
     "output_type": "execute_result"
    },
    {
     "data": {
      "image/png": "[encoded data removed]",
      "text/plain": [
       "<Figure size 432x288 with 1 Axes>"
      ]
     },
     "metadata": {
      "needs_background": "light"
     },
     "output_type": "display_data"
    }
   ],
   "source": [
    "df_session_metric[df_session_metric.wav_duration_s > 10].wav_metric_ratio.plot.hist()\n"
   ]
  },
  {
   "cell_type": "code",
   "execution_count": null,
   "metadata": {},
   "outputs": [
    {
     "data": {
      "text/plain": [
       "<AxesSubplot:ylabel='Frequency'>"
      ]
     },
     "execution_count": 24,
     "metadata": {},
     "output_type": "execute_result"
    },
    {
     "data": {
      "image/png": "[encoded data removed]",
      "text/plain": [
       "<Figure size 432x288 with 1 Axes>"
      ]
     },
     "metadata": {
      "needs_background": "light"
     },
     "output_type": "display_data"
    }
   ],
   "source": [
    "df_session_metric[\n",
    "    (df_session_metric.wav_duration_s > 5) & (df_session_metric.wav_duration_s < 9.9)\n",
    "].nb_metrics.plot.hist()\n"
   ]
  },
  {
   "cell_type": "code",
   "execution_count": null,
   "metadata": {},
   "outputs": [
    {
     "data": {
      "text/plain": [
       "<AxesSubplot:ylabel='Frequency'>"
      ]
     },
     "execution_count": 26,
     "metadata": {},
     "output_type": "execute_result"
    },
    {
     "data": {
      "image/png": "[encoded data removed]",
      "text/plain": [
       "<Figure size 432x288 with 1 Axes>"
      ]
     },
     "metadata": {
      "needs_background": "light"
     },
     "output_type": "display_data"
    }
   ],
   "source": [
    "df_session_metric[\n",
    "    (df_session_metric.wav_duration_s > 10) & (df_session_metric.wav_duration_s < 15)\n",
    "].nb_metrics.plot.hist()\n"
   ]
  },
  {
   "cell_type": "markdown",
   "metadata": {
    "tags": []
   },
   "source": [
    "### mosnet"
   ]
  },
  {
   "cell_type": "code",
   "execution_count": null,
   "metadata": {},
   "outputs": [
    {
     "data": {
      "text/plain": [
       "<AxesSubplot:ylabel='Density'>"
      ]
     },
     "execution_count": 28,
     "metadata": {},
     "output_type": "execute_result"
    },
    {
     "data": {
      "image/png": "[encoded data removed]",
      "text/plain": [
       "<Figure size 432x288 with 1 Axes>"
      ]
     },
     "metadata": {
      "needs_background": "light"
     },
     "output_type": "display_data"
    }
   ],
   "source": [
    "sn.kdeplot(df_metric.filter(like=\"mosnet\").values.ravel())\n"
   ]
  },
  {
   "cell_type": "code",
   "execution_count": null,
   "metadata": {},
   "outputs": [
    {
     "data": {
      "text/plain": [
       "<AxesSubplot:ylabel='Density'>"
      ]
     },
     "execution_count": 29,
     "metadata": {},
     "output_type": "execute_result"
    },
    {
     "data": {
      "image/png": "[encoded data removed]",
      "text/plain": [
       "<Figure size 432x288 with 1 Axes>"
      ]
     },
     "metadata": {
      "needs_background": "light"
     },
     "output_type": "display_data"
    }
   ],
   "source": [
    "df_metric.filter(like=\"mosnet\").mean(axis=1).plot.kde()\n"
   ]
  },
  {
   "cell_type": "code",
   "execution_count": null,
   "metadata": {},
   "outputs": [
    {
     "data": {
      "text/plain": [
       "<AxesSubplot:ylabel='Density'>"
      ]
     },
     "execution_count": 30,
     "metadata": {},
     "output_type": "execute_result"
    },
    {
     "data": {
      "image/png": "[encoded data removed]",
      "text/plain": [
       "<Figure size 432x288 with 1 Axes>"
      ]
     },
     "metadata": {
      "needs_background": "light"
     },
     "output_type": "display_data"
    }
   ],
   "source": [
    "sn.kdeplot(df_metric.filter(like=\"mosnet\").median(axis=1))\n"
   ]
  },
  {
   "cell_type": "code",
   "execution_count": null,
   "metadata": {},
   "outputs": [
    {
     "data": {
      "text/plain": [
       "<AxesSubplot:ylabel='Density'>"
      ]
     },
     "execution_count": 31,
     "metadata": {},
     "output_type": "execute_result"
    },
    {
     "data": {
      "image/png": "[encoded data removed]",
      "text/plain": [
       "<Figure size 432x288 with 1 Axes>"
      ]
     },
     "metadata": {
      "needs_background": "light"
     },
     "output_type": "display_data"
    }
   ],
   "source": [
    "sn.kdeplot(df_metric.filter(like=\"mosnet\").std(axis=1))\n"
   ]
  },
  {
   "cell_type": "markdown",
   "metadata": {
    "tags": []
   },
   "source": [
    "### srmr"
   ]
  },
  {
   "cell_type": "code",
   "execution_count": null,
   "metadata": {},
   "outputs": [
    {
     "data": {
      "text/plain": [
       "<AxesSubplot:ylabel='Density'>"
      ]
     },
     "execution_count": 32,
     "metadata": {},
     "output_type": "execute_result"
    },
    {
     "data": {
      "image/png": "[encoded data removed]",
      "text/plain": [
       "<Figure size 432x288 with 1 Axes>"
      ]
     },
     "metadata": {
      "needs_background": "light"
     },
     "output_type": "display_data"
    }
   ],
   "source": [
    "sn.kdeplot(df_metric.filter(like=\"srmr_\").min(axis=1))\n"
   ]
  },
  {
   "cell_type": "code",
   "execution_count": null,
   "metadata": {},
   "outputs": [
    {
     "data": {
      "text/plain": [
       "<AxesSubplot:ylabel='Density'>"
      ]
     },
     "execution_count": 33,
     "metadata": {},
     "output_type": "execute_result"
    },
    {
     "data": {
      "image/png": "[encoded data removed]",
      "text/plain": [
       "<Figure size 432x288 with 1 Axes>"
      ]
     },
     "metadata": {
      "needs_background": "light"
     },
     "output_type": "display_data"
    }
   ],
   "source": [
    "sn.kdeplot(\n",
    "    df_metric[df_metric.filter(like=\"srmr_\").max(axis=1) < 25]\n",
    "    .filter(like=\"srmr\")\n",
    "    .max(axis=1)\n",
    ")\n"
   ]
  },
  {
   "cell_type": "code",
   "execution_count": null,
   "metadata": {},
   "outputs": [
    {
     "data": {
      "text/plain": [
       "<AxesSubplot:ylabel='Density'>"
      ]
     },
     "execution_count": 34,
     "metadata": {},
     "output_type": "execute_result"
    },
    {
     "data": {
      "image/png": "[encoded data removed]",
      "text/plain": [
       "<Figure size 432x288 with 1 Axes>"
      ]
     },
     "metadata": {
      "needs_background": "light"
     },
     "output_type": "display_data"
    }
   ],
   "source": [
    "sn.kdeplot(df_metric.filter(like=\"srmr_\").median(axis=1))\n"
   ]
  },
  {
   "cell_type": "markdown",
   "metadata": {},
   "source": [
    "### Alternative srmr implementation"
   ]
  },
  {
   "cell_type": "code",
   "execution_count": null,
   "metadata": {},
   "outputs": [
    {
     "data": {
      "text/plain": [
       "<AxesSubplot:xlabel='srmrpy', ylabel='Density'>"
      ]
     },
     "execution_count": 42,
     "metadata": {},
     "output_type": "execute_result"
    },
    {
     "data": {
      "image/png": "[encoded data removed]",
      "text/plain": [
       "<Figure size 432x288 with 1 Axes>"
      ]
     },
     "metadata": {
      "needs_background": "light"
     },
     "output_type": "display_data"
    }
   ],
   "source": [
    "sn.kdeplot(df_metric[\"srmrpy\"])\n"
   ]
  },
  {
   "cell_type": "code",
   "execution_count": null,
   "metadata": {},
   "outputs": [],
   "source": [
    "from scipy.stats import pearsonr\n"
   ]
  },
  {
   "cell_type": "code",
   "execution_count": null,
   "metadata": {},
   "outputs": [],
   "source": [
    "nan_mask = df_metric.filter(like=\"srmrpy\").isna().any(axis=1)\n"
   ]
  },
  {
   "cell_type": "code",
   "execution_count": null,
   "metadata": {},
   "outputs": [
    {
     "data": {
      "text/plain": [
       "(0.6434067868513174, 0.0)"
      ]
     },
     "execution_count": 67,
     "metadata": {},
     "output_type": "execute_result"
    }
   ],
   "source": [
    "pearsonr(\n",
    "    df_metric[~nan_mask][\"srmrpy\"].values,\n",
    "    df_metric[~nan_mask].filter(like=\"srmr_\").min(axis=1).values,\n",
    ")\n"
   ]
  },
  {
   "cell_type": "code",
   "execution_count": null,
   "metadata": {},
   "outputs": [
    {
     "data": {
      "text/plain": [
       "(0.28812096625801936, 5.410514388931635e-62)"
      ]
     },
     "execution_count": 73,
     "metadata": {},
     "output_type": "execute_result"
    }
   ],
   "source": [
    "pearsonr(\n",
    "    df_metric[~nan_mask][\"srmrpy\"].values,\n",
    "    df_metric[~nan_mask].filter(like=\"srmr_\").mean(axis=1).values,\n",
    ")\n"
   ]
  },
  {
   "cell_type": "markdown",
   "metadata": {},
   "source": [
    "## Filtering df session metric"
   ]
  },
  {
   "cell_type": "code",
   "execution_count": null,
   "metadata": {},
   "outputs": [
    {
     "data": {
      "text/html": [
       "<div>\n",
       "<style scoped>\n",
       "    .dataframe tbody tr th:only-of-type {\n",
       "        vertical-align: middle;\n",
       "    }\n",
       "\n",
       "    .dataframe tbody tr th {\n",
       "        vertical-align: top;\n",
       "    }\n",
       "\n",
       "    .dataframe thead th {\n",
       "        text-align: right;\n",
       "    }\n",
       "</style>\n",
       "<table border=\"1\" class=\"dataframe\">\n",
       "  <thead>\n",
       "    <tr style=\"text-align: right;\">\n",
       "      <th></th>\n",
       "      <th>ID</th>\n",
       "      <th>timestamp</th>\n",
       "      <th>DB</th>\n",
       "      <th>pic_name</th>\n",
       "      <th>time_str</th>\n",
       "      <th>srmrpy</th>\n",
       "      <th>wav_duration_s</th>\n",
       "    </tr>\n",
       "  </thead>\n",
       "  <tbody>\n",
       "    <tr>\n",
       "      <th>2725</th>\n",
       "      <td>d7fbc4b9-5f94-4639-b82b-6b1592b2ad3a</td>\n",
       "      <td>2022-06-29 19:34:02.048344+02:00</td>\n",
       "      <td>Radboud</td>\n",
       "      <td>Rafd090_02_Caucasian_female_neutral_frontal</td>\n",
       "      <td>19:52:41</td>\n",
       "      <td>0.716819</td>\n",
       "      <td>41.81</td>\n",
       "    </tr>\n",
       "  </tbody>\n",
       "</table>\n",
       "</div>"
      ],
      "text/plain": [
       "                                        ID                        timestamp  \\\n",
       "2725  d7fbc4b9-5f94-4639-b82b-6b1592b2ad3a 2022-06-29 19:34:02.048344+02:00   \n",
       "\n",
       "           DB                                     pic_name  time_str  \\\n",
       "2725  Radboud  Rafd090_02_Caucasian_female_neutral_frontal  19:52:41   \n",
       "\n",
       "        srmrpy  wav_duration_s  \n",
       "2725  0.716819           41.81  "
      ]
     },
     "execution_count": 81,
     "metadata": {},
     "output_type": "execute_result"
    }
   ],
   "source": [
    "df_session_metric[\n",
    "    (df_session_metric.wav_duration_s > 15)\n",
    "    & (df_session_metric[\"srmrpy\"] < 0.8)\n",
    "    & ~(\n",
    "        (df_session_metric.filter(like=\"mosnet\").mean(axis=1) < 2)\n",
    "        | (df_session_metric.filter(like=\"mosnet\").min(axis=1) < 1.5)\n",
    "        | (df_session_metric.filter(like=\"srmr_\").median(axis=1) < 0.5)\n",
    "    )\n",
    "][[\"ID\", \"timestamp\", \"DB\", \"pic_name\", \"time_str\", \"srmrpy\", \"wav_duration_s\"]]\n"
   ]
  },
  {
   "cell_type": "code",
   "execution_count": null,
   "metadata": {},
   "outputs": [
    {
     "data": {
      "text/html": [
       "<div>\n",
       "<style scoped>\n",
       "    .dataframe tbody tr th:only-of-type {\n",
       "        vertical-align: middle;\n",
       "    }\n",
       "\n",
       "    .dataframe tbody tr th {\n",
       "        vertical-align: top;\n",
       "    }\n",
       "\n",
       "    .dataframe thead th {\n",
       "        text-align: right;\n",
       "    }\n",
       "</style>\n",
       "<table border=\"1\" class=\"dataframe\">\n",
       "  <thead>\n",
       "    <tr style=\"text-align: right;\">\n",
       "      <th></th>\n",
       "      <th>ID</th>\n",
       "      <th>timestamp</th>\n",
       "      <th>DB</th>\n",
       "      <th>pic_name</th>\n",
       "      <th>time_str</th>\n",
       "      <th>srmrpy</th>\n",
       "      <th>wav_duration_s</th>\n",
       "    </tr>\n",
       "  </thead>\n",
       "  <tbody>\n",
       "    <tr>\n",
       "      <th>0</th>\n",
       "      <td>099ceb4d-28f3-4b1f-8f8e-16b439a882f1</td>\n",
       "      <td>2022-06-27 16:42:13.679102+02:00</td>\n",
       "      <td>marloes</td>\n",
       "      <td>marloes</td>\n",
       "      <td>16:53:49</td>\n",
       "      <td>9.101357</td>\n",
       "      <td>24.41</td>\n",
       "    </tr>\n",
       "    <tr>\n",
       "      <th>1</th>\n",
       "      <td>099ceb4d-28f3-4b1f-8f8e-16b439a882f1</td>\n",
       "      <td>2022-06-27 16:42:13.679102+02:00</td>\n",
       "      <td>PiSCES</td>\n",
       "      <td>Picture 132</td>\n",
       "      <td>16:54:45</td>\n",
       "      <td>6.146323</td>\n",
       "      <td>44.29</td>\n",
       "    </tr>\n",
       "    <tr>\n",
       "      <th>2</th>\n",
       "      <td>099ceb4d-28f3-4b1f-8f8e-16b439a882f1</td>\n",
       "      <td>2022-06-27 16:42:13.679102+02:00</td>\n",
       "      <td>Radboud</td>\n",
       "      <td>Rafd090_01_Caucasian_female_neutral_frontal</td>\n",
       "      <td>16:56:01</td>\n",
       "      <td>5.427415</td>\n",
       "      <td>62.55</td>\n",
       "    </tr>\n",
       "    <tr>\n",
       "      <th>3</th>\n",
       "      <td>099ceb4d-28f3-4b1f-8f8e-16b439a882f1</td>\n",
       "      <td>2022-06-27 16:42:13.679102+02:00</td>\n",
       "      <td>PiSCES</td>\n",
       "      <td>Picture 56</td>\n",
       "      <td>16:57:23</td>\n",
       "      <td>11.052991</td>\n",
       "      <td>71.59</td>\n",
       "    </tr>\n",
       "    <tr>\n",
       "      <th>4</th>\n",
       "      <td>099ceb4d-28f3-4b1f-8f8e-16b439a882f1</td>\n",
       "      <td>2022-06-27 16:42:13.679102+02:00</td>\n",
       "      <td>Radboud</td>\n",
       "      <td>Rafd090_36_Caucasian_male_neutral_frontal</td>\n",
       "      <td>16:58:30</td>\n",
       "      <td>8.501714</td>\n",
       "      <td>56.75</td>\n",
       "    </tr>\n",
       "    <tr>\n",
       "      <th>...</th>\n",
       "      <td>...</td>\n",
       "      <td>...</td>\n",
       "      <td>...</td>\n",
       "      <td>...</td>\n",
       "      <td>...</td>\n",
       "      <td>...</td>\n",
       "      <td>...</td>\n",
       "    </tr>\n",
       "    <tr>\n",
       "      <th>3189</th>\n",
       "      <td>fb807c80-22cc-4964-81a0-8c732f572004</td>\n",
       "      <td>2020-12-14 16:26:16.730052+01:00</td>\n",
       "      <td>PiSCES</td>\n",
       "      <td>Picture 80</td>\n",
       "      <td>17:21:28</td>\n",
       "      <td>6.713475</td>\n",
       "      <td>54.95</td>\n",
       "    </tr>\n",
       "    <tr>\n",
       "      <th>3190</th>\n",
       "      <td>fb807c80-22cc-4964-81a0-8c732f572004</td>\n",
       "      <td>2020-12-14 16:26:16.730052+01:00</td>\n",
       "      <td>Radboud</td>\n",
       "      <td>Rafd090_36_Caucasian_male_neutral_frontal</td>\n",
       "      <td>17:22:45</td>\n",
       "      <td>6.780104</td>\n",
       "      <td>54.36</td>\n",
       "    </tr>\n",
       "    <tr>\n",
       "      <th>3191</th>\n",
       "      <td>fb807c80-22cc-4964-81a0-8c732f572004</td>\n",
       "      <td>2020-12-14 16:26:16.730052+01:00</td>\n",
       "      <td>PiSCES</td>\n",
       "      <td>Picture 105</td>\n",
       "      <td>17:23:56</td>\n",
       "      <td>6.455510</td>\n",
       "      <td>55.21</td>\n",
       "    </tr>\n",
       "    <tr>\n",
       "      <th>3192</th>\n",
       "      <td>fb807c80-22cc-4964-81a0-8c732f572004</td>\n",
       "      <td>2020-12-14 16:26:16.730052+01:00</td>\n",
       "      <td>Radboud</td>\n",
       "      <td>Rafd090_01_Caucasian_female_neutral_frontal</td>\n",
       "      <td>17:25:03</td>\n",
       "      <td>6.658691</td>\n",
       "      <td>57.09</td>\n",
       "    </tr>\n",
       "    <tr>\n",
       "      <th>3193</th>\n",
       "      <td>fb807c80-22cc-4964-81a0-8c732f572004</td>\n",
       "      <td>2020-12-14 16:26:16.730052+01:00</td>\n",
       "      <td>marloes</td>\n",
       "      <td>marloes</td>\n",
       "      <td>17:25:37</td>\n",
       "      <td>7.753926</td>\n",
       "      <td>20.31</td>\n",
       "    </tr>\n",
       "  </tbody>\n",
       "</table>\n",
       "<p>3132 rows × 7 columns</p>\n",
       "</div>"
      ],
      "text/plain": [
       "                                        ID                        timestamp  \\\n",
       "0     099ceb4d-28f3-4b1f-8f8e-16b439a882f1 2022-06-27 16:42:13.679102+02:00   \n",
       "1     099ceb4d-28f3-4b1f-8f8e-16b439a882f1 2022-06-27 16:42:13.679102+02:00   \n",
       "2     099ceb4d-28f3-4b1f-8f8e-16b439a882f1 2022-06-27 16:42:13.679102+02:00   \n",
       "3     099ceb4d-28f3-4b1f-8f8e-16b439a882f1 2022-06-27 16:42:13.679102+02:00   \n",
       "4     099ceb4d-28f3-4b1f-8f8e-16b439a882f1 2022-06-27 16:42:13.679102+02:00   \n",
       "...                                    ...                              ...   \n",
       "3189  fb807c80-22cc-4964-81a0-8c732f572004 2020-12-14 16:26:16.730052+01:00   \n",
       "3190  fb807c80-22cc-4964-81a0-8c732f572004 2020-12-14 16:26:16.730052+01:00   \n",
       "3191  fb807c80-22cc-4964-81a0-8c732f572004 2020-12-14 16:26:16.730052+01:00   \n",
       "3192  fb807c80-22cc-4964-81a0-8c732f572004 2020-12-14 16:26:16.730052+01:00   \n",
       "3193  fb807c80-22cc-4964-81a0-8c732f572004 2020-12-14 16:26:16.730052+01:00   \n",
       "\n",
       "           DB                                     pic_name  time_str  \\\n",
       "0     marloes                                      marloes  16:53:49   \n",
       "1      PiSCES                                  Picture 132  16:54:45   \n",
       "2     Radboud  Rafd090_01_Caucasian_female_neutral_frontal  16:56:01   \n",
       "3      PiSCES                                   Picture 56  16:57:23   \n",
       "4     Radboud    Rafd090_36_Caucasian_male_neutral_frontal  16:58:30   \n",
       "...       ...                                          ...       ...   \n",
       "3189   PiSCES                                   Picture 80  17:21:28   \n",
       "3190  Radboud    Rafd090_36_Caucasian_male_neutral_frontal  17:22:45   \n",
       "3191   PiSCES                                  Picture 105  17:23:56   \n",
       "3192  Radboud  Rafd090_01_Caucasian_female_neutral_frontal  17:25:03   \n",
       "3193  marloes                                      marloes  17:25:37   \n",
       "\n",
       "         srmrpy  wav_duration_s  \n",
       "0      9.101357           24.41  \n",
       "1      6.146323           44.29  \n",
       "2      5.427415           62.55  \n",
       "3     11.052991           71.59  \n",
       "4      8.501714           56.75  \n",
       "...         ...             ...  \n",
       "3189   6.713475           54.95  \n",
       "3190   6.780104           54.36  \n",
       "3191   6.455510           55.21  \n",
       "3192   6.658691           57.09  \n",
       "3193   7.753926           20.31  \n",
       "\n",
       "[3132 rows x 7 columns]"
      ]
     },
     "execution_count": 95,
     "metadata": {},
     "output_type": "execute_result"
    }
   ],
   "source": [
    "df_session_metric[\n",
    "    (df_session_metric.wav_duration_s > 15)\n",
    "    & ~(\n",
    "        (df_session_metric.filter(like=\"mosnet\").mean(axis=1) < 2)\n",
    "        | (df_session_metric.filter(like=\"mosnet\").min(axis=1) < 1.5)\n",
    "        | (df_session_metric.filter(like=\"srmr_\").median(axis=1) < 0.5)\n",
    "        | (df_session_metric.filter(like=\"srmr_\").quantile(q=0.3, axis=1) < 0.7)\n",
    "        | (df_session_metric[\"srmrpy\"] < 0.8)\n",
    "    )\n",
    "][[\"ID\", \"timestamp\", \"DB\", \"pic_name\", \"time_str\", \"srmrpy\", \"wav_duration_s\"]]\n"
   ]
  },
  {
   "cell_type": "code",
   "execution_count": null,
   "metadata": {},
   "outputs": [
    {
     "data": {
      "text/html": [
       "<div>\n",
       "<style scoped>\n",
       "    .dataframe tbody tr th:only-of-type {\n",
       "        vertical-align: middle;\n",
       "    }\n",
       "\n",
       "    .dataframe tbody tr th {\n",
       "        vertical-align: top;\n",
       "    }\n",
       "\n",
       "    .dataframe thead th {\n",
       "        text-align: right;\n",
       "    }\n",
       "</style>\n",
       "<table border=\"1\" class=\"dataframe\">\n",
       "  <thead>\n",
       "    <tr style=\"text-align: right;\">\n",
       "      <th></th>\n",
       "      <th>ID</th>\n",
       "      <th>timestamp</th>\n",
       "      <th>DB</th>\n",
       "      <th>pic_name</th>\n",
       "      <th>time_str</th>\n",
       "      <th>srmrpy</th>\n",
       "      <th>wav_duration_s</th>\n",
       "    </tr>\n",
       "  </thead>\n",
       "  <tbody>\n",
       "    <tr>\n",
       "      <th>919</th>\n",
       "      <td>46914c9d-f87b-4ee5-aaf4-fe30d0ec272a</td>\n",
       "      <td>2020-11-29 13:06:54.379871+01:00</td>\n",
       "      <td>Radboud</td>\n",
       "      <td>Rafd090_46_Caucasian_male_neutral_frontal</td>\n",
       "      <td>13:20:31</td>\n",
       "      <td>15.610187</td>\n",
       "      <td>42.82</td>\n",
       "    </tr>\n",
       "    <tr>\n",
       "      <th>920</th>\n",
       "      <td>46914c9d-f87b-4ee5-aaf4-fe30d0ec272a</td>\n",
       "      <td>2020-11-29 13:06:54.379871+01:00</td>\n",
       "      <td>PiSCES</td>\n",
       "      <td>Picture 59</td>\n",
       "      <td>13:21:45</td>\n",
       "      <td>16.434108</td>\n",
       "      <td>65.11</td>\n",
       "    </tr>\n",
       "    <tr>\n",
       "      <th>945</th>\n",
       "      <td>46914c9d-f87b-4ee5-aaf4-fe30d0ec272a</td>\n",
       "      <td>2020-11-29 13:06:54.379871+01:00</td>\n",
       "      <td>Radboud</td>\n",
       "      <td>Rafd090_33_Caucasian_male_neutral_frontal</td>\n",
       "      <td>13:52:36</td>\n",
       "      <td>15.797164</td>\n",
       "      <td>38.73</td>\n",
       "    </tr>\n",
       "    <tr>\n",
       "      <th>1585</th>\n",
       "      <td>8f42a931-7bd1-4536-bec3-a5f24da3c61f</td>\n",
       "      <td>2020-12-07 19:47:48.102483+01:00</td>\n",
       "      <td>Radboud</td>\n",
       "      <td>Rafd090_05_Caucasian_male_neutral_frontal</td>\n",
       "      <td>20:05:41</td>\n",
       "      <td>15.940446</td>\n",
       "      <td>55.30</td>\n",
       "    </tr>\n",
       "    <tr>\n",
       "      <th>2282</th>\n",
       "      <td>b55d08fb-30f3-499f-8cf4-f0f44321f1a9</td>\n",
       "      <td>2020-11-27 16:37:41.186737+01:00</td>\n",
       "      <td>Radboud</td>\n",
       "      <td>Rafd090_47_Caucasian_male_neutral_frontal</td>\n",
       "      <td>16:53:37</td>\n",
       "      <td>15.032920</td>\n",
       "      <td>45.14</td>\n",
       "    </tr>\n",
       "    <tr>\n",
       "      <th>2963</th>\n",
       "      <td>effe47df-0f91-489d-8b7d-547f6fed85dd</td>\n",
       "      <td>2022-07-16 20:29:30.890814+02:00</td>\n",
       "      <td>Radboud</td>\n",
       "      <td>Rafd090_33_Caucasian_male_neutral_frontal</td>\n",
       "      <td>21:24:56</td>\n",
       "      <td>15.018271</td>\n",
       "      <td>50.62</td>\n",
       "    </tr>\n",
       "    <tr>\n",
       "      <th>2967</th>\n",
       "      <td>effe47df-0f91-489d-8b7d-547f6fed85dd</td>\n",
       "      <td>2022-07-16 20:29:30.890814+02:00</td>\n",
       "      <td>marloes</td>\n",
       "      <td>marloes</td>\n",
       "      <td>21:29:04</td>\n",
       "      <td>15.245146</td>\n",
       "      <td>27.96</td>\n",
       "    </tr>\n",
       "    <tr>\n",
       "      <th>3093</th>\n",
       "      <td>f57eb3a1-bc73-4fb8-9c40-8a31a6b67e34</td>\n",
       "      <td>2020-12-01 17:28:08.651479+01:00</td>\n",
       "      <td>PiSCES</td>\n",
       "      <td>Picture 80</td>\n",
       "      <td>17:36:40</td>\n",
       "      <td>18.861273</td>\n",
       "      <td>27.65</td>\n",
       "    </tr>\n",
       "  </tbody>\n",
       "</table>\n",
       "</div>"
      ],
      "text/plain": [
       "                                        ID                        timestamp  \\\n",
       "919   46914c9d-f87b-4ee5-aaf4-fe30d0ec272a 2020-11-29 13:06:54.379871+01:00   \n",
       "920   46914c9d-f87b-4ee5-aaf4-fe30d0ec272a 2020-11-29 13:06:54.379871+01:00   \n",
       "945   46914c9d-f87b-4ee5-aaf4-fe30d0ec272a 2020-11-29 13:06:54.379871+01:00   \n",
       "1585  8f42a931-7bd1-4536-bec3-a5f24da3c61f 2020-12-07 19:47:48.102483+01:00   \n",
       "2282  b55d08fb-30f3-499f-8cf4-f0f44321f1a9 2020-11-27 16:37:41.186737+01:00   \n",
       "2963  effe47df-0f91-489d-8b7d-547f6fed85dd 2022-07-16 20:29:30.890814+02:00   \n",
       "2967  effe47df-0f91-489d-8b7d-547f6fed85dd 2022-07-16 20:29:30.890814+02:00   \n",
       "3093  f57eb3a1-bc73-4fb8-9c40-8a31a6b67e34 2020-12-01 17:28:08.651479+01:00   \n",
       "\n",
       "           DB                                   pic_name  time_str     srmrpy  \\\n",
       "919   Radboud  Rafd090_46_Caucasian_male_neutral_frontal  13:20:31  15.610187   \n",
       "920    PiSCES                                 Picture 59  13:21:45  16.434108   \n",
       "945   Radboud  Rafd090_33_Caucasian_male_neutral_frontal  13:52:36  15.797164   \n",
       "1585  Radboud  Rafd090_05_Caucasian_male_neutral_frontal  20:05:41  15.940446   \n",
       "2282  Radboud  Rafd090_47_Caucasian_male_neutral_frontal  16:53:37  15.032920   \n",
       "2963  Radboud  Rafd090_33_Caucasian_male_neutral_frontal  21:24:56  15.018271   \n",
       "2967  marloes                                    marloes  21:29:04  15.245146   \n",
       "3093   PiSCES                                 Picture 80  17:36:40  18.861273   \n",
       "\n",
       "      wav_duration_s  \n",
       "919            42.82  \n",
       "920            65.11  \n",
       "945            38.73  \n",
       "1585           55.30  \n",
       "2282           45.14  \n",
       "2963           50.62  \n",
       "2967           27.96  \n",
       "3093           27.65  "
      ]
     },
     "execution_count": 80,
     "metadata": {},
     "output_type": "execute_result"
    }
   ],
   "source": [
    "df_session_metric[\n",
    "    (df_session_metric.wav_duration_s > 15)\n",
    "    & (df_session_metric[\"srmrpy\"] > 15)\n",
    "    & ~(\n",
    "        (df_session_metric.filter(like=\"mosnet\").mean(axis=1) < 2)\n",
    "        | (df_session_metric.filter(like=\"mosnet\").min(axis=1) < 1.5)\n",
    "        | (df_session_metric.filter(like=\"srmr_\").median(axis=1) < 0.5)\n",
    "    )\n",
    "][[\"ID\", \"timestamp\", \"DB\", \"pic_name\", \"time_str\", \"srmrpy\", \"wav_duration_s\"]]\n"
   ]
  },
  {
   "cell_type": "markdown",
   "metadata": {},
   "source": [
    "# TODO -> the srmr needs to be adjusted"
   ]
  },
  {
   "cell_type": "code",
   "execution_count": null,
   "metadata": {},
   "outputs": [
    {
     "data": {
      "text/html": [
       "<div>\n",
       "<style scoped>\n",
       "    .dataframe tbody tr th:only-of-type {\n",
       "        vertical-align: middle;\n",
       "    }\n",
       "\n",
       "    .dataframe tbody tr th {\n",
       "        vertical-align: top;\n",
       "    }\n",
       "\n",
       "    .dataframe thead th {\n",
       "        text-align: right;\n",
       "    }\n",
       "</style>\n",
       "<table border=\"1\" class=\"dataframe\">\n",
       "  <thead>\n",
       "    <tr style=\"text-align: right;\">\n",
       "      <th></th>\n",
       "      <th>ID</th>\n",
       "      <th>timestamp</th>\n",
       "      <th>DB</th>\n",
       "      <th>pic_name</th>\n",
       "      <th>time_str</th>\n",
       "    </tr>\n",
       "  </thead>\n",
       "  <tbody>\n",
       "    <tr>\n",
       "      <th>2731</th>\n",
       "      <td>d7fbc4b9-5f94-4639-b82b-6b1592b2ad3a</td>\n",
       "      <td>2022-06-29 19:34:02.048344+02:00</td>\n",
       "      <td>PiSCES</td>\n",
       "      <td>Picture 80</td>\n",
       "      <td>19:57:47</td>\n",
       "    </tr>\n",
       "  </tbody>\n",
       "</table>\n",
       "</div>"
      ],
      "text/plain": [
       "                                        ID                        timestamp  \\\n",
       "2731  d7fbc4b9-5f94-4639-b82b-6b1592b2ad3a 2022-06-29 19:34:02.048344+02:00   \n",
       "\n",
       "          DB    pic_name  time_str  \n",
       "2731  PiSCES  Picture 80  19:57:47  "
      ]
     },
     "execution_count": 35,
     "metadata": {},
     "output_type": "execute_result"
    }
   ],
   "source": [
    "df_session_metric[\n",
    "    # (df_session_metric.wav_duration_s > 8) &\n",
    "    ~(\n",
    "        (df_session_metric.filter(like=\"mosnet\").mean(axis=1) < 2)\n",
    "        | (df_session_metric.filter(like=\"mosnet\").min(axis=1) < 1.5)\n",
    "        | (df_session_metric.filter(like=\"srmr_\").median(axis=1) < 0.5)\n",
    "    )\n",
    "][[\"ID\", \"timestamp\", \"DB\", \"pic_name\", \"time_str\"]]\n"
   ]
  },
  {
   "cell_type": "code",
   "execution_count": null,
   "metadata": {},
   "outputs": [
    {
     "data": {
      "text/plain": [
       "<AxesSubplot:>"
      ]
     },
     "execution_count": 36,
     "metadata": {},
     "output_type": "execute_result"
    },
    {
     "data": {
      "image/png": "[encoded data removed]",
      "text/plain": [
       "<Figure size 432x288 with 1 Axes>"
      ]
     },
     "metadata": {
      "needs_background": "light"
     },
     "output_type": "display_data"
    }
   ],
   "source": [
    "# a lot of silent / no audio sessions\n",
    "df_session_metric[\n",
    "    df_session_metric.ID == \"42c842a5-7051-44c3-af42-cf824fded959\"\n",
    "].filter(like=\"srmr_\").median(axis=1).hist(bins=80)\n"
   ]
  },
  {
   "cell_type": "code",
   "execution_count": null,
   "metadata": {},
   "outputs": [],
   "source": [
    "valid_mask = (\n",
    "    (df_session_metric.wav_duration_s > 15)\n",
    "    &\n",
    "    # totally silent; no speech at all\n",
    "    # (df_session_metric.filter(like='srmr').quantile(q=0.85, axis=1) > 40)\n",
    "    # (df_session_metric.filter(like='srmr').apply(lambda x: x[x.notna()][1:-1].mean(), axis=1) > 18)\n",
    "    # determined heuristically -> seemed like a good estimate\n",
    "    ~(\n",
    "        (df_session_metric.filter(like=\"mosnet\").mean(axis=1) < 2)\n",
    "        | (df_session_metric.filter(like=\"mosnet\").min(axis=1) < 1.5)\n",
    "        | (df_session_metric.filter(like=\"srmr_\").median(axis=1) < 0.5)\n",
    "        | (df_session_metric.filter(like=\"srmr_\").quantile(q=0.3, axis=1) < 0.7)\n",
    "        | (df_session_metric[\"srmrpy\"] < 0.8)\n",
    "    )\n",
    ")\n"
   ]
  },
  {
   "cell_type": "code",
   "execution_count": null,
   "metadata": {},
   "outputs": [
    {
     "data": {
      "text/html": [
       "<div>\n",
       "<style scoped>\n",
       "    .dataframe tbody tr th:only-of-type {\n",
       "        vertical-align: middle;\n",
       "    }\n",
       "\n",
       "    .dataframe tbody tr th {\n",
       "        vertical-align: top;\n",
       "    }\n",
       "\n",
       "    .dataframe thead th {\n",
       "        text-align: right;\n",
       "    }\n",
       "</style>\n",
       "<table border=\"1\" class=\"dataframe\">\n",
       "  <thead>\n",
       "    <tr style=\"text-align: right;\">\n",
       "      <th></th>\n",
       "      <th>ID</th>\n",
       "      <th>timestamp</th>\n",
       "      <th>DB</th>\n",
       "      <th>pic_name</th>\n",
       "      <th>wav_duration_s</th>\n",
       "      <th>time_str</th>\n",
       "    </tr>\n",
       "  </thead>\n",
       "  <tbody>\n",
       "    <tr>\n",
       "      <th>74</th>\n",
       "      <td>0c28e160-d7bb-4b17-829c-c9ebc7ad0a1f</td>\n",
       "      <td>2022-06-27 22:01:48.323990+02:00</td>\n",
       "      <td>PiSCES</td>\n",
       "      <td>Picture 81</td>\n",
       "      <td>91.05</td>\n",
       "      <td>22:13:27</td>\n",
       "    </tr>\n",
       "    <tr>\n",
       "      <th>75</th>\n",
       "      <td>0c28e160-d7bb-4b17-829c-c9ebc7ad0a1f</td>\n",
       "      <td>2022-06-27 22:01:48.323990+02:00</td>\n",
       "      <td>Radboud</td>\n",
       "      <td>Rafd090_58_Caucasian_female_neutral_frontal</td>\n",
       "      <td>67.24</td>\n",
       "      <td>22:14:45</td>\n",
       "    </tr>\n",
       "    <tr>\n",
       "      <th>77</th>\n",
       "      <td>0c28e160-d7bb-4b17-829c-c9ebc7ad0a1f</td>\n",
       "      <td>2022-06-27 22:01:48.323990+02:00</td>\n",
       "      <td>Radboud</td>\n",
       "      <td>Rafd090_04_Caucasian_female_neutral_frontal</td>\n",
       "      <td>70.49</td>\n",
       "      <td>22:17:13</td>\n",
       "    </tr>\n",
       "    <tr>\n",
       "      <th>81</th>\n",
       "      <td>0c28e160-d7bb-4b17-829c-c9ebc7ad0a1f</td>\n",
       "      <td>2022-06-27 22:01:48.323990+02:00</td>\n",
       "      <td>PiSCES</td>\n",
       "      <td>Picture 105</td>\n",
       "      <td>54.10</td>\n",
       "      <td>22:21:22</td>\n",
       "    </tr>\n",
       "    <tr>\n",
       "      <th>790</th>\n",
       "      <td>3a8266c9-7087-45fe-98e4-6c9c001c0050</td>\n",
       "      <td>2020-11-30 17:47:45.815021+01:00</td>\n",
       "      <td>Radboud</td>\n",
       "      <td>Rafd090_24_Caucasian_male_neutral_frontal</td>\n",
       "      <td>73.10</td>\n",
       "      <td>18:30:53</td>\n",
       "    </tr>\n",
       "    <tr>\n",
       "      <th>792</th>\n",
       "      <td>3a8266c9-7087-45fe-98e4-6c9c001c0050</td>\n",
       "      <td>2020-11-30 17:47:45.815021+01:00</td>\n",
       "      <td>Radboud</td>\n",
       "      <td>Rafd090_36_Caucasian_male_neutral_frontal</td>\n",
       "      <td>76.25</td>\n",
       "      <td>18:34:16</td>\n",
       "    </tr>\n",
       "    <tr>\n",
       "      <th>845</th>\n",
       "      <td>42c842a5-7051-44c3-af42-cf824fded959</td>\n",
       "      <td>2022-06-29 14:11:06.409834+02:00</td>\n",
       "      <td>Radboud</td>\n",
       "      <td>Rafd090_46_Caucasian_male_neutral_frontal</td>\n",
       "      <td>59.05</td>\n",
       "      <td>14:22:30</td>\n",
       "    </tr>\n",
       "    <tr>\n",
       "      <th>848</th>\n",
       "      <td>42c842a5-7051-44c3-af42-cf824fded959</td>\n",
       "      <td>2022-06-29 14:11:06.409834+02:00</td>\n",
       "      <td>PiSCES</td>\n",
       "      <td>Picture 93</td>\n",
       "      <td>83.20</td>\n",
       "      <td>14:26:44</td>\n",
       "    </tr>\n",
       "    <tr>\n",
       "      <th>849</th>\n",
       "      <td>42c842a5-7051-44c3-af42-cf824fded959</td>\n",
       "      <td>2022-06-29 14:11:06.409834+02:00</td>\n",
       "      <td>marloes</td>\n",
       "      <td>marloes</td>\n",
       "      <td>25.94</td>\n",
       "      <td>14:27:22</td>\n",
       "    </tr>\n",
       "    <tr>\n",
       "      <th>850</th>\n",
       "      <td>42c842a5-7051-44c3-af42-cf824fded959</td>\n",
       "      <td>2022-06-29 14:11:06.409834+02:00</td>\n",
       "      <td>Radboud</td>\n",
       "      <td>Rafd090_24_Caucasian_male_neutral_frontal</td>\n",
       "      <td>58.62</td>\n",
       "      <td>14:28:30</td>\n",
       "    </tr>\n",
       "    <tr>\n",
       "      <th>851</th>\n",
       "      <td>42c842a5-7051-44c3-af42-cf824fded959</td>\n",
       "      <td>2022-06-29 14:11:06.409834+02:00</td>\n",
       "      <td>PiSCES</td>\n",
       "      <td>Picture 56</td>\n",
       "      <td>95.32</td>\n",
       "      <td>14:30:13</td>\n",
       "    </tr>\n",
       "    <tr>\n",
       "      <th>852</th>\n",
       "      <td>42c842a5-7051-44c3-af42-cf824fded959</td>\n",
       "      <td>2022-06-29 14:11:06.409834+02:00</td>\n",
       "      <td>Radboud</td>\n",
       "      <td>Rafd090_05_Caucasian_male_neutral_frontal</td>\n",
       "      <td>49.83</td>\n",
       "      <td>14:31:12</td>\n",
       "    </tr>\n",
       "    <tr>\n",
       "      <th>853</th>\n",
       "      <td>42c842a5-7051-44c3-af42-cf824fded959</td>\n",
       "      <td>2022-06-29 14:11:06.409834+02:00</td>\n",
       "      <td>PiSCES</td>\n",
       "      <td>Picture 65</td>\n",
       "      <td>67.16</td>\n",
       "      <td>14:32:29</td>\n",
       "    </tr>\n",
       "    <tr>\n",
       "      <th>854</th>\n",
       "      <td>42c842a5-7051-44c3-af42-cf824fded959</td>\n",
       "      <td>2022-06-29 14:11:06.409834+02:00</td>\n",
       "      <td>Radboud</td>\n",
       "      <td>Rafd090_57_Caucasian_female_neutral_frontal</td>\n",
       "      <td>75.18</td>\n",
       "      <td>14:34:01</td>\n",
       "    </tr>\n",
       "    <tr>\n",
       "      <th>855</th>\n",
       "      <td>42c842a5-7051-44c3-af42-cf824fded959</td>\n",
       "      <td>2022-06-29 14:11:06.409834+02:00</td>\n",
       "      <td>marloes</td>\n",
       "      <td>marloes</td>\n",
       "      <td>25.94</td>\n",
       "      <td>14:34:34</td>\n",
       "    </tr>\n",
       "    <tr>\n",
       "      <th>856</th>\n",
       "      <td>42c842a5-7051-44c3-af42-cf824fded959</td>\n",
       "      <td>2022-06-29 14:11:06.409834+02:00</td>\n",
       "      <td>PiSCES</td>\n",
       "      <td>Picture 110</td>\n",
       "      <td>63.57</td>\n",
       "      <td>14:35:48</td>\n",
       "    </tr>\n",
       "    <tr>\n",
       "      <th>857</th>\n",
       "      <td>42c842a5-7051-44c3-af42-cf824fded959</td>\n",
       "      <td>2022-06-29 14:11:06.409834+02:00</td>\n",
       "      <td>Radboud</td>\n",
       "      <td>Rafd090_04_Caucasian_female_neutral_frontal</td>\n",
       "      <td>53.42</td>\n",
       "      <td>14:36:50</td>\n",
       "    </tr>\n",
       "    <tr>\n",
       "      <th>858</th>\n",
       "      <td>42c842a5-7051-44c3-af42-cf824fded959</td>\n",
       "      <td>2022-06-29 14:11:06.409834+02:00</td>\n",
       "      <td>PiSCES</td>\n",
       "      <td>Picture 88</td>\n",
       "      <td>66.99</td>\n",
       "      <td>14:38:09</td>\n",
       "    </tr>\n",
       "    <tr>\n",
       "      <th>859</th>\n",
       "      <td>42c842a5-7051-44c3-af42-cf824fded959</td>\n",
       "      <td>2022-06-29 14:11:06.409834+02:00</td>\n",
       "      <td>Radboud</td>\n",
       "      <td>Rafd090_27_Caucasian_female_neutral_frontal</td>\n",
       "      <td>58.37</td>\n",
       "      <td>14:39:18</td>\n",
       "    </tr>\n",
       "    <tr>\n",
       "      <th>860</th>\n",
       "      <td>42c842a5-7051-44c3-af42-cf824fded959</td>\n",
       "      <td>2022-06-29 14:11:06.409834+02:00</td>\n",
       "      <td>PiSCES</td>\n",
       "      <td>Picture 87</td>\n",
       "      <td>67.84</td>\n",
       "      <td>14:40:32</td>\n",
       "    </tr>\n",
       "    <tr>\n",
       "      <th>861</th>\n",
       "      <td>42c842a5-7051-44c3-af42-cf824fded959</td>\n",
       "      <td>2022-06-29 14:11:06.409834+02:00</td>\n",
       "      <td>marloes</td>\n",
       "      <td>marloes</td>\n",
       "      <td>25.09</td>\n",
       "      <td>14:41:02</td>\n",
       "    </tr>\n",
       "    <tr>\n",
       "      <th>862</th>\n",
       "      <td>42c842a5-7051-44c3-af42-cf824fded959</td>\n",
       "      <td>2022-06-29 14:11:06.409834+02:00</td>\n",
       "      <td>Radboud</td>\n",
       "      <td>Rafd090_01_Caucasian_female_neutral_frontal</td>\n",
       "      <td>61.61</td>\n",
       "      <td>14:42:20</td>\n",
       "    </tr>\n",
       "    <tr>\n",
       "      <th>863</th>\n",
       "      <td>42c842a5-7051-44c3-af42-cf824fded959</td>\n",
       "      <td>2022-06-29 14:11:06.409834+02:00</td>\n",
       "      <td>PiSCES</td>\n",
       "      <td>Picture 82</td>\n",
       "      <td>105.39</td>\n",
       "      <td>14:44:14</td>\n",
       "    </tr>\n",
       "    <tr>\n",
       "      <th>864</th>\n",
       "      <td>42c842a5-7051-44c3-af42-cf824fded959</td>\n",
       "      <td>2022-06-29 14:11:06.409834+02:00</td>\n",
       "      <td>Radboud</td>\n",
       "      <td>Rafd090_02_Caucasian_female_neutral_frontal</td>\n",
       "      <td>45.91</td>\n",
       "      <td>14:45:05</td>\n",
       "    </tr>\n",
       "    <tr>\n",
       "      <th>865</th>\n",
       "      <td>42c842a5-7051-44c3-af42-cf824fded959</td>\n",
       "      <td>2022-06-29 14:11:06.409834+02:00</td>\n",
       "      <td>PiSCES</td>\n",
       "      <td>Picture 96</td>\n",
       "      <td>71.68</td>\n",
       "      <td>14:46:53</td>\n",
       "    </tr>\n",
       "    <tr>\n",
       "      <th>866</th>\n",
       "      <td>42c842a5-7051-44c3-af42-cf824fded959</td>\n",
       "      <td>2022-06-29 14:11:06.409834+02:00</td>\n",
       "      <td>Radboud</td>\n",
       "      <td>Rafd090_47_Caucasian_male_neutral_frontal</td>\n",
       "      <td>50.69</td>\n",
       "      <td>14:47:57</td>\n",
       "    </tr>\n",
       "    <tr>\n",
       "      <th>867</th>\n",
       "      <td>42c842a5-7051-44c3-af42-cf824fded959</td>\n",
       "      <td>2022-06-29 14:11:06.409834+02:00</td>\n",
       "      <td>marloes</td>\n",
       "      <td>marloes</td>\n",
       "      <td>25.17</td>\n",
       "      <td>14:48:31</td>\n",
       "    </tr>\n",
       "    <tr>\n",
       "      <th>868</th>\n",
       "      <td>42c842a5-7051-44c3-af42-cf824fded959</td>\n",
       "      <td>2022-06-29 14:11:06.409834+02:00</td>\n",
       "      <td>PiSCES</td>\n",
       "      <td>Picture 80</td>\n",
       "      <td>71.59</td>\n",
       "      <td>14:49:54</td>\n",
       "    </tr>\n",
       "    <tr>\n",
       "      <th>869</th>\n",
       "      <td>42c842a5-7051-44c3-af42-cf824fded959</td>\n",
       "      <td>2022-06-29 14:11:06.409834+02:00</td>\n",
       "      <td>Radboud</td>\n",
       "      <td>Rafd090_36_Caucasian_male_neutral_frontal</td>\n",
       "      <td>49.75</td>\n",
       "      <td>14:50:53</td>\n",
       "    </tr>\n",
       "    <tr>\n",
       "      <th>870</th>\n",
       "      <td>42c842a5-7051-44c3-af42-cf824fded959</td>\n",
       "      <td>2022-06-29 14:11:06.409834+02:00</td>\n",
       "      <td>PiSCES</td>\n",
       "      <td>Picture 59</td>\n",
       "      <td>69.29</td>\n",
       "      <td>14:52:13</td>\n",
       "    </tr>\n",
       "    <tr>\n",
       "      <th>871</th>\n",
       "      <td>42c842a5-7051-44c3-af42-cf824fded959</td>\n",
       "      <td>2022-06-29 14:11:06.409834+02:00</td>\n",
       "      <td>Radboud</td>\n",
       "      <td>Rafd090_61_Caucasian_female_neutral_frontal</td>\n",
       "      <td>60.93</td>\n",
       "      <td>14:53:26</td>\n",
       "    </tr>\n",
       "    <tr>\n",
       "      <th>872</th>\n",
       "      <td>42c842a5-7051-44c3-af42-cf824fded959</td>\n",
       "      <td>2022-06-29 14:11:06.409834+02:00</td>\n",
       "      <td>PiSCES</td>\n",
       "      <td>Picture 98</td>\n",
       "      <td>75.52</td>\n",
       "      <td>14:54:49</td>\n",
       "    </tr>\n",
       "    <tr>\n",
       "      <th>873</th>\n",
       "      <td>42c842a5-7051-44c3-af42-cf824fded959</td>\n",
       "      <td>2022-06-29 14:11:06.409834+02:00</td>\n",
       "      <td>marloes</td>\n",
       "      <td>marloes</td>\n",
       "      <td>25.17</td>\n",
       "      <td>14:55:21</td>\n",
       "    </tr>\n",
       "    <tr>\n",
       "      <th>874</th>\n",
       "      <td>42c842a5-7051-44c3-af42-cf824fded959</td>\n",
       "      <td>2022-06-29 14:11:06.409834+02:00</td>\n",
       "      <td>Radboud</td>\n",
       "      <td>Rafd090_58_Caucasian_female_neutral_frontal</td>\n",
       "      <td>93.10</td>\n",
       "      <td>14:57:31</td>\n",
       "    </tr>\n",
       "    <tr>\n",
       "      <th>875</th>\n",
       "      <td>42c842a5-7051-44c3-af42-cf824fded959</td>\n",
       "      <td>2022-06-29 14:11:06.409834+02:00</td>\n",
       "      <td>PiSCES</td>\n",
       "      <td>Picture 132</td>\n",
       "      <td>101.55</td>\n",
       "      <td>14:59:19</td>\n",
       "    </tr>\n",
       "    <tr>\n",
       "      <th>876</th>\n",
       "      <td>42c842a5-7051-44c3-af42-cf824fded959</td>\n",
       "      <td>2022-06-29 14:11:06.409834+02:00</td>\n",
       "      <td>Radboud</td>\n",
       "      <td>Rafd090_49_Caucasian_male_neutral_frontal</td>\n",
       "      <td>66.82</td>\n",
       "      <td>15:01:19</td>\n",
       "    </tr>\n",
       "    <tr>\n",
       "      <th>877</th>\n",
       "      <td>42c842a5-7051-44c3-af42-cf824fded959</td>\n",
       "      <td>2022-06-29 14:11:06.409834+02:00</td>\n",
       "      <td>PiSCES</td>\n",
       "      <td>Picture 105</td>\n",
       "      <td>72.19</td>\n",
       "      <td>15:02:40</td>\n",
       "    </tr>\n",
       "    <tr>\n",
       "      <th>878</th>\n",
       "      <td>42c842a5-7051-44c3-af42-cf824fded959</td>\n",
       "      <td>2022-06-29 14:11:06.409834+02:00</td>\n",
       "      <td>Radboud</td>\n",
       "      <td>Rafd090_33_Caucasian_male_neutral_frontal</td>\n",
       "      <td>76.20</td>\n",
       "      <td>15:04:04</td>\n",
       "    </tr>\n",
       "    <tr>\n",
       "      <th>879</th>\n",
       "      <td>42c842a5-7051-44c3-af42-cf824fded959</td>\n",
       "      <td>2022-06-29 14:11:06.409834+02:00</td>\n",
       "      <td>marloes</td>\n",
       "      <td>marloes</td>\n",
       "      <td>23.72</td>\n",
       "      <td>15:04:34</td>\n",
       "    </tr>\n",
       "    <tr>\n",
       "      <th>2725</th>\n",
       "      <td>d7fbc4b9-5f94-4639-b82b-6b1592b2ad3a</td>\n",
       "      <td>2022-06-29 19:34:02.048344+02:00</td>\n",
       "      <td>Radboud</td>\n",
       "      <td>Rafd090_02_Caucasian_female_neutral_frontal</td>\n",
       "      <td>41.81</td>\n",
       "      <td>19:52:41</td>\n",
       "    </tr>\n",
       "    <tr>\n",
       "      <th>2728</th>\n",
       "      <td>d7fbc4b9-5f94-4639-b82b-6b1592b2ad3a</td>\n",
       "      <td>2022-06-29 19:34:02.048344+02:00</td>\n",
       "      <td>Radboud</td>\n",
       "      <td>Rafd090_61_Caucasian_female_neutral_frontal</td>\n",
       "      <td>41.98</td>\n",
       "      <td>19:54:55</td>\n",
       "    </tr>\n",
       "    <tr>\n",
       "      <th>2729</th>\n",
       "      <td>d7fbc4b9-5f94-4639-b82b-6b1592b2ad3a</td>\n",
       "      <td>2022-06-29 19:34:02.048344+02:00</td>\n",
       "      <td>PiSCES</td>\n",
       "      <td>Picture 110</td>\n",
       "      <td>41.47</td>\n",
       "      <td>19:55:44</td>\n",
       "    </tr>\n",
       "    <tr>\n",
       "      <th>2730</th>\n",
       "      <td>d7fbc4b9-5f94-4639-b82b-6b1592b2ad3a</td>\n",
       "      <td>2022-06-29 19:34:02.048344+02:00</td>\n",
       "      <td>Radboud</td>\n",
       "      <td>Rafd090_58_Caucasian_female_neutral_frontal</td>\n",
       "      <td>45.74</td>\n",
       "      <td>19:56:41</td>\n",
       "    </tr>\n",
       "    <tr>\n",
       "      <th>2731</th>\n",
       "      <td>d7fbc4b9-5f94-4639-b82b-6b1592b2ad3a</td>\n",
       "      <td>2022-06-29 19:34:02.048344+02:00</td>\n",
       "      <td>PiSCES</td>\n",
       "      <td>Picture 80</td>\n",
       "      <td>59.39</td>\n",
       "      <td>19:57:47</td>\n",
       "    </tr>\n",
       "    <tr>\n",
       "      <th>2732</th>\n",
       "      <td>d7fbc4b9-5f94-4639-b82b-6b1592b2ad3a</td>\n",
       "      <td>2022-06-29 19:34:02.048344+02:00</td>\n",
       "      <td>marloes</td>\n",
       "      <td>marloes</td>\n",
       "      <td>20.65</td>\n",
       "      <td>19:58:16</td>\n",
       "    </tr>\n",
       "    <tr>\n",
       "      <th>2733</th>\n",
       "      <td>d7fbc4b9-5f94-4639-b82b-6b1592b2ad3a</td>\n",
       "      <td>2022-06-29 19:34:02.048344+02:00</td>\n",
       "      <td>Radboud</td>\n",
       "      <td>Rafd090_24_Caucasian_male_neutral_frontal</td>\n",
       "      <td>49.49</td>\n",
       "      <td>19:59:13</td>\n",
       "    </tr>\n",
       "    <tr>\n",
       "      <th>2734</th>\n",
       "      <td>d7fbc4b9-5f94-4639-b82b-6b1592b2ad3a</td>\n",
       "      <td>2022-06-29 19:34:02.048344+02:00</td>\n",
       "      <td>PiSCES</td>\n",
       "      <td>Picture 82</td>\n",
       "      <td>60.33</td>\n",
       "      <td>20:00:21</td>\n",
       "    </tr>\n",
       "    <tr>\n",
       "      <th>2735</th>\n",
       "      <td>d7fbc4b9-5f94-4639-b82b-6b1592b2ad3a</td>\n",
       "      <td>2022-06-29 19:34:02.048344+02:00</td>\n",
       "      <td>Radboud</td>\n",
       "      <td>Rafd090_36_Caucasian_male_neutral_frontal</td>\n",
       "      <td>36.10</td>\n",
       "      <td>20:01:12</td>\n",
       "    </tr>\n",
       "  </tbody>\n",
       "</table>\n",
       "</div>"
      ],
      "text/plain": [
       "                                        ID                        timestamp  \\\n",
       "74    0c28e160-d7bb-4b17-829c-c9ebc7ad0a1f 2022-06-27 22:01:48.323990+02:00   \n",
       "75    0c28e160-d7bb-4b17-829c-c9ebc7ad0a1f 2022-06-27 22:01:48.323990+02:00   \n",
       "77    0c28e160-d7bb-4b17-829c-c9ebc7ad0a1f 2022-06-27 22:01:48.323990+02:00   \n",
       "81    0c28e160-d7bb-4b17-829c-c9ebc7ad0a1f 2022-06-27 22:01:48.323990+02:00   \n",
       "790   3a8266c9-7087-45fe-98e4-6c9c001c0050 2020-11-30 17:47:45.815021+01:00   \n",
       "792   3a8266c9-7087-45fe-98e4-6c9c001c0050 2020-11-30 17:47:45.815021+01:00   \n",
       "845   42c842a5-7051-44c3-af42-cf824fded959 2022-06-29 14:11:06.409834+02:00   \n",
       "848   42c842a5-7051-44c3-af42-cf824fded959 2022-06-29 14:11:06.409834+02:00   \n",
       "849   42c842a5-7051-44c3-af42-cf824fded959 2022-06-29 14:11:06.409834+02:00   \n",
       "850   42c842a5-7051-44c3-af42-cf824fded959 2022-06-29 14:11:06.409834+02:00   \n",
       "851   42c842a5-7051-44c3-af42-cf824fded959 2022-06-29 14:11:06.409834+02:00   \n",
       "852   42c842a5-7051-44c3-af42-cf824fded959 2022-06-29 14:11:06.409834+02:00   \n",
       "853   42c842a5-7051-44c3-af42-cf824fded959 2022-06-29 14:11:06.409834+02:00   \n",
       "854   42c842a5-7051-44c3-af42-cf824fded959 2022-06-29 14:11:06.409834+02:00   \n",
       "855   42c842a5-7051-44c3-af42-cf824fded959 2022-06-29 14:11:06.409834+02:00   \n",
       "856   42c842a5-7051-44c3-af42-cf824fded959 2022-06-29 14:11:06.409834+02:00   \n",
       "857   42c842a5-7051-44c3-af42-cf824fded959 2022-06-29 14:11:06.409834+02:00   \n",
       "858   42c842a5-7051-44c3-af42-cf824fded959 2022-06-29 14:11:06.409834+02:00   \n",
       "859   42c842a5-7051-44c3-af42-cf824fded959 2022-06-29 14:11:06.409834+02:00   \n",
       "860   42c842a5-7051-44c3-af42-cf824fded959 2022-06-29 14:11:06.409834+02:00   \n",
       "861   42c842a5-7051-44c3-af42-cf824fded959 2022-06-29 14:11:06.409834+02:00   \n",
       "862   42c842a5-7051-44c3-af42-cf824fded959 2022-06-29 14:11:06.409834+02:00   \n",
       "863   42c842a5-7051-44c3-af42-cf824fded959 2022-06-29 14:11:06.409834+02:00   \n",
       "864   42c842a5-7051-44c3-af42-cf824fded959 2022-06-29 14:11:06.409834+02:00   \n",
       "865   42c842a5-7051-44c3-af42-cf824fded959 2022-06-29 14:11:06.409834+02:00   \n",
       "866   42c842a5-7051-44c3-af42-cf824fded959 2022-06-29 14:11:06.409834+02:00   \n",
       "867   42c842a5-7051-44c3-af42-cf824fded959 2022-06-29 14:11:06.409834+02:00   \n",
       "868   42c842a5-7051-44c3-af42-cf824fded959 2022-06-29 14:11:06.409834+02:00   \n",
       "869   42c842a5-7051-44c3-af42-cf824fded959 2022-06-29 14:11:06.409834+02:00   \n",
       "870   42c842a5-7051-44c3-af42-cf824fded959 2022-06-29 14:11:06.409834+02:00   \n",
       "871   42c842a5-7051-44c3-af42-cf824fded959 2022-06-29 14:11:06.409834+02:00   \n",
       "872   42c842a5-7051-44c3-af42-cf824fded959 2022-06-29 14:11:06.409834+02:00   \n",
       "873   42c842a5-7051-44c3-af42-cf824fded959 2022-06-29 14:11:06.409834+02:00   \n",
       "874   42c842a5-7051-44c3-af42-cf824fded959 2022-06-29 14:11:06.409834+02:00   \n",
       "875   42c842a5-7051-44c3-af42-cf824fded959 2022-06-29 14:11:06.409834+02:00   \n",
       "876   42c842a5-7051-44c3-af42-cf824fded959 2022-06-29 14:11:06.409834+02:00   \n",
       "877   42c842a5-7051-44c3-af42-cf824fded959 2022-06-29 14:11:06.409834+02:00   \n",
       "878   42c842a5-7051-44c3-af42-cf824fded959 2022-06-29 14:11:06.409834+02:00   \n",
       "879   42c842a5-7051-44c3-af42-cf824fded959 2022-06-29 14:11:06.409834+02:00   \n",
       "2725  d7fbc4b9-5f94-4639-b82b-6b1592b2ad3a 2022-06-29 19:34:02.048344+02:00   \n",
       "2728  d7fbc4b9-5f94-4639-b82b-6b1592b2ad3a 2022-06-29 19:34:02.048344+02:00   \n",
       "2729  d7fbc4b9-5f94-4639-b82b-6b1592b2ad3a 2022-06-29 19:34:02.048344+02:00   \n",
       "2730  d7fbc4b9-5f94-4639-b82b-6b1592b2ad3a 2022-06-29 19:34:02.048344+02:00   \n",
       "2731  d7fbc4b9-5f94-4639-b82b-6b1592b2ad3a 2022-06-29 19:34:02.048344+02:00   \n",
       "2732  d7fbc4b9-5f94-4639-b82b-6b1592b2ad3a 2022-06-29 19:34:02.048344+02:00   \n",
       "2733  d7fbc4b9-5f94-4639-b82b-6b1592b2ad3a 2022-06-29 19:34:02.048344+02:00   \n",
       "2734  d7fbc4b9-5f94-4639-b82b-6b1592b2ad3a 2022-06-29 19:34:02.048344+02:00   \n",
       "2735  d7fbc4b9-5f94-4639-b82b-6b1592b2ad3a 2022-06-29 19:34:02.048344+02:00   \n",
       "\n",
       "           DB                                     pic_name  wav_duration_s  \\\n",
       "74     PiSCES                                   Picture 81           91.05   \n",
       "75    Radboud  Rafd090_58_Caucasian_female_neutral_frontal           67.24   \n",
       "77    Radboud  Rafd090_04_Caucasian_female_neutral_frontal           70.49   \n",
       "81     PiSCES                                  Picture 105           54.10   \n",
       "790   Radboud    Rafd090_24_Caucasian_male_neutral_frontal           73.10   \n",
       "792   Radboud    Rafd090_36_Caucasian_male_neutral_frontal           76.25   \n",
       "845   Radboud    Rafd090_46_Caucasian_male_neutral_frontal           59.05   \n",
       "848    PiSCES                                   Picture 93           83.20   \n",
       "849   marloes                                      marloes           25.94   \n",
       "850   Radboud    Rafd090_24_Caucasian_male_neutral_frontal           58.62   \n",
       "851    PiSCES                                   Picture 56           95.32   \n",
       "852   Radboud    Rafd090_05_Caucasian_male_neutral_frontal           49.83   \n",
       "853    PiSCES                                   Picture 65           67.16   \n",
       "854   Radboud  Rafd090_57_Caucasian_female_neutral_frontal           75.18   \n",
       "855   marloes                                      marloes           25.94   \n",
       "856    PiSCES                                  Picture 110           63.57   \n",
       "857   Radboud  Rafd090_04_Caucasian_female_neutral_frontal           53.42   \n",
       "858    PiSCES                                   Picture 88           66.99   \n",
       "859   Radboud  Rafd090_27_Caucasian_female_neutral_frontal           58.37   \n",
       "860    PiSCES                                   Picture 87           67.84   \n",
       "861   marloes                                      marloes           25.09   \n",
       "862   Radboud  Rafd090_01_Caucasian_female_neutral_frontal           61.61   \n",
       "863    PiSCES                                   Picture 82          105.39   \n",
       "864   Radboud  Rafd090_02_Caucasian_female_neutral_frontal           45.91   \n",
       "865    PiSCES                                   Picture 96           71.68   \n",
       "866   Radboud    Rafd090_47_Caucasian_male_neutral_frontal           50.69   \n",
       "867   marloes                                      marloes           25.17   \n",
       "868    PiSCES                                   Picture 80           71.59   \n",
       "869   Radboud    Rafd090_36_Caucasian_male_neutral_frontal           49.75   \n",
       "870    PiSCES                                   Picture 59           69.29   \n",
       "871   Radboud  Rafd090_61_Caucasian_female_neutral_frontal           60.93   \n",
       "872    PiSCES                                   Picture 98           75.52   \n",
       "873   marloes                                      marloes           25.17   \n",
       "874   Radboud  Rafd090_58_Caucasian_female_neutral_frontal           93.10   \n",
       "875    PiSCES                                  Picture 132          101.55   \n",
       "876   Radboud    Rafd090_49_Caucasian_male_neutral_frontal           66.82   \n",
       "877    PiSCES                                  Picture 105           72.19   \n",
       "878   Radboud    Rafd090_33_Caucasian_male_neutral_frontal           76.20   \n",
       "879   marloes                                      marloes           23.72   \n",
       "2725  Radboud  Rafd090_02_Caucasian_female_neutral_frontal           41.81   \n",
       "2728  Radboud  Rafd090_61_Caucasian_female_neutral_frontal           41.98   \n",
       "2729   PiSCES                                  Picture 110           41.47   \n",
       "2730  Radboud  Rafd090_58_Caucasian_female_neutral_frontal           45.74   \n",
       "2731   PiSCES                                   Picture 80           59.39   \n",
       "2732  marloes                                      marloes           20.65   \n",
       "2733  Radboud    Rafd090_24_Caucasian_male_neutral_frontal           49.49   \n",
       "2734   PiSCES                                   Picture 82           60.33   \n",
       "2735  Radboud    Rafd090_36_Caucasian_male_neutral_frontal           36.10   \n",
       "\n",
       "      time_str  \n",
       "74    22:13:27  \n",
       "75    22:14:45  \n",
       "77    22:17:13  \n",
       "81    22:21:22  \n",
       "790   18:30:53  \n",
       "792   18:34:16  \n",
       "845   14:22:30  \n",
       "848   14:26:44  \n",
       "849   14:27:22  \n",
       "850   14:28:30  \n",
       "851   14:30:13  \n",
       "852   14:31:12  \n",
       "853   14:32:29  \n",
       "854   14:34:01  \n",
       "855   14:34:34  \n",
       "856   14:35:48  \n",
       "857   14:36:50  \n",
       "858   14:38:09  \n",
       "859   14:39:18  \n",
       "860   14:40:32  \n",
       "861   14:41:02  \n",
       "862   14:42:20  \n",
       "863   14:44:14  \n",
       "864   14:45:05  \n",
       "865   14:46:53  \n",
       "866   14:47:57  \n",
       "867   14:48:31  \n",
       "868   14:49:54  \n",
       "869   14:50:53  \n",
       "870   14:52:13  \n",
       "871   14:53:26  \n",
       "872   14:54:49  \n",
       "873   14:55:21  \n",
       "874   14:57:31  \n",
       "875   14:59:19  \n",
       "876   15:01:19  \n",
       "877   15:02:40  \n",
       "878   15:04:04  \n",
       "879   15:04:34  \n",
       "2725  19:52:41  \n",
       "2728  19:54:55  \n",
       "2729  19:55:44  \n",
       "2730  19:56:41  \n",
       "2731  19:57:47  \n",
       "2732  19:58:16  \n",
       "2733  19:59:13  \n",
       "2734  20:00:21  \n",
       "2735  20:01:12  "
      ]
     },
     "execution_count": 96,
     "metadata": {},
     "output_type": "execute_result"
    }
   ],
   "source": [
    "df_session_metric[\n",
    "    (df_session_metric.wav_duration_s > 17)\n",
    "    &\n",
    "    # totally silent; no speech at all\n",
    "    # (df_session_metric.filter(like='srmr').quantile(q=0.85, axis=1) > 40)\n",
    "    # (df_session_metric.filter(like='srmr').apply(lambda x: x[x.notna()][1:-1].mean(), axis=1) > 18)\n",
    "    # determined heuristically -> seemed like a good estimate\n",
    "    (\n",
    "        (df_session_metric.filter(like=\"mosnet\").mean(axis=1) < 2)\n",
    "        | (df_session_metric.filter(like=\"mosnet\").min(axis=1) < 1.5)\n",
    "        | (df_session_metric.filter(like=\"srmr_\").median(axis=1) < 0.5)\n",
    "        | (df_session_metric.filter(like=\"srmr_\").quantile(q=0.3, axis=1) < 0.7)\n",
    "        | (df_session_metric[\"srmrpy\"] < 0.8)\n",
    "    )\n",
    "][[\"ID\", \"timestamp\", \"DB\", \"pic_name\", \"wav_duration_s\", \"time_str\"]]\n"
   ]
  },
  {
   "cell_type": "code",
   "execution_count": null,
   "metadata": {},
   "outputs": [
    {
     "data": {
      "text/plain": [
       "array(['0c28e160-d7bb-4b17-829c-c9ebc7ad0a1f',\n",
       "       '3a8266c9-7087-45fe-98e4-6c9c001c0050',\n",
       "       '42c842a5-7051-44c3-af42-cf824fded959',\n",
       "       'd7fbc4b9-5f94-4639-b82b-6b1592b2ad3a'], dtype=object)"
      ]
     },
     "execution_count": 97,
     "metadata": {},
     "output_type": "execute_result"
    }
   ],
   "source": [
    "df_session_metric[\n",
    "    (df_session_metric.wav_duration_s > 17)\n",
    "    &\n",
    "    # totally silent; no speech at all\n",
    "    # (df_session_metric.filter(like='srmr').quantile(q=0.85, axis=1) > 40)\n",
    "    # (df_session_metric.filter(like='srmr').apply(lambda x: x[x.notna()][1:-1].mean(), axis=1) > 18)\n",
    "    # determined heuristically -> seemed like a good estimate\n",
    "    (\n",
    "        (df_session_metric.filter(like=\"mosnet\").mean(axis=1) < 2)\n",
    "        | (df_session_metric.filter(like=\"mosnet\").min(axis=1) < 1.5)\n",
    "        | (df_session_metric.filter(like=\"srmr_\").median(axis=1) < 0.5)\n",
    "        | (df_session_metric.filter(like=\"srmr_\").quantile(q=0.3, axis=1) < 0.7)\n",
    "        | (df_session_metric[\"srmrpy\"] < 0.8)\n",
    "    )\n",
    "][[\"ID\", \"timestamp\", \"DB\", \"pic_name\", \"wav_duration_s\", \"time_str\"]].ID.unique()\n"
   ]
  }
 ],
 "metadata": {
  "kernelspec": {
   "display_name": "Python 3 (ipykernel)",
   "language": "python",
   "name": "python3"
  },
  "language_info": {
   "codemirror_mode": {
    "name": "ipython",
    "version": 3
   },
   "file_extension": ".py",
   "mimetype": "text/x-python",
   "name": "python",
   "nbconvert_exporter": "python",
   "pygments_lexer": "ipython3",
   "version": "3.8.13"
  },
  "vscode": {
   "interpreter": {
    "hash": "14accab11a8dde1829a82d5477aee5050c56a20d58c0fbbbf6574e6407175af4"
   }
  }
 },
 "nbformat": 4,
 "nbformat_minor": 4
}
