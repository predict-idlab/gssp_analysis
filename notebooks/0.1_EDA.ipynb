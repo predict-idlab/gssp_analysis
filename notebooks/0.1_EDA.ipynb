{
 "cells": [
  {
   "cell_type": "code",
   "execution_count": 1,
   "id": "21c6797f-dd1c-4bda-90d4-659ab88264e3",
   "metadata": {
    "tags": []
   },
   "outputs": [],
   "source": [
    "%load_ext autoreload\n",
    "%autoreload 2"
   ]
  },
  {
   "cell_type": "code",
   "execution_count": 2,
   "id": "eb8795e8-d000-4ac6-ab7a-3bddb68055d6",
   "metadata": {
    "tags": []
   },
   "outputs": [],
   "source": [
    "import json\n",
    "import sys\n",
    "\n",
    "from pathlib import Path\n",
    "import pandas as pd\n",
    "from IPython.display import display\n",
    "import matplotlib.pyplot as plt\n",
    "from functional import seq\n",
    "import librosa\n",
    "import seaborn as sns\n",
    "\n",
    "sns.set_context(\"talk\")\n",
    "\n",
    "sys.path.append(\"..\")\n",
    "from sgs_utils.path_conf import speech_data_session_dir, loc_data_dir\n",
    "\n",
    "pd.options.display.max_columns = None\n",
    "pd.options.display.max_rows = 50"
   ]
  },
  {
   "cell_type": "markdown",
   "id": "a79fe8cf",
   "metadata": {},
   "source": [
    "## Downloading all the data"
   ]
  },
  {
   "cell_type": "code",
   "execution_count": 3,
   "id": "9ccb963b",
   "metadata": {},
   "outputs": [],
   "source": [
    "# TODO update this with the latest link\n",
    "# !wget --output-document=\"speech_data_webapp.zip\" https://cloud.ilabt.imec.be/index.php/s/tB2enWmZCJskGmG/download\n",
    "# !unzip speech_data_webapp.zip\n",
    "# !mv speech_web_app /project_scratch/data/\n",
    "# !rm speech_data_webapp.zip\n"
   ]
  },
  {
   "cell_type": "markdown",
   "id": "c317f314",
   "metadata": {},
   "source": [
    "The folder structure:"
   ]
  },
  {
   "cell_type": "markdown",
   "id": "74364319",
   "metadata": {},
   "source": [
    "```txt\n",
    "speech_webapp_cleaned\n",
    "|-- backup\n",
    "|   |-- 2020-11-26__12:40:00+01:00__4949e55b-daff-4255-9741-3206033a736b\n",
    "|   |   |-- PiSCES\n",
    "|   |   |-- Radboud\n",
    "|   |   |-- marloes\n",
    "|   |   `-- metadata.json\n",
    "|   |-- 2020-11-26__14:29:00+01:00__8fb4d923-48d0-4704-9c32-235c61227f76\n",
    "|   |   |-- PiSCES\n",
    "|   |   |-- Radboud\n",
    "|   |   |-- marloes\n",
    "|   |   `-- metadata.json\n",
    "|   |-- 2020-11-26__16:20:00+01:00__b8b6a8ee-2b45-41e1-9d93-3eacbc25fc34\n",
    "|   |   |-- PiSCES\n",
    "|   |   |-- Radboud\n",
    "|   |   |-- marloes\n",
    "|   |   `-- metadata.json\n",
    "|   |-- ...\n",
    "```"
   ]
  },
  {
   "cell_type": "code",
   "execution_count": 4,
   "id": "c834491c",
   "metadata": {
    "tags": []
   },
   "outputs": [
    {
     "name": "stdout",
     "output_type": "stream",
     "text": [
      "total 0\n",
      "drwxr-xr-x 5 jonas jonas 71 Aug  3 23:16 2020-11-26__12:40:00+01:00__4949e55b-daff-4255-9741-3206033a736b\n",
      "drwxr-xr-x 5 jonas jonas 71 Jun 27 07:19 2020-11-26__14:29:00+01:00__8fb4d923-48d0-4704-9c32-235c61227f76\n",
      "drwxr-xr-x 5 jonas jonas 71 Jun 27 07:19 2020-11-26__16:20:00+01:00__b8b6a8ee-2b45-41e1-9d93-3eacbc25fc34\n",
      "drwxr-xr-x 5 jonas jonas 71 Jun 27 07:20 2020-11-26__18:50:00+01:00__33583a00-841f-4bef-b711-a8fe58c14476\n",
      "drwxr-xr-x 5 jonas jonas 71 Jun 27 07:20 2020-11-27__08:06:00+01:00__f46c79e9-7c35-4bd4-b384-078aeae84af7\n",
      "drwxr-xr-x 5 jonas jonas 71 Jun 27 07:20 2020-11-27__08:26:00+01:00__9223720f-1a2a-4811-84a1-a421646f63a0\n",
      "drwxr-xr-x 5 jonas jonas 71 Jun 27 07:21 2020-11-27__12:06:00+01:00__716dc108-5588-49ed-bf3c-04fb87212e2b\n",
      "drwxr-xr-x 5 jonas jonas 71 Jun 27 07:21 2020-11-27__12:24:00+01:00__99d276a0-83fe-4d47-949e-481dc67b2688\n",
      "drwxr-xr-x 5 jonas jonas 71 Jun 27 07:22 2020-11-27__16:37:00+01:00__b55d08fb-30f3-499f-8cf4-f0f44321f1a9\n"
     ]
    }
   ],
   "source": [
    "# look at the data\n",
    "!ls -lh {speech_data_session_dir} | head -n 10"
   ]
  },
  {
   "cell_type": "code",
   "execution_count": 5,
   "id": "ed9ebcc6",
   "metadata": {
    "tags": []
   },
   "outputs": [
    {
     "name": "stdout",
     "output_type": "stream",
     "text": [
      "marloes    89\n",
      "PiSCES     89\n",
      "Radboud    89\n",
      "dtype: int64\n"
     ]
    }
   ],
   "source": [
    "# This snippet summarizes the dir-names of the various folders\n",
    "# within `speech_data_session_dir`\n",
    "dir_list = []\n",
    "for folder in speech_data_session_dir.iterdir():\n",
    "    if not folder.is_dir():\n",
    "        continue\n",
    "    dir_list.extend(\n",
    "        seq(folder.iterdir())\n",
    "        .filter(lambda x: x.is_dir())\n",
    "        .map(lambda x: x.name)\n",
    "        .to_list()\n",
    "    )\n",
    "print(pd.Series(dir_list).value_counts())\n",
    "del dir_list, folder\n"
   ]
  },
  {
   "cell_type": "markdown",
   "id": "7998e716",
   "metadata": {},
   "source": [
    "## Parsing the `metadata.json` file"
   ]
  },
  {
   "cell_type": "markdown",
   "id": "bcf11db9",
   "metadata": {},
   "source": [
    "The `metadata.json` file resides within each user ID folder and withholds the users's \n",
    "metadata such as:\n",
    "* gender\n",
    "* age\n",
    "* education\n",
    "* used mic\n",
    "* etc ..."
   ]
  },
  {
   "cell_type": "code",
   "execution_count": 6,
   "id": "9cdb2143",
   "metadata": {},
   "outputs": [
    {
     "name": "stdout",
     "output_type": "stream",
     "text": [
      "<class 'pandas.core.frame.DataFrame'>\n",
      "RangeIndex: 89 entries, 0 to 88\n",
      "Data columns (total 10 columns):\n",
      " #   Column          Non-Null Count  Dtype                          \n",
      "---  ------          --------------  -----                          \n",
      " 0   age             89 non-null     int64                          \n",
      " 1   education       89 non-null     category                       \n",
      " 2   sex             89 non-null     category                       \n",
      " 3   timestamp       89 non-null     datetime64[ns, Europe/Brussels]\n",
      " 4   ID              89 non-null     object                         \n",
      " 5   Marloes         89 non-null     int64                          \n",
      " 6   PiSCES          89 non-null     int64                          \n",
      " 7   Radboud         89 non-null     int64                          \n",
      " 8   device          75 non-null     category                       \n",
      " 9   prolific_token  54 non-null     object                         \n",
      "dtypes: category(3), datetime64[ns, Europe/Brussels](1), int64(4), object(2)\n",
      "memory usage: 5.7+ KB\n"
     ]
    }
   ],
   "source": [
    "metadata_dict_list = []\n",
    "\n",
    "# creating alldata.csv\n",
    "for folder in speech_data_session_dir.iterdir():\n",
    "    if not folder.is_dir():\n",
    "        continue\n",
    "\n",
    "    metadata = folder.joinpath(\"metadata.json\")\n",
    "    if not metadata.is_file():\n",
    "        continue\n",
    "\n",
    "    with open(metadata, \"r\") as f:\n",
    "        metadata_dict = json.load(f)\n",
    "    metadata_dict[\"ID\"] = folder.name.split(\"__\")[-1]\n",
    "\n",
    "    metadata_dict[\"Marloes\"] = len(list(folder.joinpath(\"marloes\").glob(\"*.wav\")))\n",
    "    metadata_dict[\"PiSCES\"] = len(list(folder.joinpath(\"PiSCES\").glob(\"*.wav\")))\n",
    "    metadata_dict[\"Radboud\"] = len(list(folder.joinpath(\"Radboud\").glob(\"*.wav\")))\n",
    "\n",
    "    metadata_dict_list.append(metadata_dict)\n",
    "\n",
    "df_metadata = pd.DataFrame(metadata_dict_list)\n",
    "\n",
    "# convert the columns to the correct data format\n",
    "df_metadata[\"age\"] = df_metadata[\"age\"].astype(int)\n",
    "df_metadata[[\"sex\", \"device\", \"education\"]] = df_metadata[\n",
    "    [\"sex\", \"device\", \"education\"]\n",
    "].astype(\"category\")\n",
    "df_metadata[\"timestamp\"] = pd.to_datetime(\n",
    "    df_metadata.timestamp, utc=True\n",
    ").dt.tz_convert(\"Europe/Brussels\")\n",
    "\n",
    "del folder, metadata_dict, metadata_dict_list, f, metadata\n",
    "df_metadata.info()\n"
   ]
  },
  {
   "cell_type": "markdown",
   "id": "488642a5",
   "metadata": {},
   "source": [
    "## Participant metadata analysis"
   ]
  },
  {
   "cell_type": "code",
   "execution_count": 7,
   "id": "40b5b682",
   "metadata": {},
   "outputs": [
    {
     "data": {
      "text/plain": [
       "array([<AxesSubplot:ylabel='Frequency'>, <AxesSubplot:ylabel='Frequency'>,\n",
       "       <AxesSubplot:ylabel='Frequency'>], dtype=object)"
      ]
     },
     "execution_count": 7,
     "metadata": {},
     "output_type": "execute_result"
    },
    {
     "data": {
      "image/png": "[encoded data removed]",
      "text/plain": [
       "<Figure size 576x360 with 3 Axes>"
      ]
     },
     "metadata": {
      "needs_background": "light"
     },
     "output_type": "display_data"
    }
   ],
   "source": [
    "df_metadata[[\"Marloes\", \"PiSCES\", \"Radboud\"]].plot(\n",
    "    subplots=True,\n",
    "    kind=\"hist\",\n",
    "    figsize=(8, 5),\n",
    "    sharex=False,\n",
    "    color=sns.color_palette(\"Set2\"),\n",
    "    title=\"Number of recordings per dataset\",\n",
    ")\n"
   ]
  },
  {
   "cell_type": "code",
   "execution_count": 8,
   "id": "7fc49e61",
   "metadata": {},
   "outputs": [
    {
     "data": {
      "text/html": [
       "<div>\n",
       "<style scoped>\n",
       "    .dataframe tbody tr th:only-of-type {\n",
       "        vertical-align: middle;\n",
       "    }\n",
       "\n",
       "    .dataframe tbody tr th {\n",
       "        vertical-align: top;\n",
       "    }\n",
       "\n",
       "    .dataframe thead th {\n",
       "        text-align: right;\n",
       "    }\n",
       "</style>\n",
       "<table border=\"1\" class=\"dataframe\">\n",
       "  <thead>\n",
       "    <tr style=\"text-align: right;\">\n",
       "      <th></th>\n",
       "      <th>age</th>\n",
       "      <th>Marloes</th>\n",
       "      <th>PiSCES</th>\n",
       "      <th>Radboud</th>\n",
       "    </tr>\n",
       "  </thead>\n",
       "  <tbody>\n",
       "    <tr>\n",
       "      <th>count</th>\n",
       "      <td>89.000000</td>\n",
       "      <td>89.000000</td>\n",
       "      <td>89.000000</td>\n",
       "      <td>89.000000</td>\n",
       "    </tr>\n",
       "    <tr>\n",
       "      <th>mean</th>\n",
       "      <td>27.528090</td>\n",
       "      <td>6.932584</td>\n",
       "      <td>14.831461</td>\n",
       "      <td>14.865169</td>\n",
       "    </tr>\n",
       "    <tr>\n",
       "      <th>std</th>\n",
       "      <td>6.629976</td>\n",
       "      <td>0.330212</td>\n",
       "      <td>1.298915</td>\n",
       "      <td>0.906931</td>\n",
       "    </tr>\n",
       "    <tr>\n",
       "      <th>min</th>\n",
       "      <td>19.000000</td>\n",
       "      <td>5.000000</td>\n",
       "      <td>3.000000</td>\n",
       "      <td>7.000000</td>\n",
       "    </tr>\n",
       "    <tr>\n",
       "      <th>25%</th>\n",
       "      <td>23.000000</td>\n",
       "      <td>7.000000</td>\n",
       "      <td>15.000000</td>\n",
       "      <td>15.000000</td>\n",
       "    </tr>\n",
       "    <tr>\n",
       "      <th>50%</th>\n",
       "      <td>26.000000</td>\n",
       "      <td>7.000000</td>\n",
       "      <td>15.000000</td>\n",
       "      <td>15.000000</td>\n",
       "    </tr>\n",
       "    <tr>\n",
       "      <th>75%</th>\n",
       "      <td>30.000000</td>\n",
       "      <td>7.000000</td>\n",
       "      <td>15.000000</td>\n",
       "      <td>15.000000</td>\n",
       "    </tr>\n",
       "    <tr>\n",
       "      <th>max</th>\n",
       "      <td>53.000000</td>\n",
       "      <td>7.000000</td>\n",
       "      <td>16.000000</td>\n",
       "      <td>15.000000</td>\n",
       "    </tr>\n",
       "  </tbody>\n",
       "</table>\n",
       "</div>"
      ],
      "text/plain": [
       "             age    Marloes     PiSCES    Radboud\n",
       "count  89.000000  89.000000  89.000000  89.000000\n",
       "mean   27.528090   6.932584  14.831461  14.865169\n",
       "std     6.629976   0.330212   1.298915   0.906931\n",
       "min    19.000000   5.000000   3.000000   7.000000\n",
       "25%    23.000000   7.000000  15.000000  15.000000\n",
       "50%    26.000000   7.000000  15.000000  15.000000\n",
       "75%    30.000000   7.000000  15.000000  15.000000\n",
       "max    53.000000   7.000000  16.000000  15.000000"
      ]
     },
     "execution_count": 8,
     "metadata": {},
     "output_type": "execute_result"
    }
   ],
   "source": [
    "# NOTE: as for now we do not filter on the number of recordings\n",
    "df_metadata_relevant = (\n",
    "    # df_metadata[\n",
    "    # ~(\n",
    "    #     (df_metadata.Marloes >= 6)\n",
    "    #     & (df_metadata.Radboud >= 14)\n",
    "    #     & (df_metadata.PiSCES >= 14)\n",
    "    # )\n",
    "    # ]\n",
    "    df_metadata.reset_index(drop=True).copy()\n",
    ")\n",
    "\n",
    "df_metadata_relevant[\n",
    "    [\"age\", \"sex\", \"device\", \"Marloes\", \"PiSCES\", \"Radboud\"]\n",
    "].describe()\n"
   ]
  },
  {
   "cell_type": "code",
   "execution_count": 9,
   "id": "95bcc4cd",
   "metadata": {},
   "outputs": [
    {
     "name": "stdout",
     "output_type": "stream",
     "text": [
      "28\t7\n"
     ]
    }
   ],
   "source": [
    "print(\n",
    "    f\"{round(df_metadata_relevant.age.mean())}\\t{round(df_metadata_relevant.age.std())}\"\n",
    ")\n"
   ]
  },
  {
   "cell_type": "code",
   "execution_count": 10,
   "id": "68d92d7b",
   "metadata": {},
   "outputs": [
    {
     "data": {
      "text/plain": [
       "female    45\n",
       "male      43\n",
       "other      1\n",
       "Name: sex, dtype: int64"
      ]
     },
     "metadata": {},
     "output_type": "display_data"
    },
    {
     "name": "stdout",
     "output_type": "stream",
     "text": [
      "----------------------------------------\n"
     ]
    },
    {
     "data": {
      "text/plain": [
       "pc-mic       36\n",
       "headset      17\n",
       "earphones    16\n",
       "other         6\n",
       "Name: device, dtype: int64"
      ]
     },
     "metadata": {},
     "output_type": "display_data"
    },
    {
     "name": "stdout",
     "output_type": "stream",
     "text": [
      "----------------------------------------\n"
     ]
    },
    {
     "data": {
      "text/plain": [
       "array([<AxesSubplot:ylabel='Frequency'>], dtype=object)"
      ]
     },
     "execution_count": 10,
     "metadata": {},
     "output_type": "execute_result"
    },
    {
     "data": {
      "image/png": "[encoded data removed]",
      "text/plain": [
       "<Figure size 720x360 with 1 Axes>"
      ]
     },
     "metadata": {
      "needs_background": "light"
     },
     "output_type": "display_data"
    }
   ],
   "source": [
    "display(df_metadata_relevant.sex.value_counts())\n",
    "print(\"-\" * 40)\n",
    "display(df_metadata_relevant.device.value_counts())\n",
    "print(\"-\" * 40)\n",
    "df_metadata_relevant.education.value_counts()\n",
    "\n",
    "# Also plot the distributions\n",
    "df_metadata_relevant[[\"age\"]].plot(\n",
    "    kind=\"hist\",\n",
    "    subplots=True,\n",
    "    sharex=False,\n",
    "    figsize=(10, 5),\n",
    "    backend=\"matplotlib\",\n",
    "    color=sns.color_palette(\"Set3\"),\n",
    "    bins=25,\n",
    ")\n"
   ]
  },
  {
   "cell_type": "markdown",
   "id": "e2ebb1e9",
   "metadata": {},
   "source": [
    "## Extract recording info for each session"
   ]
  },
  {
   "cell_type": "code",
   "execution_count": 11,
   "id": "6816aa09",
   "metadata": {},
   "outputs": [
    {
     "data": {
      "text/html": [
       "<div>\n",
       "<style scoped>\n",
       "    .dataframe tbody tr th:only-of-type {\n",
       "        vertical-align: middle;\n",
       "    }\n",
       "\n",
       "    .dataframe tbody tr th {\n",
       "        vertical-align: top;\n",
       "    }\n",
       "\n",
       "    .dataframe thead th {\n",
       "        text-align: right;\n",
       "    }\n",
       "</style>\n",
       "<table border=\"1\" class=\"dataframe\">\n",
       "  <thead>\n",
       "    <tr style=\"text-align: right;\">\n",
       "      <th></th>\n",
       "      <th>pic_name</th>\n",
       "      <th>time_str</th>\n",
       "      <th>wav_size</th>\n",
       "      <th>wav_sample_rate</th>\n",
       "      <th>wav_duration_s</th>\n",
       "      <th>wav_timestamp</th>\n",
       "      <th>ID</th>\n",
       "      <th>DB</th>\n",
       "      <th>arousal</th>\n",
       "      <th>valence</th>\n",
       "    </tr>\n",
       "  </thead>\n",
       "  <tbody>\n",
       "    <tr>\n",
       "      <th>1443</th>\n",
       "      <td>Picture 87</td>\n",
       "      <td>12:13:04</td>\n",
       "      <td>8372268</td>\n",
       "      <td>48000</td>\n",
       "      <td>87.21</td>\n",
       "      <td>2022-06-23 12:13:06+02:00</td>\n",
       "      <td>20adc51f-8ef5-41a2-9297-8dc263b40221</td>\n",
       "      <td>PiSCES</td>\n",
       "      <td>46</td>\n",
       "      <td>46</td>\n",
       "    </tr>\n",
       "    <tr>\n",
       "      <th>1969</th>\n",
       "      <td>marloes</td>\n",
       "      <td>22:32:16</td>\n",
       "      <td>2621484</td>\n",
       "      <td>48000</td>\n",
       "      <td>27.31</td>\n",
       "      <td>2022-06-27 22:32:16+02:00</td>\n",
       "      <td>0c28e160-d7bb-4b17-829c-c9ebc7ad0a1f</td>\n",
       "      <td>marloes</td>\n",
       "      <td>83</td>\n",
       "      <td>67</td>\n",
       "    </tr>\n",
       "    <tr>\n",
       "      <th>752</th>\n",
       "      <td>Rafd090_02_Caucasian_female_neutral_frontal</td>\n",
       "      <td>18:22:45</td>\n",
       "      <td>2482220</td>\n",
       "      <td>48000</td>\n",
       "      <td>25.86</td>\n",
       "      <td>2020-12-04 18:22:48+01:00</td>\n",
       "      <td>9c44a144-8722-4d83-9bc7-f3c1189c5b82</td>\n",
       "      <td>Radboud</td>\n",
       "      <td>40</td>\n",
       "      <td>25</td>\n",
       "    </tr>\n",
       "  </tbody>\n",
       "</table>\n",
       "</div>"
      ],
      "text/plain": [
       "                                         pic_name  time_str  wav_size  \\\n",
       "1443                                   Picture 87  12:13:04   8372268   \n",
       "1969                                      marloes  22:32:16   2621484   \n",
       "752   Rafd090_02_Caucasian_female_neutral_frontal  18:22:45   2482220   \n",
       "\n",
       "      wav_sample_rate  wav_duration_s             wav_timestamp  \\\n",
       "1443            48000           87.21 2022-06-23 12:13:06+02:00   \n",
       "1969            48000           27.31 2022-06-27 22:32:16+02:00   \n",
       "752             48000           25.86 2020-12-04 18:22:48+01:00   \n",
       "\n",
       "                                        ID       DB  arousal  valence  \n",
       "1443  20adc51f-8ef5-41a2-9297-8dc263b40221   PiSCES       46       46  \n",
       "1969  0c28e160-d7bb-4b17-829c-c9ebc7ad0a1f  marloes       83       67  \n",
       "752   9c44a144-8722-4d83-9bc7-f3c1189c5b82  Radboud       40       25  "
      ]
     },
     "metadata": {},
     "output_type": "display_data"
    },
    {
     "name": "stdout",
     "output_type": "stream",
     "text": [
      "----------------------------------------------------------------------------------------\n"
     ]
    },
    {
     "data": {
      "text/html": [
       "<div>\n",
       "<style scoped>\n",
       "    .dataframe tbody tr th:only-of-type {\n",
       "        vertical-align: middle;\n",
       "    }\n",
       "\n",
       "    .dataframe tbody tr th {\n",
       "        vertical-align: top;\n",
       "    }\n",
       "\n",
       "    .dataframe thead th {\n",
       "        text-align: right;\n",
       "    }\n",
       "</style>\n",
       "<table border=\"1\" class=\"dataframe\">\n",
       "  <thead>\n",
       "    <tr style=\"text-align: right;\">\n",
       "      <th></th>\n",
       "      <th>age</th>\n",
       "      <th>education</th>\n",
       "      <th>sex</th>\n",
       "      <th>timestamp</th>\n",
       "      <th>ID</th>\n",
       "      <th>Marloes</th>\n",
       "      <th>PiSCES</th>\n",
       "      <th>Radboud</th>\n",
       "      <th>device</th>\n",
       "      <th>prolific_token</th>\n",
       "      <th>pic_name</th>\n",
       "      <th>time_str</th>\n",
       "      <th>wav_size</th>\n",
       "      <th>wav_sample_rate</th>\n",
       "      <th>wav_duration_s</th>\n",
       "      <th>wav_timestamp</th>\n",
       "      <th>DB</th>\n",
       "      <th>arousal</th>\n",
       "      <th>valence</th>\n",
       "    </tr>\n",
       "  </thead>\n",
       "  <tbody>\n",
       "    <tr>\n",
       "      <th>2984</th>\n",
       "      <td>20</td>\n",
       "      <td>so</td>\n",
       "      <td>female</td>\n",
       "      <td>2022-07-27 09:18:42.581883+02:00</td>\n",
       "      <td>36996711-b0d1-41f9-974d-65bf8f7746dc</td>\n",
       "      <td>7</td>\n",
       "      <td>14</td>\n",
       "      <td>15</td>\n",
       "      <td>pc-mic</td>\n",
       "      <td>n.a.611d12bc994ab44f9fee72d6</td>\n",
       "      <td>Rafd090_57_Caucasian_female_neutral_frontal</td>\n",
       "      <td>09:45:40</td>\n",
       "      <td>4399148</td>\n",
       "      <td>48000</td>\n",
       "      <td>45.82</td>\n",
       "      <td>2022-07-27 09:45:46+02:00</td>\n",
       "      <td>Radboud</td>\n",
       "      <td>36</td>\n",
       "      <td>59</td>\n",
       "    </tr>\n",
       "    <tr>\n",
       "      <th>2695</th>\n",
       "      <td>25</td>\n",
       "      <td>ho</td>\n",
       "      <td>female</td>\n",
       "      <td>2022-07-17 13:09:11.536769+02:00</td>\n",
       "      <td>795f5119-2b11-49f9-80ea-e5a5ef61f4bf</td>\n",
       "      <td>7</td>\n",
       "      <td>15</td>\n",
       "      <td>15</td>\n",
       "      <td>headset</td>\n",
       "      <td>61115e026711eecf59e0e7ee</td>\n",
       "      <td>Picture 56</td>\n",
       "      <td>13:37:49</td>\n",
       "      <td>5546028</td>\n",
       "      <td>48000</td>\n",
       "      <td>57.77</td>\n",
       "      <td>2022-07-17 13:37:56+02:00</td>\n",
       "      <td>PiSCES</td>\n",
       "      <td>61</td>\n",
       "      <td>72</td>\n",
       "    </tr>\n",
       "    <tr>\n",
       "      <th>2641</th>\n",
       "      <td>32</td>\n",
       "      <td>ho</td>\n",
       "      <td>female</td>\n",
       "      <td>2022-07-16 21:49:33.730743+02:00</td>\n",
       "      <td>c30db4c2-a62a-4d69-8f1b-893a1f4b8c9d</td>\n",
       "      <td>7</td>\n",
       "      <td>15</td>\n",
       "      <td>15</td>\n",
       "      <td>pc-mic</td>\n",
       "      <td>5e360d610d43625c7da0a09d</td>\n",
       "      <td>Rafd090_04_Caucasian_female_neutral_frontal</td>\n",
       "      <td>22:08:55</td>\n",
       "      <td>5898284</td>\n",
       "      <td>48000</td>\n",
       "      <td>61.44</td>\n",
       "      <td>2022-07-16 22:08:56+02:00</td>\n",
       "      <td>Radboud</td>\n",
       "      <td>0</td>\n",
       "      <td>66</td>\n",
       "    </tr>\n",
       "  </tbody>\n",
       "</table>\n",
       "</div>"
      ],
      "text/plain": [
       "      age education     sex                        timestamp  \\\n",
       "2984   20        so  female 2022-07-27 09:18:42.581883+02:00   \n",
       "2695   25        ho  female 2022-07-17 13:09:11.536769+02:00   \n",
       "2641   32        ho  female 2022-07-16 21:49:33.730743+02:00   \n",
       "\n",
       "                                        ID  Marloes  PiSCES  Radboud   device  \\\n",
       "2984  36996711-b0d1-41f9-974d-65bf8f7746dc        7      14       15   pc-mic   \n",
       "2695  795f5119-2b11-49f9-80ea-e5a5ef61f4bf        7      15       15  headset   \n",
       "2641  c30db4c2-a62a-4d69-8f1b-893a1f4b8c9d        7      15       15   pc-mic   \n",
       "\n",
       "                    prolific_token  \\\n",
       "2984  n.a.611d12bc994ab44f9fee72d6   \n",
       "2695      61115e026711eecf59e0e7ee   \n",
       "2641      5e360d610d43625c7da0a09d   \n",
       "\n",
       "                                         pic_name  time_str  wav_size  \\\n",
       "2984  Rafd090_57_Caucasian_female_neutral_frontal  09:45:40   4399148   \n",
       "2695                                   Picture 56  13:37:49   5546028   \n",
       "2641  Rafd090_04_Caucasian_female_neutral_frontal  22:08:55   5898284   \n",
       "\n",
       "      wav_sample_rate  wav_duration_s             wav_timestamp       DB  \\\n",
       "2984            48000           45.82 2022-07-27 09:45:46+02:00  Radboud   \n",
       "2695            48000           57.77 2022-07-17 13:37:56+02:00   PiSCES   \n",
       "2641            48000           61.44 2022-07-16 22:08:56+02:00  Radboud   \n",
       "\n",
       "      arousal  valence  \n",
       "2984       36       59  \n",
       "2695       61       72  \n",
       "2641        0       66  "
      ]
     },
     "metadata": {},
     "output_type": "display_data"
    }
   ],
   "source": [
    "session_dict_list = []\n",
    "\n",
    "\n",
    "# Iterate over each session\n",
    "for folder in speech_data_session_dir.iterdir():\n",
    "    if not folder.is_dir():\n",
    "        continue\n",
    "\n",
    "    def parse_pic_name_ts(db_folder, pic_name, time_str, sep=\"__\") -> dict:\n",
    "        \"\"\"Get the arousal valence json for the corresponding description\"\"\"\n",
    "        # what can we save from the wav file?\n",
    "        json_f = sep.join([pic_name, time_str]) + \".json\"\n",
    "        json_f = db_folder.joinpath(json_f)\n",
    "        if not json_f.is_file():\n",
    "            # print('json_f does not exist')\n",
    "            return {}\n",
    "\n",
    "        with open(json_f, \"r\") as f:\n",
    "            return json.load(f)\n",
    "\n",
    "    def get_wav_json_mapping(db_folder: Path) -> dict:\n",
    "        \"\"\"Get the mapping from wav file to corresponding json (arousal/valence) file\"\"\"\n",
    "        # parse the wav files to construct a dataframe\n",
    "        wav_list = list(db_folder.glob(\"*.wav\"))\n",
    "        df_db_wav = pd.Series(\n",
    "            seq(wav_list).map(lambda x: x.name), name=\"wav_files\", dtype=\"str\"\n",
    "        ).to_frame()\n",
    "        df_db_wav[\"wav_timestamp\"] = (\n",
    "            seq(wav_list)\n",
    "            .map(\n",
    "                lambda wav_file: pd.Timestamp(\n",
    "                    wav_file.stat().st_mtime, unit=\"s\", tz=\"Europe/Brussels\"\n",
    "                )\n",
    "            )\n",
    "            .to_list()\n",
    "        )\n",
    "        df_db_wav = df_db_wav.sort_values(by=\"wav_timestamp\")\n",
    "\n",
    "        # parse the json files to construct a dataframe\n",
    "        json_list = list(db_folder.glob(\"*.json\"))\n",
    "        df_db_json = pd.Series(\n",
    "            seq(json_list).map(lambda x: x.name), name=\"json_files\", dtype=\"str\"\n",
    "        ).to_frame()\n",
    "        df_db_json[\"json_timestamp\"] = (\n",
    "            seq(json_list)\n",
    "            .map(\n",
    "                lambda json_file: pd.Timestamp(\n",
    "                    json_file.stat().st_mtime, unit=\"s\", tz=\"Europe/Brussels\"\n",
    "                )\n",
    "            )\n",
    "            .to_list()\n",
    "        )\n",
    "        df_db_json = df_db_json.sort_values(by=\"json_timestamp\")\n",
    "\n",
    "        json_wav_mapping = pd.merge_asof(\n",
    "            left=df_db_wav,\n",
    "            right=df_db_json,\n",
    "            left_on=\"wav_timestamp\",\n",
    "            right_on=\"json_timestamp\",\n",
    "            tolerance=pd.Timedelta(minutes=5),\n",
    "            # A \"forward\" search selects the first row in the right DataFrame whose 'on' key\n",
    "            # is greater than or equal to the left's key.\n",
    "            direction=\"forward\",\n",
    "        )\n",
    "\n",
    "        json_wav_mapping = json_wav_mapping.dropna(how=\"any\", axis=0)\n",
    "        json_wav_mapping = json_wav_mapping[\n",
    "            ~(\n",
    "                json_wav_mapping[\"wav_timestamp\"]\n",
    "                < json_wav_mapping[\"json_timestamp\"].shift(1)\n",
    "            )\n",
    "        ].reset_index(drop=True)\n",
    "\n",
    "        # Asserts to check that the merge is performed correctly\n",
    "        assert all(\n",
    "            (\n",
    "                json_wav_mapping[\"json_timestamp\"].shift(1)\n",
    "                < json_wav_mapping[\"wav_timestamp\"]\n",
    "            ).values[1:]\n",
    "        )\n",
    "        wav_json_mapping_dict = (\n",
    "            json_wav_mapping[[\"json_files\", \"wav_files\"]]\n",
    "            .set_index(\"wav_files\")\n",
    "            .to_dict()[\"json_files\"]\n",
    "        )\n",
    "        return wav_json_mapping_dict\n",
    "\n",
    "    # Iterate over each database folder\n",
    "    for db_folder in [folder.joinpath(x) for x in [\"marloes\", \"Radboud\", \"PiSCES\"]]:\n",
    "        wav_json_mapping_dict = get_wav_json_mapping(db_folder)\n",
    "\n",
    "        for wav_file in db_folder.glob(\"*.wav\"):\n",
    "            pic_name, time_str = wav_file.name.split(\"__\")\n",
    "            metadata_dict = parse_pic_name_ts(db_folder, pic_name, time_str)\n",
    "            metadata_dict[\"pic_name\"] = pic_name\n",
    "            metadata_dict[\"time_str\"] = time_str.split(\".\")[0]\n",
    "            metadata_dict[\"wav_size\"] = wav_file.stat().st_size\n",
    "            data, sample_rate = librosa.load(path=wav_file, sr=None)\n",
    "            metadata_dict[\"wav_sample_rate\"] = sample_rate\n",
    "            metadata_dict[\"wav_duration_s\"] = round(data.shape[0] / sample_rate, 2)\n",
    "            ts = pd.Timestamp(wav_file.stat().st_mtime, unit=\"s\", tz=\"Europe/Brussels\")\n",
    "            metadata_dict[\"wav_timestamp\"] = ts + ts.utcoffset()\n",
    "            metadata_dict[\"ID\"] = db_folder.parent.name.split(\"__\")[-1]\n",
    "            metadata_dict[\"DB\"] = db_folder.name\n",
    "\n",
    "            # also read the json file to fetch the arousal and valence values\n",
    "            if wav_file.name in wav_json_mapping_dict:\n",
    "                with open(\n",
    "                    db_folder.joinpath(wav_json_mapping_dict[wav_file.name]), \"r\"\n",
    "                ) as f:\n",
    "                    json_dct = json.load(f)\n",
    "                    metadata_dict[\"arousal\"] = int(json_dct.get(\"arousal\"))\n",
    "                    metadata_dict[\"valence\"] = int(json_dct.get(\"valence\"))\n",
    "\n",
    "            session_dict_list.append(metadata_dict)\n",
    "\n",
    "df_session = pd.DataFrame(session_dict_list)\n",
    "\n",
    "# Sanity check - to see whether the wav_time_obj corresponds with the time_str\n",
    "# there must be < 10 minutes of difference between the two\n",
    "assert all(\n",
    "    (\n",
    "        df_session.apply(\n",
    "            lambda r: r.wav_timestamp.replace(\n",
    "                **dict(\n",
    "                    zip(\n",
    "                        [\"hour\", \"minute\", \"second\"],\n",
    "                        list(map(int, r.time_str.split(\":\"))),\n",
    "                    )\n",
    "                )\n",
    "            ),\n",
    "            axis=1,\n",
    "        )\n",
    "        - df_session.wav_timestamp\n",
    "    ).abs()\n",
    "    < pd.Timedelta(minutes=10)\n",
    ")\n",
    "\n",
    "\n",
    "del folder, db_folder, wav_file, ts, metadata_dict, session_dict_list, time_str, f\n",
    "del parse_pic_name_ts, pic_name, wav_json_mapping_dict, json_dct, data, sample_rate\n",
    "\n",
    "display(df_session.sample(3))\n",
    "\n",
    "print(\"-\" * 88)\n",
    "\n",
    "df_session_tot = df_metadata_relevant.merge(\n",
    "    df_session, how=\"left\", left_on=\"ID\", right_on=\"ID\"\n",
    ")\n",
    "display(df_session_tot.sample(3))\n",
    "\n",
    "del df_session\n"
   ]
  },
  {
   "cell_type": "markdown",
   "id": "4908801d",
   "metadata": {},
   "source": [
    "### Add the `DB_no` and `session_no` column"
   ]
  },
  {
   "cell_type": "code",
   "execution_count": 12,
   "id": "4e71e49a",
   "metadata": {},
   "outputs": [
    {
     "name": "stdout",
     "output_type": "stream",
     "text": [
      "[  1  10   3   5   2   8 100  12 200]\n",
      "[0 4 2 3 5 1 7 6 8]\n",
      "[1 6 3 4 2 5 8 7 9]\n"
     ]
    }
   ],
   "source": [
    "import numpy as np\n",
    "\n",
    "# This is a simplified testcase to see whether the applied logic will work\n",
    "test_arr = [1, 10, 3, 5, 2, 8, 100, 12, 200]\n",
    "print(np.array(test_arr))\n",
    "print(np.argsort(test_arr))\n",
    "print(1 + np.argsort(np.argsort(test_arr)))\n"
   ]
  },
  {
   "cell_type": "code",
   "execution_count": 13,
   "id": "2fd220cb",
   "metadata": {},
   "outputs": [],
   "source": [
    "df_session_tot[\"DB_no\"] = df_session_tot.groupby([\"ID\", \"DB\"])[\"wav_timestamp\"].apply(\n",
    "    lambda s: 1 + s.argsort().argsort()\n",
    ")\n",
    "df_session_tot[\"session_no\"] = df_session_tot.groupby([\"ID\"])[\"wav_timestamp\"].apply(\n",
    "    lambda s: 1 + s.argsort().argsort()\n",
    ")\n",
    "\n",
    "df_session_tot[\"pic_no\"] = None\n",
    "pic_mask = df_session_tot.DB != \"marloes\"\n",
    "df_session_tot.loc[pic_mask, \"pic_no\"] = (\n",
    "    df_session_tot[pic_mask]\n",
    "    .groupby([\"ID\"])\n",
    "    .wav_timestamp.apply(lambda s: 1 + s.argsort().argsort())\n",
    ")\n"
   ]
  },
  {
   "cell_type": "code",
   "execution_count": 14,
   "id": "cf97fcac",
   "metadata": {},
   "outputs": [
    {
     "data": {
      "text/plain": [
       "False    3257\n",
       "True        3\n",
       "dtype: int64"
      ]
     },
     "metadata": {},
     "output_type": "display_data"
    }
   ],
   "source": [
    "# sort df session chronologically per user\n",
    "df_session_tot = df_session_tot.sort_values(\n",
    "    by=[\"ID\", \"wav_timestamp\"], ignore_index=True\n",
    ")\n",
    "\n",
    "# In some rare cases, users got the same image twice; we remove the sessions where\n",
    "# they got that image for the second time\n",
    "duplicated_mask = df_session_tot.duplicated(subset=[\"ID\", \"pic_name\"], keep=\"first\") & (\n",
    "    df_session_tot.DB != \"marloes\"\n",
    ")\n",
    "display(duplicated_mask.value_counts())\n",
    "df_session_tot = df_session_tot[~duplicated_mask].copy().reset_index(drop=True)\n",
    "del duplicated_mask\n"
   ]
  },
  {
   "cell_type": "markdown",
   "id": "46bd5517",
   "metadata": {},
   "source": [
    "## **Session analysis**: duration based visualizations"
   ]
  },
  {
   "cell_type": "code",
   "execution_count": 16,
   "id": "1b1018e8",
   "metadata": {},
   "outputs": [
    {
     "data": {
      "text/plain": [
       "<AxesSubplot:ylabel='Frequency'>"
      ]
     },
     "execution_count": 16,
     "metadata": {},
     "output_type": "execute_result"
    },
    {
     "data": {
      "image/png": "[encoded data removed]",
      "text/plain": [
       "<Figure size 720x360 with 1 Axes>"
      ]
     },
     "metadata": {
      "needs_background": "light"
     },
     "output_type": "display_data"
    }
   ],
   "source": [
    "(\n",
    "    (df_session_tot.wav_timestamp - df_session_tot.timestamp).dt.total_seconds() / 60\n",
    ").plot.hist(figsize=(10, 5), bins=30, color=sns.color_palette(\"Set2\", 2))\n"
   ]
  },
  {
   "cell_type": "code",
   "execution_count": 17,
   "id": "659abb03",
   "metadata": {},
   "outputs": [
    {
     "data": {
      "text/plain": [
       "(-1.0, 120.0)"
      ]
     },
     "execution_count": 17,
     "metadata": {},
     "output_type": "execute_result"
    },
    {
     "data": {
      "image/png": "[encoded data removed]",
      "text/plain": [
       "<Figure size 1440x576 with 1 Axes>"
      ]
     },
     "metadata": {
      "needs_background": "light"
     },
     "output_type": "display_data"
    }
   ],
   "source": [
    "fig, ax = plt.subplots(figsize=(20, 8))\n",
    "sns.set_context(\"talk\")\n",
    "sns.histplot(\n",
    "    data=df_session_tot,\n",
    "    hue=\"DB\",\n",
    "    x=\"wav_duration_s\",\n",
    "    palette=\"Set3\",\n",
    "    ax=ax,\n",
    "    bins=80,\n",
    "    binrange=[0, 120],\n",
    ")\n",
    "\n",
    "ax.axvline(x=15, ls=\":\", c=\"black\")\n",
    "ax.set_xlim(-1, 120)\n"
   ]
  },
  {
   "cell_type": "markdown",
   "id": "daf7f59c",
   "metadata": {},
   "source": [
    "### Analyzing the sample rate"
   ]
  },
  {
   "cell_type": "code",
   "execution_count": 18,
   "id": "cc1de622",
   "metadata": {},
   "outputs": [
    {
     "data": {
      "text/plain": [
       "<AxesSubplot:>"
      ]
     },
     "execution_count": 18,
     "metadata": {},
     "output_type": "execute_result"
    },
    {
     "data": {
      "image/png": "[encoded data removed]",
      "text/plain": [
       "<Figure size 432x288 with 1 Axes>"
      ]
     },
     "metadata": {
      "needs_background": "light"
     },
     "output_type": "display_data"
    }
   ],
   "source": [
    "df_session_tot.wav_sample_rate.value_counts().plot.bar()\n"
   ]
  },
  {
   "cell_type": "markdown",
   "id": "5b3b9300",
   "metadata": {},
   "source": [
    "### Investigating the file duration"
   ]
  },
  {
   "cell_type": "code",
   "execution_count": 17,
   "id": "f2cb430d",
   "metadata": {},
   "outputs": [
    {
     "data": {
      "text/html": [
       "<div>\n",
       "<style scoped>\n",
       "    .dataframe tbody tr th:only-of-type {\n",
       "        vertical-align: middle;\n",
       "    }\n",
       "\n",
       "    .dataframe tbody tr th {\n",
       "        vertical-align: top;\n",
       "    }\n",
       "\n",
       "    .dataframe thead th {\n",
       "        text-align: right;\n",
       "    }\n",
       "</style>\n",
       "<table border=\"1\" class=\"dataframe\">\n",
       "  <thead>\n",
       "    <tr style=\"text-align: right;\">\n",
       "      <th></th>\n",
       "      <th></th>\n",
       "      <th></th>\n",
       "      <th></th>\n",
       "      <th>0</th>\n",
       "    </tr>\n",
       "    <tr>\n",
       "      <th>ID</th>\n",
       "      <th>timestamp</th>\n",
       "      <th>prolific_token</th>\n",
       "      <th>DB</th>\n",
       "      <th></th>\n",
       "    </tr>\n",
       "  </thead>\n",
       "  <tbody>\n",
       "    <tr>\n",
       "      <th>9a725424-aafb-4d9b-8be7-acad80a46614</th>\n",
       "      <th>2022-07-27 14:55:01.266930+02:00</th>\n",
       "      <th>60fe5f65bf40c582873fefc2</th>\n",
       "      <th>Radboud</th>\n",
       "      <td>1</td>\n",
       "    </tr>\n",
       "    <tr>\n",
       "      <th rowspan=\"2\" valign=\"top\">a2dbee10-fc31-42ec-89f8-9b4e5fa74b7f</th>\n",
       "      <th rowspan=\"2\" valign=\"top\">2022-06-27 22:18:01.896264+02:00</th>\n",
       "      <th rowspan=\"2\" valign=\"top\">5f2be3f5d81eaf0009520f8b</th>\n",
       "      <th>PiSCES</th>\n",
       "      <td>14</td>\n",
       "    </tr>\n",
       "    <tr>\n",
       "      <th>Radboud</th>\n",
       "      <td>10</td>\n",
       "    </tr>\n",
       "    <tr>\n",
       "      <th>c30db4c2-a62a-4d69-8f1b-893a1f4b8c9d</th>\n",
       "      <th>2022-07-16 21:49:33.730743+02:00</th>\n",
       "      <th>5e360d610d43625c7da0a09d</th>\n",
       "      <th>Radboud</th>\n",
       "      <td>1</td>\n",
       "    </tr>\n",
       "  </tbody>\n",
       "</table>\n",
       "</div>"
      ],
      "text/plain": [
       "                                                                                                         0\n",
       "ID                                   timestamp                        prolific_token           DB         \n",
       "9a725424-aafb-4d9b-8be7-acad80a46614 2022-07-27 14:55:01.266930+02:00 60fe5f65bf40c582873fefc2 Radboud   1\n",
       "a2dbee10-fc31-42ec-89f8-9b4e5fa74b7f 2022-06-27 22:18:01.896264+02:00 5f2be3f5d81eaf0009520f8b PiSCES   14\n",
       "                                                                                               Radboud  10\n",
       "c30db4c2-a62a-4d69-8f1b-893a1f4b8c9d 2022-07-16 21:49:33.730743+02:00 5e360d610d43625c7da0a09d Radboud   1"
      ]
     },
     "execution_count": 17,
     "metadata": {},
     "output_type": "execute_result"
    }
   ],
   "source": [
    "df_session_tot[\n",
    "    (df_session_tot.wav_size > 400)\n",
    "    & (df_session_tot.wav_duration_s < 15)\n",
    "    & (df_session_tot.DB != \"marloes\")\n",
    "].groupby([\"ID\", \"timestamp\", \"prolific_token\", \"DB\"]).size().to_frame()\n"
   ]
  },
  {
   "cell_type": "markdown",
   "id": "da8b7699",
   "metadata": {},
   "source": [
    "`a2dbee10-fc31-42ec-89f8-9b4e5fa74b7f` has a lot of short segments => we will omit this users audio data. The valence/arousal data is still of interest though."
   ]
  },
  {
   "cell_type": "markdown",
   "id": "9962e7d6",
   "metadata": {},
   "source": [
    "### Parsing events"
   ]
  },
  {
   "cell_type": "code",
   "execution_count": 19,
   "id": "5b649f26",
   "metadata": {},
   "outputs": [
    {
     "data": {
      "text/html": [
       "<div>\n",
       "<style scoped>\n",
       "    .dataframe tbody tr th:only-of-type {\n",
       "        vertical-align: middle;\n",
       "    }\n",
       "\n",
       "    .dataframe tbody tr th {\n",
       "        vertical-align: top;\n",
       "    }\n",
       "\n",
       "    .dataframe thead th {\n",
       "        text-align: right;\n",
       "    }\n",
       "</style>\n",
       "<table border=\"1\" class=\"dataframe\">\n",
       "  <thead>\n",
       "    <tr style=\"text-align: right;\">\n",
       "      <th></th>\n",
       "      <th>age</th>\n",
       "      <th>education</th>\n",
       "      <th>sex</th>\n",
       "      <th>timestamp</th>\n",
       "      <th>ID</th>\n",
       "      <th>Marloes</th>\n",
       "      <th>PiSCES</th>\n",
       "      <th>Radboud</th>\n",
       "      <th>device</th>\n",
       "      <th>prolific_token</th>\n",
       "      <th>pic_name</th>\n",
       "      <th>time_str</th>\n",
       "      <th>wav_size</th>\n",
       "      <th>wav_sample_rate</th>\n",
       "      <th>wav_duration_s</th>\n",
       "      <th>wav_timestamp</th>\n",
       "      <th>DB</th>\n",
       "      <th>arousal</th>\n",
       "      <th>valence</th>\n",
       "      <th>DB_no</th>\n",
       "      <th>session_no</th>\n",
       "      <th>pic_no</th>\n",
       "    </tr>\n",
       "  </thead>\n",
       "  <tbody>\n",
       "    <tr>\n",
       "      <th>801</th>\n",
       "      <td>29</td>\n",
       "      <td>unif</td>\n",
       "      <td>male</td>\n",
       "      <td>2020-11-30 17:47:45.815021+01:00</td>\n",
       "      <td>3a8266c9-7087-45fe-98e4-6c9c001c0050</td>\n",
       "      <td>7</td>\n",
       "      <td>15</td>\n",
       "      <td>15</td>\n",
       "      <td>earphones</td>\n",
       "      <td>NaN</td>\n",
       "      <td>Picture 110</td>\n",
       "      <td>18:15:16</td>\n",
       "      <td>8405036</td>\n",
       "      <td>44100</td>\n",
       "      <td>95.29</td>\n",
       "      <td>2020-11-30 18:15:20+01:00</td>\n",
       "      <td>PiSCES</td>\n",
       "      <td>26</td>\n",
       "      <td>56</td>\n",
       "      <td>5</td>\n",
       "      <td>11</td>\n",
       "      <td>9</td>\n",
       "    </tr>\n",
       "    <tr>\n",
       "      <th>72</th>\n",
       "      <td>29</td>\n",
       "      <td>unif</td>\n",
       "      <td>female</td>\n",
       "      <td>2020-11-27 20:02:22.592132+01:00</td>\n",
       "      <td>0bae55f8-2aab-4c7b-917f-7f0c3e627e5f</td>\n",
       "      <td>7</td>\n",
       "      <td>15</td>\n",
       "      <td>15</td>\n",
       "      <td>NaN</td>\n",
       "      <td>NaN</td>\n",
       "      <td>Rafd090_58_Caucasian_female_neutral_frontal</td>\n",
       "      <td>20:38:22</td>\n",
       "      <td>1736748</td>\n",
       "      <td>48000</td>\n",
       "      <td>18.09</td>\n",
       "      <td>2020-11-27 20:37:46+01:00</td>\n",
       "      <td>Radboud</td>\n",
       "      <td>40</td>\n",
       "      <td>54</td>\n",
       "      <td>15</td>\n",
       "      <td>36</td>\n",
       "      <td>30</td>\n",
       "    </tr>\n",
       "    <tr>\n",
       "      <th>53</th>\n",
       "      <td>29</td>\n",
       "      <td>unif</td>\n",
       "      <td>female</td>\n",
       "      <td>2020-11-27 20:02:22.592132+01:00</td>\n",
       "      <td>0bae55f8-2aab-4c7b-917f-7f0c3e627e5f</td>\n",
       "      <td>7</td>\n",
       "      <td>15</td>\n",
       "      <td>15</td>\n",
       "      <td>NaN</td>\n",
       "      <td>NaN</td>\n",
       "      <td>Rafd090_61_Caucasian_female_neutral_frontal</td>\n",
       "      <td>20:24:56</td>\n",
       "      <td>2301996</td>\n",
       "      <td>48000</td>\n",
       "      <td>23.98</td>\n",
       "      <td>2020-11-27 20:24:20+01:00</td>\n",
       "      <td>Radboud</td>\n",
       "      <td>66</td>\n",
       "      <td>66</td>\n",
       "      <td>7</td>\n",
       "      <td>17</td>\n",
       "      <td>14</td>\n",
       "    </tr>\n",
       "  </tbody>\n",
       "</table>\n",
       "</div>"
      ],
      "text/plain": [
       "     age education     sex                        timestamp  \\\n",
       "801   29      unif    male 2020-11-30 17:47:45.815021+01:00   \n",
       "72    29      unif  female 2020-11-27 20:02:22.592132+01:00   \n",
       "53    29      unif  female 2020-11-27 20:02:22.592132+01:00   \n",
       "\n",
       "                                       ID  Marloes  PiSCES  Radboud  \\\n",
       "801  3a8266c9-7087-45fe-98e4-6c9c001c0050        7      15       15   \n",
       "72   0bae55f8-2aab-4c7b-917f-7f0c3e627e5f        7      15       15   \n",
       "53   0bae55f8-2aab-4c7b-917f-7f0c3e627e5f        7      15       15   \n",
       "\n",
       "        device prolific_token                                     pic_name  \\\n",
       "801  earphones            NaN                                  Picture 110   \n",
       "72         NaN            NaN  Rafd090_58_Caucasian_female_neutral_frontal   \n",
       "53         NaN            NaN  Rafd090_61_Caucasian_female_neutral_frontal   \n",
       "\n",
       "     time_str  wav_size  wav_sample_rate  wav_duration_s  \\\n",
       "801  18:15:16   8405036            44100           95.29   \n",
       "72   20:38:22   1736748            48000           18.09   \n",
       "53   20:24:56   2301996            48000           23.98   \n",
       "\n",
       "                wav_timestamp       DB  arousal  valence  DB_no  session_no  \\\n",
       "801 2020-11-30 18:15:20+01:00   PiSCES       26       56      5          11   \n",
       "72  2020-11-27 20:37:46+01:00  Radboud       40       54     15          36   \n",
       "53  2020-11-27 20:24:20+01:00  Radboud       66       66      7          17   \n",
       "\n",
       "    pic_no  \n",
       "801      9  \n",
       "72      30  \n",
       "53      14  "
      ]
     },
     "execution_count": 19,
     "metadata": {},
     "output_type": "execute_result"
    }
   ],
   "source": [
    "df_session_tot.sample(3)\n"
   ]
  },
  {
   "cell_type": "code",
   "execution_count": 22,
   "id": "740946f2",
   "metadata": {},
   "outputs": [
    {
     "name": "stdout",
     "output_type": "stream",
     "text": [
      "(3257, 23)\n"
     ]
    },
    {
     "data": {
      "text/plain": [
       "(3257, 23)"
      ]
     },
     "metadata": {},
     "output_type": "display_data"
    }
   ],
   "source": [
    "df_session_tot_cleaned = df_session_tot.copy()\n",
    "df_session_tot_cleaned = df_session_tot_cleaned.sort_values(\n",
    "    by=[\"ID\", \"wav_timestamp\"], ignore_index=True\n",
    ")\n",
    "print(df_session_tot.shape)\n",
    "display(df_session_tot_cleaned.shape)\n"
   ]
  },
  {
   "cell_type": "code",
   "execution_count": 23,
   "id": "ba847bbb",
   "metadata": {},
   "outputs": [
    {
     "data": {
      "text/html": [
       "<div>\n",
       "<style scoped>\n",
       "    .dataframe tbody tr th:only-of-type {\n",
       "        vertical-align: middle;\n",
       "    }\n",
       "\n",
       "    .dataframe tbody tr th {\n",
       "        vertical-align: top;\n",
       "    }\n",
       "\n",
       "    .dataframe thead th {\n",
       "        text-align: right;\n",
       "    }\n",
       "</style>\n",
       "<table border=\"1\" class=\"dataframe\">\n",
       "  <thead>\n",
       "    <tr style=\"text-align: right;\">\n",
       "      <th></th>\n",
       "      <th>session_no</th>\n",
       "      <th>wav_timestamp</th>\n",
       "      <th>DB</th>\n",
       "    </tr>\n",
       "  </thead>\n",
       "  <tbody>\n",
       "    <tr>\n",
       "      <th>3147</th>\n",
       "      <td>1</td>\n",
       "      <td>2020-12-01 17:29:06+01:00</td>\n",
       "      <td>PiSCES</td>\n",
       "    </tr>\n",
       "    <tr>\n",
       "      <th>3148</th>\n",
       "      <td>2</td>\n",
       "      <td>2020-12-01 17:29:42+01:00</td>\n",
       "      <td>Radboud</td>\n",
       "    </tr>\n",
       "    <tr>\n",
       "      <th>3149</th>\n",
       "      <td>3</td>\n",
       "      <td>2020-12-01 17:30:44+01:00</td>\n",
       "      <td>PiSCES</td>\n",
       "    </tr>\n",
       "    <tr>\n",
       "      <th>3150</th>\n",
       "      <td>4</td>\n",
       "      <td>2020-12-01 17:31:22+01:00</td>\n",
       "      <td>Radboud</td>\n",
       "    </tr>\n",
       "    <tr>\n",
       "      <th>3151</th>\n",
       "      <td>5</td>\n",
       "      <td>2020-12-01 17:32:34+01:00</td>\n",
       "      <td>PiSCES</td>\n",
       "    </tr>\n",
       "    <tr>\n",
       "      <th>3152</th>\n",
       "      <td>6</td>\n",
       "      <td>2020-12-01 17:33:10+01:00</td>\n",
       "      <td>marloes</td>\n",
       "    </tr>\n",
       "    <tr>\n",
       "      <th>3153</th>\n",
       "      <td>7</td>\n",
       "      <td>2020-12-01 17:33:52+01:00</td>\n",
       "      <td>Radboud</td>\n",
       "    </tr>\n",
       "    <tr>\n",
       "      <th>3154</th>\n",
       "      <td>8</td>\n",
       "      <td>2020-12-01 17:34:44+01:00</td>\n",
       "      <td>PiSCES</td>\n",
       "    </tr>\n",
       "    <tr>\n",
       "      <th>3155</th>\n",
       "      <td>9</td>\n",
       "      <td>2020-12-01 17:36:02+01:00</td>\n",
       "      <td>Radboud</td>\n",
       "    </tr>\n",
       "    <tr>\n",
       "      <th>3156</th>\n",
       "      <td>10</td>\n",
       "      <td>2020-12-01 17:36:40+01:00</td>\n",
       "      <td>PiSCES</td>\n",
       "    </tr>\n",
       "  </tbody>\n",
       "</table>\n",
       "</div>"
      ],
      "text/plain": [
       "      session_no             wav_timestamp       DB\n",
       "3147           1 2020-12-01 17:29:06+01:00   PiSCES\n",
       "3148           2 2020-12-01 17:29:42+01:00  Radboud\n",
       "3149           3 2020-12-01 17:30:44+01:00   PiSCES\n",
       "3150           4 2020-12-01 17:31:22+01:00  Radboud\n",
       "3151           5 2020-12-01 17:32:34+01:00   PiSCES\n",
       "3152           6 2020-12-01 17:33:10+01:00  marloes\n",
       "3153           7 2020-12-01 17:33:52+01:00  Radboud\n",
       "3154           8 2020-12-01 17:34:44+01:00   PiSCES\n",
       "3155           9 2020-12-01 17:36:02+01:00  Radboud\n",
       "3156          10 2020-12-01 17:36:40+01:00   PiSCES"
      ]
     },
     "metadata": {},
     "output_type": "display_data"
    },
    {
     "data": {
      "text/html": [
       "<div>\n",
       "<style scoped>\n",
       "    .dataframe tbody tr th:only-of-type {\n",
       "        vertical-align: middle;\n",
       "    }\n",
       "\n",
       "    .dataframe tbody tr th {\n",
       "        vertical-align: top;\n",
       "    }\n",
       "\n",
       "    .dataframe thead th {\n",
       "        text-align: right;\n",
       "    }\n",
       "</style>\n",
       "<table border=\"1\" class=\"dataframe\">\n",
       "  <thead>\n",
       "    <tr style=\"text-align: right;\">\n",
       "      <th></th>\n",
       "      <th>session_no</th>\n",
       "      <th>wav_timestamp</th>\n",
       "      <th>DB</th>\n",
       "    </tr>\n",
       "  </thead>\n",
       "  <tbody>\n",
       "    <tr>\n",
       "      <th>3147</th>\n",
       "      <td>2</td>\n",
       "      <td>2020-12-01 17:29:06+01:00</td>\n",
       "      <td>PiSCES</td>\n",
       "    </tr>\n",
       "    <tr>\n",
       "      <th>3148</th>\n",
       "      <td>3</td>\n",
       "      <td>2020-12-01 17:29:42+01:00</td>\n",
       "      <td>Radboud</td>\n",
       "    </tr>\n",
       "    <tr>\n",
       "      <th>3149</th>\n",
       "      <td>4</td>\n",
       "      <td>2020-12-01 17:30:44+01:00</td>\n",
       "      <td>PiSCES</td>\n",
       "    </tr>\n",
       "    <tr>\n",
       "      <th>3150</th>\n",
       "      <td>5</td>\n",
       "      <td>2020-12-01 17:31:22+01:00</td>\n",
       "      <td>Radboud</td>\n",
       "    </tr>\n",
       "    <tr>\n",
       "      <th>3151</th>\n",
       "      <td>6</td>\n",
       "      <td>2020-12-01 17:32:34+01:00</td>\n",
       "      <td>PiSCES</td>\n",
       "    </tr>\n",
       "    <tr>\n",
       "      <th>3152</th>\n",
       "      <td>7</td>\n",
       "      <td>2020-12-01 17:33:10+01:00</td>\n",
       "      <td>marloes</td>\n",
       "    </tr>\n",
       "    <tr>\n",
       "      <th>3153</th>\n",
       "      <td>8</td>\n",
       "      <td>2020-12-01 17:33:52+01:00</td>\n",
       "      <td>Radboud</td>\n",
       "    </tr>\n",
       "    <tr>\n",
       "      <th>3154</th>\n",
       "      <td>9</td>\n",
       "      <td>2020-12-01 17:34:44+01:00</td>\n",
       "      <td>PiSCES</td>\n",
       "    </tr>\n",
       "    <tr>\n",
       "      <th>3155</th>\n",
       "      <td>10</td>\n",
       "      <td>2020-12-01 17:36:02+01:00</td>\n",
       "      <td>Radboud</td>\n",
       "    </tr>\n",
       "    <tr>\n",
       "      <th>3156</th>\n",
       "      <td>11</td>\n",
       "      <td>2020-12-01 17:36:40+01:00</td>\n",
       "      <td>PiSCES</td>\n",
       "    </tr>\n",
       "  </tbody>\n",
       "</table>\n",
       "</div>"
      ],
      "text/plain": [
       "      session_no             wav_timestamp       DB\n",
       "3147           2 2020-12-01 17:29:06+01:00   PiSCES\n",
       "3148           3 2020-12-01 17:29:42+01:00  Radboud\n",
       "3149           4 2020-12-01 17:30:44+01:00   PiSCES\n",
       "3150           5 2020-12-01 17:31:22+01:00  Radboud\n",
       "3151           6 2020-12-01 17:32:34+01:00   PiSCES\n",
       "3152           7 2020-12-01 17:33:10+01:00  marloes\n",
       "3153           8 2020-12-01 17:33:52+01:00  Radboud\n",
       "3154           9 2020-12-01 17:34:44+01:00   PiSCES\n",
       "3155          10 2020-12-01 17:36:02+01:00  Radboud\n",
       "3156          11 2020-12-01 17:36:40+01:00   PiSCES"
      ]
     },
     "metadata": {},
     "output_type": "display_data"
    }
   ],
   "source": [
    "# custom parsing\n",
    "display(\n",
    "    df_session_tot_cleaned[\n",
    "        df_session_tot_cleaned.ID == \"f57eb3a1-bc73-4fb8-9c40-8a31a6b67e34\"\n",
    "    ]\n",
    "    .sort_values(by=\"wav_timestamp\")[[\"session_no\", \"wav_timestamp\", \"DB\"]]\n",
    "    .iloc[:10]\n",
    ")\n",
    "\n",
    "# this user starts with pisces and has a total of 6 marloes instead of 7\n",
    "# for some reason, the first marloes was not stored -> adjust the session_no and DB_no\n",
    "df_session_tot_cleaned.loc[\n",
    "    df_session_tot_cleaned.ID == \"f57eb3a1-bc73-4fb8-9c40-8a31a6b67e34\", \"session_no\"\n",
    "] += 1\n",
    "df_session_tot_cleaned.loc[\n",
    "    (df_session_tot_cleaned.ID == (\"f57eb3a1-bc73-4fb8-9c40-8a31a6b67e34\"))\n",
    "    & (df_session_tot_cleaned.DB == \"marloes\"),\n",
    "    \"DB_no\",\n",
    "] += 1\n",
    "display(\n",
    "    df_session_tot_cleaned[\n",
    "        df_session_tot_cleaned.ID == \"f57eb3a1-bc73-4fb8-9c40-8a31a6b67e34\"\n",
    "    ]\n",
    "    .sort_values(by=\"wav_timestamp\")[[\"session_no\", \"wav_timestamp\", \"DB\"]]\n",
    "    .iloc[:10]\n",
    ")\n"
   ]
  },
  {
   "cell_type": "markdown",
   "id": "d85a956b",
   "metadata": {},
   "source": [
    "### Saving the session dataframe"
   ]
  },
  {
   "cell_type": "code",
   "execution_count": 25,
   "id": "34e61a94",
   "metadata": {},
   "outputs": [],
   "source": [
    "df_session_tot_cleaned.to_parquet(\n",
    "    loc_data_dir.joinpath(\"df_session_tot_cleaned.parquet\")\n",
    ")\n"
   ]
  }
 ],
 "metadata": {
  "kernelspec": {
   "display_name": "Python 3 (ipykernel)",
   "language": "python",
   "name": "python3"
  },
  "language_info": {
   "codemirror_mode": {
    "name": "ipython",
    "version": 3
   },
   "file_extension": ".py",
   "mimetype": "text/x-python",
   "name": "python",
   "nbconvert_exporter": "python",
   "pygments_lexer": "ipython3",
   "version": "3.8.13"
  },
  "vscode": {
   "interpreter": {
    "hash": "14accab11a8dde1829a82d5477aee5050c56a20d58c0fbbbf6574e6407175af4"
   }
  }
 },
 "nbformat": 4,
 "nbformat_minor": 5
}
