{
 "cells": [
  {
   "cell_type": "code",
   "execution_count": 1,
   "id": "21c6797f-dd1c-4bda-90d4-659ab88264e3",
   "metadata": {
    "execution": {
     "iopub.execute_input": "2022-02-09T14:27:52.901283Z",
     "iopub.status.busy": "2022-02-09T14:27:52.900548Z",
     "iopub.status.idle": "2022-02-09T14:27:52.930664Z",
     "shell.execute_reply": "2022-02-09T14:27:52.929937Z",
     "shell.execute_reply.started": "2022-02-09T14:27:52.901119Z"
    },
    "tags": []
   },
   "outputs": [],
   "source": [
    "%load_ext autoreload\n",
    "%autoreload 2"
   ]
  },
  {
   "cell_type": "code",
   "execution_count": 5,
   "id": "eb8795e8-d000-4ac6-ab7a-3bddb68055d6",
   "metadata": {
    "execution": {
     "iopub.execute_input": "2022-02-09T14:30:58.524808Z",
     "iopub.status.busy": "2022-02-09T14:30:58.524227Z",
     "iopub.status.idle": "2022-02-09T14:30:58.558952Z",
     "shell.execute_reply": "2022-02-09T14:30:58.558230Z",
     "shell.execute_reply.started": "2022-02-09T14:30:58.524744Z"
    },
    "tags": []
   },
   "outputs": [],
   "source": [
    "import json\n",
    "\n",
    "from pathlib import Path\n",
    "import pandas as pd\n",
    "import librosa\n",
    "from functional import seq\n",
    "from uuid import uuid4\n",
    "\n",
    "import sys\n",
    "\n",
    "sys.path.append(\"..\")\n",
    "from sgs_utils.path_conf import (\n",
    "    speech_data_root_dir,\n",
    "    speech_data_session_dir,\n",
    "    loc_data_dir,\n",
    ")\n"
   ]
  },
  {
   "cell_type": "code",
   "execution_count": 3,
   "id": "c834491c",
   "metadata": {
    "execution": {
     "iopub.execute_input": "2022-02-09T14:27:58.072111Z",
     "iopub.status.busy": "2022-02-09T14:27:58.071505Z",
     "iopub.status.idle": "2022-02-09T14:27:58.583997Z",
     "shell.execute_reply": "2022-02-09T14:27:58.582498Z",
     "shell.execute_reply.started": "2022-02-09T14:27:58.072059Z"
    }
   },
   "outputs": [
    {
     "name": "stdout",
     "output_type": "stream",
     "text": [
      "total 448K\n",
      "drwxr-xr-x 2 jonvdrdo ila-sleep 4.0K Oct 25 01:51 2020-11-25__11:08:00+01:00__59b7f538-755a-4bee-8165-158c6795b287\n",
      "drwxr-xr-x 6 jonvdrdo ila-sleep 4.0K Oct 25 01:52 2020-11-25__11:11:00+01:00__6fb54909-8b1d-4ff5-bc58-912249de7d94\n",
      "drwxr-xr-x 2 jonvdrdo ila-sleep 4.0K Oct 25 01:51 2020-11-25__11:13:00+01:00__12cd1ed1-17ae-4a4c-8fa8-1363030736e7\n",
      "drwxr-xr-x 2 jonvdrdo ila-sleep 4.0K Oct 25 01:51 2020-11-25__11:33:00+01:00__9247ce5d-23af-4af4-bb07-6c9b53f8bb90\n",
      "drwxr-xr-x 4 jonvdrdo ila-sleep 4.0K Oct 25 01:52 2020-11-25__11:35:00+01:00__8c449866-0ac4-4b62-a4a7-d3ce0e7781b6\n",
      "drwxr-xr-x 3 jonvdrdo ila-sleep 4.0K Oct 25 01:52 2020-11-25__11:45:00+01:00__a03a23eb-ca38-430d-afc6-e47dc4d71f61\n",
      "drwxr-xr-x 2 jonvdrdo ila-sleep 4.0K Oct 25 01:51 2020-11-25__11:53:00+01:00__8071ebfc-e589-4175-900b-0fadf2627aa5\n",
      "drwxr-xr-x 2 jonvdrdo ila-sleep 4.0K Oct 25 01:51 2020-11-25__11:54:00+01:00__f752870e-8461-4b7f-bdcc-93649b8caeaa\n",
      "drwxr-xr-x 2 jonvdrdo ila-sleep 4.0K Oct 25 01:51 2020-11-25__12:15:00+01:00__2f87494b-5d33-46b3-8595-a4da6510ab1f\n",
      "ls: write error: Broken pipe\n"
     ]
    }
   ],
   "source": [
    "# so we have all folders in backup?\n",
    "!ls -lh {speech_data_session_dir} | head -n 10"
   ]
  },
  {
   "cell_type": "code",
   "execution_count": 4,
   "id": "ed9ebcc6",
   "metadata": {
    "execution": {
     "iopub.execute_input": "2022-02-09T14:28:07.941127Z",
     "iopub.status.busy": "2022-02-09T14:28:07.940662Z",
     "iopub.status.idle": "2022-02-09T14:28:08.017980Z",
     "shell.execute_reply": "2022-02-09T14:28:08.016921Z",
     "shell.execute_reply.started": "2022-02-09T14:28:07.941079Z"
    }
   },
   "outputs": [
    {
     "name": "stdout",
     "output_type": "stream",
     "text": [
      "marloes    50\n",
      "PiSCES     42\n",
      "Radboud    38\n",
      "demo        5\n",
      "dtype: int64\n"
     ]
    }
   ],
   "source": [
    "# This snippet summarizes the dir-names of the various folders\n",
    "# within `speech_session_dir`\n",
    "dir_list = []\n",
    "for folder in speech_data_session_dir.iterdir():\n",
    "    if not folder.is_dir():\n",
    "        continue\n",
    "    dir_list.extend(\n",
    "        seq(folder.iterdir())\n",
    "        .filter(lambda x: x.is_dir())\n",
    "        .map(lambda x: x.name)\n",
    "        .to_list()\n",
    "    )\n",
    "print(pd.Series(dir_list).value_counts())\n",
    "del dir_list, folder\n"
   ]
  },
  {
   "cell_type": "markdown",
   "id": "7998e716",
   "metadata": {},
   "source": [
    "## Creating the metadata file"
   ]
  },
  {
   "cell_type": "markdown",
   "id": "bcf11db9",
   "metadata": {},
   "source": [
    "The metadata file is constructed of the `.json` file which resides within each user ID \n",
    "folder and withholds the person's metadata such as gender, age, education, used mic. etc ..."
   ]
  },
  {
   "cell_type": "code",
   "execution_count": 5,
   "id": "9cdb2143",
   "metadata": {},
   "outputs": [],
   "source": [
    "metadata_dict_list = []\n",
    "\n",
    "# creating alldata.csv\n",
    "for folder in speech_data_session_dir.iterdir():\n",
    "    if not folder.is_dir():\n",
    "        continue\n",
    "\n",
    "    metadata = folder.joinpath(\"metadata.json\")\n",
    "    if not metadata.is_file():\n",
    "        continue\n",
    "\n",
    "    with open(metadata, \"r\") as f:\n",
    "        metadata_dict = json.load(f)\n",
    "    metadata_dict[\"ID\"] = folder.name.split(\"__\")[-1]\n",
    "\n",
    "    metadata_dict[\"Marloes\"] = len(list(folder.joinpath(\"marloes\").glob(\"*.wav\")))\n",
    "    metadata_dict[\"PiSCES\"] = len(list(folder.joinpath(\"PiSCES\").glob(\"*.wav\")))\n",
    "    metadata_dict[\"Radboud\"] = len(list(folder.joinpath(\"Radboud\").glob(\"*.wav\")))\n",
    "\n",
    "    metadata_dict_list.append(metadata_dict)\n",
    "\n",
    "df_metadata = pd.DataFrame(metadata_dict_list)\n",
    "\n",
    "# conver the columns to the correct data format\n",
    "df_metadata[\"age\"] = df_metadata[\"age\"].astype(int)\n",
    "df_metadata[[\"sex\", \"device\", \"education\"]] = df_metadata[\n",
    "    [\"sex\", \"device\", \"education\"]\n",
    "].astype(\"category\")\n",
    "df_metadata[\"timestamp\"] = pd.to_datetime(df_metadata.timestamp).dt.tz_convert(\n",
    "    \"europe/brussels\"\n",
    ")\n",
    "del folder, metadata_dict, metadata_dict_list, f, metadata\n"
   ]
  },
  {
   "cell_type": "code",
   "execution_count": 6,
   "id": "120d3c24",
   "metadata": {},
   "outputs": [
    {
     "name": "stdout",
     "output_type": "stream",
     "text": [
      "<class 'pandas.core.frame.DataFrame'>\n",
      "RangeIndex: 112 entries, 0 to 111\n",
      "Data columns (total 9 columns):\n",
      " #   Column     Non-Null Count  Dtype                          \n",
      "---  ------     --------------  -----                          \n",
      " 0   age        112 non-null    int64                          \n",
      " 1   education  112 non-null    category                       \n",
      " 2   sex        112 non-null    category                       \n",
      " 3   timestamp  112 non-null    datetime64[ns, Europe/Brussels]\n",
      " 4   ID         112 non-null    object                         \n",
      " 5   Marloes    112 non-null    int64                          \n",
      " 6   PiSCES     112 non-null    int64                          \n",
      " 7   Radboud    112 non-null    int64                          \n",
      " 8   device     39 non-null     category                       \n",
      "dtypes: category(3), datetime64[ns, Europe/Brussels](1), int64(4), object(1)\n",
      "memory usage: 6.2+ KB\n"
     ]
    }
   ],
   "source": [
    "df_metadata.info()"
   ]
  },
  {
   "cell_type": "code",
   "execution_count": 7,
   "id": "40b5b682",
   "metadata": {},
   "outputs": [
    {
     "data": {
      "text/plain": [
       "array([<AxesSubplot:ylabel='Frequency'>, <AxesSubplot:ylabel='Frequency'>,\n",
       "       <AxesSubplot:ylabel='Frequency'>], dtype=object)"
      ]
     },
     "execution_count": 7,
     "metadata": {},
     "output_type": "execute_result"
    },
    {
     "data": {
      "image/png": "[encoded data removed]",
      "text/plain": [
       "<Figure size 720x360 with 3 Axes>"
      ]
     },
     "metadata": {
      "needs_background": "light"
     },
     "output_type": "display_data"
    }
   ],
   "source": [
    "df_metadata[[\"Marloes\", \"PiSCES\", \"Radboud\"]].plot(\n",
    "    subplots=True, kind=\"hist\", figsize=(10, 5), sharex=False\n",
    ")"
   ]
  },
  {
   "cell_type": "code",
   "execution_count": 8,
   "id": "7fc49e61",
   "metadata": {},
   "outputs": [],
   "source": [
    "df_metadata_relevant = (\n",
    "    df_metadata[\n",
    "        (df_metadata.Marloes >= 6)\n",
    "        & (df_metadata.Radboud >= 15)\n",
    "        & (df_metadata.PiSCES >= 15)\n",
    "    ]\n",
    "    .reset_index(drop=True)\n",
    "    .copy()\n",
    ")"
   ]
  },
  {
   "cell_type": "code",
   "execution_count": 9,
   "id": "a5047a49",
   "metadata": {},
   "outputs": [
    {
     "data": {
      "text/plain": [
       "Index(['age', 'education', 'sex', 'timestamp', 'ID', 'Marloes', 'PiSCES',\n",
       "       'Radboud', 'device'],\n",
       "      dtype='object')"
      ]
     },
     "execution_count": 9,
     "metadata": {},
     "output_type": "execute_result"
    }
   ],
   "source": [
    "df_metadata_relevant.columns"
   ]
  },
  {
   "cell_type": "code",
   "execution_count": 10,
   "id": "26013a92",
   "metadata": {},
   "outputs": [
    {
     "data": {
      "text/html": [
       "<div>\n",
       "<style scoped>\n",
       "    .dataframe tbody tr th:only-of-type {\n",
       "        vertical-align: middle;\n",
       "    }\n",
       "\n",
       "    .dataframe tbody tr th {\n",
       "        vertical-align: top;\n",
       "    }\n",
       "\n",
       "    .dataframe thead th {\n",
       "        text-align: right;\n",
       "    }\n",
       "</style>\n",
       "<table border=\"1\" class=\"dataframe\">\n",
       "  <thead>\n",
       "    <tr style=\"text-align: right;\">\n",
       "      <th></th>\n",
       "      <th>age</th>\n",
       "      <th>Marloes</th>\n",
       "      <th>PiSCES</th>\n",
       "      <th>Radboud</th>\n",
       "    </tr>\n",
       "  </thead>\n",
       "  <tbody>\n",
       "    <tr>\n",
       "      <th>count</th>\n",
       "      <td>31.000000</td>\n",
       "      <td>31.000000</td>\n",
       "      <td>31.000000</td>\n",
       "      <td>31.0</td>\n",
       "    </tr>\n",
       "    <tr>\n",
       "      <th>mean</th>\n",
       "      <td>28.548387</td>\n",
       "      <td>6.935484</td>\n",
       "      <td>15.064516</td>\n",
       "      <td>15.0</td>\n",
       "    </tr>\n",
       "    <tr>\n",
       "      <th>std</th>\n",
       "      <td>5.182269</td>\n",
       "      <td>0.249731</td>\n",
       "      <td>0.249731</td>\n",
       "      <td>0.0</td>\n",
       "    </tr>\n",
       "    <tr>\n",
       "      <th>min</th>\n",
       "      <td>20.000000</td>\n",
       "      <td>6.000000</td>\n",
       "      <td>15.000000</td>\n",
       "      <td>15.0</td>\n",
       "    </tr>\n",
       "    <tr>\n",
       "      <th>25%</th>\n",
       "      <td>25.000000</td>\n",
       "      <td>7.000000</td>\n",
       "      <td>15.000000</td>\n",
       "      <td>15.0</td>\n",
       "    </tr>\n",
       "    <tr>\n",
       "      <th>50%</th>\n",
       "      <td>28.000000</td>\n",
       "      <td>7.000000</td>\n",
       "      <td>15.000000</td>\n",
       "      <td>15.0</td>\n",
       "    </tr>\n",
       "    <tr>\n",
       "      <th>75%</th>\n",
       "      <td>30.000000</td>\n",
       "      <td>7.000000</td>\n",
       "      <td>15.000000</td>\n",
       "      <td>15.0</td>\n",
       "    </tr>\n",
       "    <tr>\n",
       "      <th>max</th>\n",
       "      <td>39.000000</td>\n",
       "      <td>7.000000</td>\n",
       "      <td>16.000000</td>\n",
       "      <td>15.0</td>\n",
       "    </tr>\n",
       "  </tbody>\n",
       "</table>\n",
       "</div>"
      ],
      "text/plain": [
       "             age    Marloes     PiSCES  Radboud\n",
       "count  31.000000  31.000000  31.000000     31.0\n",
       "mean   28.548387   6.935484  15.064516     15.0\n",
       "std     5.182269   0.249731   0.249731      0.0\n",
       "min    20.000000   6.000000  15.000000     15.0\n",
       "25%    25.000000   7.000000  15.000000     15.0\n",
       "50%    28.000000   7.000000  15.000000     15.0\n",
       "75%    30.000000   7.000000  15.000000     15.0\n",
       "max    39.000000   7.000000  16.000000     15.0"
      ]
     },
     "execution_count": 10,
     "metadata": {},
     "output_type": "execute_result"
    }
   ],
   "source": [
    "df_metadata_relevant[\n",
    "    [\"age\", \"sex\", \"device\", \"Marloes\", \"PiSCES\", \"Radboud\"]\n",
    "].describe()\n"
   ]
  },
  {
   "cell_type": "code",
   "execution_count": 11,
   "id": "68d92d7b",
   "metadata": {},
   "outputs": [
    {
     "data": {
      "text/plain": [
       "male      21\n",
       "female    10\n",
       "other      0\n",
       "Name: sex, dtype: int64"
      ]
     },
     "execution_count": 11,
     "metadata": {},
     "output_type": "execute_result"
    }
   ],
   "source": [
    "# There is a 2-to-1 imbalance in gender\n",
    "df_metadata_relevant.sex.value_counts()"
   ]
  },
  {
   "cell_type": "code",
   "execution_count": 12,
   "id": "6659a6ef",
   "metadata": {},
   "outputs": [
    {
     "data": {
      "text/plain": [
       "pc-mic       8\n",
       "earphones    6\n",
       "headset      4\n",
       "other        1\n",
       "Name: device, dtype: int64"
      ]
     },
     "execution_count": 12,
     "metadata": {},
     "output_type": "execute_result"
    }
   ],
   "source": [
    "df_metadata_relevant.device.value_counts()"
   ]
  },
  {
   "cell_type": "code",
   "execution_count": 13,
   "id": "1574cdad",
   "metadata": {},
   "outputs": [
    {
     "data": {
      "text/plain": [
       "unif    27\n",
       "ho       2\n",
       "so       2\n",
       "lo       0\n",
       "Name: education, dtype: int64"
      ]
     },
     "execution_count": 13,
     "metadata": {},
     "output_type": "execute_result"
    }
   ],
   "source": [
    "df_metadata_relevant.education.value_counts()"
   ]
  },
  {
   "cell_type": "code",
   "execution_count": 14,
   "id": "b5c03e84",
   "metadata": {},
   "outputs": [
    {
     "data": {
      "text/plain": [
       "array([<AxesSubplot:ylabel='Frequency'>, <AxesSubplot:ylabel='Frequency'>,\n",
       "       <AxesSubplot:ylabel='Frequency'>, <AxesSubplot:ylabel='Frequency'>],\n",
       "      dtype=object)"
      ]
     },
     "execution_count": 14,
     "metadata": {},
     "output_type": "execute_result"
    },
    {
     "data": {
      "image/png": "[encoded data removed]",
      "text/plain": [
       "<Figure size 1440x720 with 4 Axes>"
      ]
     },
     "metadata": {
      "needs_background": "light"
     },
     "output_type": "display_data"
    }
   ],
   "source": [
    "df_metadata_relevant[[\"age\", \"sex\", \"device\", \"Marloes\", \"PiSCES\", \"Radboud\"]].plot(\n",
    "    kind=\"hist\", bins=30, subplots=True, sharex=False, figsize=(20, 10)\n",
    ")\n"
   ]
  },
  {
   "cell_type": "code",
   "execution_count": 15,
   "id": "e89dae4a",
   "metadata": {},
   "outputs": [],
   "source": [
    "df_metadata_relevant.to_parquet(loc_data_dir.joinpath(\"metadata_rel_ids.parquet\"))"
   ]
  },
  {
   "cell_type": "markdown",
   "id": "e2ebb1e9",
   "metadata": {},
   "source": [
    "## Distilling sessions from the relevant metadata"
   ]
  },
  {
   "cell_type": "code",
   "execution_count": 22,
   "id": "6816aa09",
   "metadata": {},
   "outputs": [],
   "source": [
    "session_dict_list = []\n",
    "\n",
    "# creating alldata.csv\n",
    "for folder in speech_data_session_dir.iterdir():\n",
    "    if not folder.is_dir():\n",
    "        continue\n",
    "\n",
    "    def parse_pic_name_ts(db_folder, pic_name, time_str, sep=\"__\") -> dict:\n",
    "        # what can we save from the wave file?\n",
    "        # duration - size\n",
    "        json_f = sep.join([pic_name, time_str]) + \".json\"\n",
    "        json_f = db_folder.joinpath(json_f)\n",
    "        if not json_f.is_file():\n",
    "            # print('json_f does not exist')\n",
    "            return {}\n",
    "\n",
    "        with open(json_f, \"r\") as f:\n",
    "            return json.load(f)\n",
    "\n",
    "    # TODO -> maybe we can also use the wav duration here as an extra assert.\n",
    "    def get_wav_json_mapping(db_folder: Path) -> dict:\n",
    "        # parse the wav files to construct a dataframe\n",
    "        wav_list = list(db_folder.glob(\"*.wav\"))\n",
    "        df_db_wav = pd.Series(\n",
    "            seq(wav_list).map(lambda x: x.name), name=\"wav_files\", dtype=\"str\"\n",
    "        ).to_frame()\n",
    "        df_db_wav[\"wav_time_str\"] = df_db_wav[\"wav_files\"].map(\n",
    "            lambda x: x.split(\"__\")[1].split(\".\")[0]\n",
    "        )\n",
    "        df_db_wav[\"wav_time_str\"] = pd.to_datetime(\n",
    "            \"2022/01/01 \" + df_db_wav[\"wav_time_str\"], infer_datetime_format=True\n",
    "        )\n",
    "        df_db_wav = df_db_wav.sort_values(by=\"wav_time_str\")\n",
    "\n",
    "        # parse the json files to construct a datafraem\n",
    "        json_list = list(db_folder.glob(\"*.json\"))\n",
    "        df_db_json = pd.Series(\n",
    "            seq(json_list).map(lambda x: x.name), name=\"json_files\", dtype=\"str\"\n",
    "        ).to_frame()\n",
    "        df_db_json[\"json_time_str\"] = df_db_json[\"json_files\"].map(\n",
    "            lambda x: x.split(\"__\")[1].split(\".\")[0]\n",
    "        )\n",
    "        df_db_json[\"json_time_str\"] = pd.to_datetime(\n",
    "            \"2022/01/01 \" + df_db_json[\"json_time_str\"], infer_datetime_format=True\n",
    "        )\n",
    "        df_db_json = df_db_json.sort_values(by=\"json_time_str\")\n",
    "\n",
    "        json_wav_mapping = pd.merge_asof(\n",
    "            left=df_db_wav,\n",
    "            right=df_db_json,\n",
    "            left_on=\"wav_time_str\",\n",
    "            right_on=\"json_time_str\",\n",
    "            tolerance=pd.Timedelta(minutes=3),\n",
    "            # A \"forward\" search selects the first row in the right DataFrame whose 'on' key\n",
    "            # is greater than or equal to the left's key.\n",
    "            direction=\"forward\",\n",
    "        )\n",
    "\n",
    "        json_wav_mapping = json_wav_mapping.dropna(how=\"any\", axis=0)\n",
    "        json_wav_mapping = json_wav_mapping[\n",
    "            ~(\n",
    "                json_wav_mapping[\"wav_time_str\"]\n",
    "                < json_wav_mapping[\"json_time_str\"].shift(1)\n",
    "            )\n",
    "        ].reset_index(drop=True)\n",
    "\n",
    "        assert all(\n",
    "            (\n",
    "                json_wav_mapping[\"json_time_str\"].shift(1)\n",
    "                < json_wav_mapping[\"wav_time_str\"]\n",
    "            ).values[1:]\n",
    "        )\n",
    "        wav_json_mapping_dict = (\n",
    "            json_wav_mapping[[\"json_files\", \"wav_files\"]]\n",
    "            .set_index(\"wav_files\")\n",
    "            .to_dict()[\"json_files\"]\n",
    "        )\n",
    "        return wav_json_mapping_dict\n",
    "\n",
    "    for db_folder in [folder.joinpath(x) for x in [\"marloes\", \"Radboud\", \"PiSCES\"]]:\n",
    "        wav_json_mapping_dict = get_wav_json_mapping(db_folder)\n",
    "\n",
    "        for wav_file in db_folder.glob(\"*.wav\"):\n",
    "            pic_name, time_str = wav_file.name.split(\"__\")\n",
    "            metadata_dict = parse_pic_name_ts(db_folder, pic_name, time_str)\n",
    "            metadata_dict[\"pic_name\"] = pic_name\n",
    "            metadata_dict[\"time_str\"] = time_str.split(\".\")[0]\n",
    "            metadata_dict[\"wav_size\"] = wav_file.stat().st_size\n",
    "            metadata_dict[\"wav_duration_s\"] = librosa.get_duration(filename=wav_file)\n",
    "            metadata_dict[\"ID\"] = db_folder.parent.name.split(\"__\")[-1]\n",
    "            metadata_dict[\"DB\"] = db_folder.name\n",
    "\n",
    "            # also read the json file to fetch the arousal and valence values\n",
    "            if wav_file.name in wav_json_mapping_dict:\n",
    "                with open(\n",
    "                    db_folder.joinpath(wav_json_mapping_dict[wav_file.name]), \"r\"\n",
    "                ) as f:\n",
    "                    json_dct = json.load(f)\n",
    "                    metadata_dict[\"arousal\"] = int(json_dct.get(\"arousal\"))\n",
    "                    metadata_dict[\"valence\"] = int(json_dct.get(\"valence\"))\n",
    "\n",
    "            session_dict_list.append(metadata_dict)\n",
    "\n",
    "df_session = pd.DataFrame(session_dict_list)\n",
    "del (\n",
    "    folder,\n",
    "    db_folder,\n",
    "    wav_file,\n",
    "    metadata_dict,\n",
    "    session_dict_list,\n",
    "    time_str,\n",
    "    pic_name,\n",
    "    f,\n",
    "    wav_json_mapping_dict,\n",
    "    json_dct,\n",
    ")\n"
   ]
  },
  {
   "cell_type": "code",
   "execution_count": 23,
   "id": "fe5a1627",
   "metadata": {},
   "outputs": [
    {
     "name": "stdout",
     "output_type": "stream",
     "text": [
      "<class 'pandas.core.frame.DataFrame'>\n",
      "RangeIndex: 1267 entries, 0 to 1266\n",
      "Data columns (total 8 columns):\n",
      " #   Column          Non-Null Count  Dtype  \n",
      "---  ------          --------------  -----  \n",
      " 0   pic_name        1267 non-null   object \n",
      " 1   time_str        1267 non-null   object \n",
      " 2   wav_size        1267 non-null   int64  \n",
      " 3   wav_duration_s  1267 non-null   float64\n",
      " 4   ID              1267 non-null   object \n",
      " 5   DB              1267 non-null   object \n",
      " 6   arousal         1256 non-null   float64\n",
      " 7   valence         1256 non-null   float64\n",
      "dtypes: float64(3), int64(1), object(4)\n",
      "memory usage: 79.3+ KB\n"
     ]
    }
   ],
   "source": [
    "df_session.info()\n"
   ]
  },
  {
   "cell_type": "code",
   "execution_count": 24,
   "id": "9d107faf",
   "metadata": {},
   "outputs": [
    {
     "data": {
      "text/html": [
       "<div>\n",
       "<style scoped>\n",
       "    .dataframe tbody tr th:only-of-type {\n",
       "        vertical-align: middle;\n",
       "    }\n",
       "\n",
       "    .dataframe tbody tr th {\n",
       "        vertical-align: top;\n",
       "    }\n",
       "\n",
       "    .dataframe thead th {\n",
       "        text-align: right;\n",
       "    }\n",
       "</style>\n",
       "<table border=\"1\" class=\"dataframe\">\n",
       "  <thead>\n",
       "    <tr style=\"text-align: right;\">\n",
       "      <th></th>\n",
       "      <th>age</th>\n",
       "      <th>education</th>\n",
       "      <th>sex</th>\n",
       "      <th>timestamp</th>\n",
       "      <th>ID</th>\n",
       "      <th>Marloes</th>\n",
       "      <th>PiSCES</th>\n",
       "      <th>Radboud</th>\n",
       "      <th>device</th>\n",
       "      <th>pic_name</th>\n",
       "      <th>time_str</th>\n",
       "      <th>wav_size</th>\n",
       "      <th>wav_duration_s</th>\n",
       "      <th>DB</th>\n",
       "      <th>arousal</th>\n",
       "      <th>valence</th>\n",
       "    </tr>\n",
       "  </thead>\n",
       "  <tbody>\n",
       "    <tr>\n",
       "      <th>0</th>\n",
       "      <td>39</td>\n",
       "      <td>unif</td>\n",
       "      <td>female</td>\n",
       "      <td>2020-11-29 14:19:33.349095+01:00</td>\n",
       "      <td>2c9c6455-fbfd-440b-8a82-3c073d48316c</td>\n",
       "      <td>7</td>\n",
       "      <td>15</td>\n",
       "      <td>15</td>\n",
       "      <td>NaN</td>\n",
       "      <td>marloes</td>\n",
       "      <td>14:57:47</td>\n",
       "      <td>2129964</td>\n",
       "      <td>22.186667</td>\n",
       "      <td>marloes</td>\n",
       "      <td>52.0</td>\n",
       "      <td>47.0</td>\n",
       "    </tr>\n",
       "    <tr>\n",
       "      <th>1</th>\n",
       "      <td>39</td>\n",
       "      <td>unif</td>\n",
       "      <td>female</td>\n",
       "      <td>2020-11-29 14:19:33.349095+01:00</td>\n",
       "      <td>2c9c6455-fbfd-440b-8a82-3c073d48316c</td>\n",
       "      <td>7</td>\n",
       "      <td>15</td>\n",
       "      <td>15</td>\n",
       "      <td>NaN</td>\n",
       "      <td>marloes</td>\n",
       "      <td>14:44:02</td>\n",
       "      <td>2105388</td>\n",
       "      <td>21.930667</td>\n",
       "      <td>marloes</td>\n",
       "      <td>54.0</td>\n",
       "      <td>44.0</td>\n",
       "    </tr>\n",
       "    <tr>\n",
       "      <th>2</th>\n",
       "      <td>39</td>\n",
       "      <td>unif</td>\n",
       "      <td>female</td>\n",
       "      <td>2020-11-29 14:19:33.349095+01:00</td>\n",
       "      <td>2c9c6455-fbfd-440b-8a82-3c073d48316c</td>\n",
       "      <td>7</td>\n",
       "      <td>15</td>\n",
       "      <td>15</td>\n",
       "      <td>NaN</td>\n",
       "      <td>marloes</td>\n",
       "      <td>15:10:51</td>\n",
       "      <td>1908780</td>\n",
       "      <td>19.882667</td>\n",
       "      <td>marloes</td>\n",
       "      <td>41.0</td>\n",
       "      <td>44.0</td>\n",
       "    </tr>\n",
       "    <tr>\n",
       "      <th>3</th>\n",
       "      <td>39</td>\n",
       "      <td>unif</td>\n",
       "      <td>female</td>\n",
       "      <td>2020-11-29 14:19:33.349095+01:00</td>\n",
       "      <td>2c9c6455-fbfd-440b-8a82-3c073d48316c</td>\n",
       "      <td>7</td>\n",
       "      <td>15</td>\n",
       "      <td>15</td>\n",
       "      <td>NaN</td>\n",
       "      <td>marloes</td>\n",
       "      <td>14:50:51</td>\n",
       "      <td>2195500</td>\n",
       "      <td>22.869333</td>\n",
       "      <td>marloes</td>\n",
       "      <td>54.0</td>\n",
       "      <td>52.0</td>\n",
       "    </tr>\n",
       "    <tr>\n",
       "      <th>4</th>\n",
       "      <td>39</td>\n",
       "      <td>unif</td>\n",
       "      <td>female</td>\n",
       "      <td>2020-11-29 14:19:33.349095+01:00</td>\n",
       "      <td>2c9c6455-fbfd-440b-8a82-3c073d48316c</td>\n",
       "      <td>7</td>\n",
       "      <td>15</td>\n",
       "      <td>15</td>\n",
       "      <td>NaN</td>\n",
       "      <td>marloes</td>\n",
       "      <td>15:04:16</td>\n",
       "      <td>2121772</td>\n",
       "      <td>22.101333</td>\n",
       "      <td>marloes</td>\n",
       "      <td>46.0</td>\n",
       "      <td>49.0</td>\n",
       "    </tr>\n",
       "    <tr>\n",
       "      <th>...</th>\n",
       "      <td>...</td>\n",
       "      <td>...</td>\n",
       "      <td>...</td>\n",
       "      <td>...</td>\n",
       "      <td>...</td>\n",
       "      <td>...</td>\n",
       "      <td>...</td>\n",
       "      <td>...</td>\n",
       "      <td>...</td>\n",
       "      <td>...</td>\n",
       "      <td>...</td>\n",
       "      <td>...</td>\n",
       "      <td>...</td>\n",
       "      <td>...</td>\n",
       "      <td>...</td>\n",
       "      <td>...</td>\n",
       "    </tr>\n",
       "    <tr>\n",
       "      <th>1142</th>\n",
       "      <td>33</td>\n",
       "      <td>unif</td>\n",
       "      <td>male</td>\n",
       "      <td>2020-11-29 16:26:03.291969+01:00</td>\n",
       "      <td>5ef38e39-8146-4cf5-b365-43a08eac9905</td>\n",
       "      <td>7</td>\n",
       "      <td>15</td>\n",
       "      <td>15</td>\n",
       "      <td>NaN</td>\n",
       "      <td>Picture 105</td>\n",
       "      <td>16:42:30</td>\n",
       "      <td>1810476</td>\n",
       "      <td>20.526440</td>\n",
       "      <td>PiSCES</td>\n",
       "      <td>47.0</td>\n",
       "      <td>58.0</td>\n",
       "    </tr>\n",
       "    <tr>\n",
       "      <th>1143</th>\n",
       "      <td>33</td>\n",
       "      <td>unif</td>\n",
       "      <td>male</td>\n",
       "      <td>2020-11-29 16:26:03.291969+01:00</td>\n",
       "      <td>5ef38e39-8146-4cf5-b365-43a08eac9905</td>\n",
       "      <td>7</td>\n",
       "      <td>15</td>\n",
       "      <td>15</td>\n",
       "      <td>NaN</td>\n",
       "      <td>Picture 96</td>\n",
       "      <td>16:33:51</td>\n",
       "      <td>1982508</td>\n",
       "      <td>22.476916</td>\n",
       "      <td>PiSCES</td>\n",
       "      <td>39.0</td>\n",
       "      <td>55.0</td>\n",
       "    </tr>\n",
       "    <tr>\n",
       "      <th>1144</th>\n",
       "      <td>33</td>\n",
       "      <td>unif</td>\n",
       "      <td>male</td>\n",
       "      <td>2020-11-29 16:26:03.291969+01:00</td>\n",
       "      <td>5ef38e39-8146-4cf5-b365-43a08eac9905</td>\n",
       "      <td>7</td>\n",
       "      <td>15</td>\n",
       "      <td>15</td>\n",
       "      <td>NaN</td>\n",
       "      <td>Picture 93</td>\n",
       "      <td>16:38:24</td>\n",
       "      <td>2121772</td>\n",
       "      <td>24.055873</td>\n",
       "      <td>PiSCES</td>\n",
       "      <td>56.0</td>\n",
       "      <td>56.0</td>\n",
       "    </tr>\n",
       "    <tr>\n",
       "      <th>1145</th>\n",
       "      <td>33</td>\n",
       "      <td>unif</td>\n",
       "      <td>male</td>\n",
       "      <td>2020-11-29 16:26:03.291969+01:00</td>\n",
       "      <td>5ef38e39-8146-4cf5-b365-43a08eac9905</td>\n",
       "      <td>7</td>\n",
       "      <td>15</td>\n",
       "      <td>15</td>\n",
       "      <td>NaN</td>\n",
       "      <td>Picture 56</td>\n",
       "      <td>16:37:10</td>\n",
       "      <td>2334764</td>\n",
       "      <td>26.470748</td>\n",
       "      <td>PiSCES</td>\n",
       "      <td>42.0</td>\n",
       "      <td>45.0</td>\n",
       "    </tr>\n",
       "    <tr>\n",
       "      <th>1146</th>\n",
       "      <td>33</td>\n",
       "      <td>unif</td>\n",
       "      <td>male</td>\n",
       "      <td>2020-11-29 16:26:03.291969+01:00</td>\n",
       "      <td>5ef38e39-8146-4cf5-b365-43a08eac9905</td>\n",
       "      <td>7</td>\n",
       "      <td>15</td>\n",
       "      <td>15</td>\n",
       "      <td>NaN</td>\n",
       "      <td>Picture 81</td>\n",
       "      <td>16:48:16</td>\n",
       "      <td>1794092</td>\n",
       "      <td>20.340680</td>\n",
       "      <td>PiSCES</td>\n",
       "      <td>55.0</td>\n",
       "      <td>53.0</td>\n",
       "    </tr>\n",
       "  </tbody>\n",
       "</table>\n",
       "<p>1147 rows × 16 columns</p>\n",
       "</div>"
      ],
      "text/plain": [
       "      age education     sex                        timestamp  \\\n",
       "0      39      unif  female 2020-11-29 14:19:33.349095+01:00   \n",
       "1      39      unif  female 2020-11-29 14:19:33.349095+01:00   \n",
       "2      39      unif  female 2020-11-29 14:19:33.349095+01:00   \n",
       "3      39      unif  female 2020-11-29 14:19:33.349095+01:00   \n",
       "4      39      unif  female 2020-11-29 14:19:33.349095+01:00   \n",
       "...   ...       ...     ...                              ...   \n",
       "1142   33      unif    male 2020-11-29 16:26:03.291969+01:00   \n",
       "1143   33      unif    male 2020-11-29 16:26:03.291969+01:00   \n",
       "1144   33      unif    male 2020-11-29 16:26:03.291969+01:00   \n",
       "1145   33      unif    male 2020-11-29 16:26:03.291969+01:00   \n",
       "1146   33      unif    male 2020-11-29 16:26:03.291969+01:00   \n",
       "\n",
       "                                        ID  Marloes  PiSCES  Radboud device  \\\n",
       "0     2c9c6455-fbfd-440b-8a82-3c073d48316c        7      15       15    NaN   \n",
       "1     2c9c6455-fbfd-440b-8a82-3c073d48316c        7      15       15    NaN   \n",
       "2     2c9c6455-fbfd-440b-8a82-3c073d48316c        7      15       15    NaN   \n",
       "3     2c9c6455-fbfd-440b-8a82-3c073d48316c        7      15       15    NaN   \n",
       "4     2c9c6455-fbfd-440b-8a82-3c073d48316c        7      15       15    NaN   \n",
       "...                                    ...      ...     ...      ...    ...   \n",
       "1142  5ef38e39-8146-4cf5-b365-43a08eac9905        7      15       15    NaN   \n",
       "1143  5ef38e39-8146-4cf5-b365-43a08eac9905        7      15       15    NaN   \n",
       "1144  5ef38e39-8146-4cf5-b365-43a08eac9905        7      15       15    NaN   \n",
       "1145  5ef38e39-8146-4cf5-b365-43a08eac9905        7      15       15    NaN   \n",
       "1146  5ef38e39-8146-4cf5-b365-43a08eac9905        7      15       15    NaN   \n",
       "\n",
       "         pic_name  time_str  wav_size  wav_duration_s       DB  arousal  \\\n",
       "0         marloes  14:57:47   2129964       22.186667  marloes     52.0   \n",
       "1         marloes  14:44:02   2105388       21.930667  marloes     54.0   \n",
       "2         marloes  15:10:51   1908780       19.882667  marloes     41.0   \n",
       "3         marloes  14:50:51   2195500       22.869333  marloes     54.0   \n",
       "4         marloes  15:04:16   2121772       22.101333  marloes     46.0   \n",
       "...           ...       ...       ...             ...      ...      ...   \n",
       "1142  Picture 105  16:42:30   1810476       20.526440   PiSCES     47.0   \n",
       "1143   Picture 96  16:33:51   1982508       22.476916   PiSCES     39.0   \n",
       "1144   Picture 93  16:38:24   2121772       24.055873   PiSCES     56.0   \n",
       "1145   Picture 56  16:37:10   2334764       26.470748   PiSCES     42.0   \n",
       "1146   Picture 81  16:48:16   1794092       20.340680   PiSCES     55.0   \n",
       "\n",
       "      valence  \n",
       "0        47.0  \n",
       "1        44.0  \n",
       "2        44.0  \n",
       "3        52.0  \n",
       "4        49.0  \n",
       "...       ...  \n",
       "1142     58.0  \n",
       "1143     55.0  \n",
       "1144     56.0  \n",
       "1145     45.0  \n",
       "1146     53.0  \n",
       "\n",
       "[1147 rows x 16 columns]"
      ]
     },
     "execution_count": 24,
     "metadata": {},
     "output_type": "execute_result"
    }
   ],
   "source": [
    "df_session_tot = df_metadata_relevant.merge(\n",
    "    df_session, how=\"left\", left_on=\"ID\", right_on=\"ID\"\n",
    ")\n",
    "df_session_tot\n"
   ]
  },
  {
   "cell_type": "code",
   "execution_count": 25,
   "id": "43e81b24",
   "metadata": {},
   "outputs": [
    {
     "data": {
      "text/plain": [
       "857    08:28:22\n",
       "886    08:30:36\n",
       "864    08:31:58\n",
       "879    08:33:18\n",
       "853    08:33:53\n",
       "         ...   \n",
       "848    22:51:48\n",
       "820    22:53:56\n",
       "835    22:55:38\n",
       "830    22:58:10\n",
       "816    22:59:38\n",
       "Name: time_str, Length: 1147, dtype: object"
      ]
     },
     "execution_count": 25,
     "metadata": {},
     "output_type": "execute_result"
    }
   ],
   "source": [
    "# I think it is fair to just use the plain replace function and assume that nobody\n",
    "# had a day-change\n",
    "df_session_tot.time_str.sort_values()\n"
   ]
  },
  {
   "cell_type": "code",
   "execution_count": 26,
   "id": "1b1018e8",
   "metadata": {},
   "outputs": [
    {
     "data": {
      "text/plain": [
       "<AxesSubplot:ylabel='Frequency'>"
      ]
     },
     "execution_count": 26,
     "metadata": {},
     "output_type": "execute_result"
    },
    {
     "data": {
      "image/png": "[encoded data removed]",
      "text/plain": [
       "<Figure size 432x288 with 1 Axes>"
      ]
     },
     "metadata": {
      "needs_background": "light"
     },
     "output_type": "display_data"
    }
   ],
   "source": [
    "# create the time-columns in which the time-str and the timestamp are merged\n",
    "df_session_tot[\"time\"] = df_session_tot.apply(\n",
    "    lambda r: r.timestamp.replace(\n",
    "        **dict(zip([\"hour\", \"minute\", \"second\"], list(map(int, r.time_str.split(\":\")))))\n",
    "    ),\n",
    "    axis=1,\n",
    ")\n",
    "((df_session_tot.time - df_session_tot.timestamp).dt.total_seconds() / 60).plot.hist()\n"
   ]
  },
  {
   "cell_type": "code",
   "execution_count": 41,
   "id": "4e71e49a",
   "metadata": {},
   "outputs": [
    {
     "name": "stdout",
     "output_type": "stream",
     "text": [
      "[  1  10   3   5   2   8 100  12 200]\n",
      "[0 4 2 3 5 1 7 6 8]\n",
      "[1 6 3 4 2 5 8 7 9]\n"
     ]
    }
   ],
   "source": [
    "import numpy as np\n",
    "\n",
    "test_arr = [1, 10, 3, 5, 2, 8, 100, 12, 200]\n",
    "print(np.array(test_arr))\n",
    "print(np.argsort(test_arr))\n",
    "print(1 + np.argsort(np.argsort(test_arr)))\n"
   ]
  },
  {
   "cell_type": "code",
   "execution_count": 49,
   "id": "2fd220cb",
   "metadata": {},
   "outputs": [],
   "source": [
    "df_session_tot[\"DB_no\"] = df_session_tot.groupby([\"ID\", \"DB\"])[\"time\"].apply(\n",
    "    lambda s: 1 + s.argsort().argsort()\n",
    ")\n",
    "df_session_tot[\"session_no\"] = df_session_tot.groupby([\"ID\"])[\"time\"].apply(\n",
    "    lambda s: 1 + s.argsort().argsort()\n",
    ")\n",
    "\n",
    "df_session_tot[\"pic_no\"] = None\n",
    "pic_mask = df_session_tot.DB != \"marloes\"\n",
    "df_session_tot.loc[pic_mask, \"pic_no\"] = (\n",
    "    df_session_tot[pic_mask]\n",
    "    .groupby([\"ID\"])\n",
    "    .time.apply(lambda s: 1 + s.argsort().argsort())\n",
    ")\n"
   ]
  },
  {
   "cell_type": "markdown",
   "id": "46bd5517",
   "metadata": {},
   "source": [
    "### Duration based visualizations"
   ]
  },
  {
   "cell_type": "code",
   "execution_count": 52,
   "id": "d9c0a84a",
   "metadata": {},
   "outputs": [
    {
     "data": {
      "text/plain": [
       "array([<AxesSubplot:ylabel='Frequency'>, <AxesSubplot:ylabel='Frequency'>,\n",
       "       <AxesSubplot:ylabel='Frequency'>], dtype=object)"
      ]
     },
     "execution_count": 52,
     "metadata": {},
     "output_type": "execute_result"
    },
    {
     "data": {
      "image/png": "[encoded data removed]",
      "text/plain": [
       "<Figure size 1080x720 with 3 Axes>"
      ]
     },
     "metadata": {
      "needs_background": "light"
     },
     "output_type": "display_data"
    }
   ],
   "source": [
    "df_session_tot[[\"DB\", \"wav_duration_s\"]].pivot(\n",
    "    columns=\"DB\", values=\"wav_duration_s\"\n",
    ").plot(\n",
    "    kind=\"hist\",\n",
    "    subplots=True,\n",
    "    bins=50,\n",
    "    sharex=False,\n",
    "    figsize=(15, 10),\n",
    "    title=\"Duration (s)\",\n",
    ")\n"
   ]
  },
  {
   "cell_type": "markdown",
   "id": "b0582e98",
   "metadata": {},
   "source": [
    "is het fair om de assumptie te maken dat niemand middernacht de app heeft gebruikt?"
   ]
  },
  {
   "cell_type": "markdown",
   "id": "5b3b9300",
   "metadata": {},
   "source": [
    "### Investigating the file duration"
   ]
  },
  {
   "cell_type": "code",
   "execution_count": 53,
   "id": "cd8e5817",
   "metadata": {},
   "outputs": [
    {
     "data": {
      "text/plain": [
       "False    1101\n",
       "True       46\n",
       "Name: wav_duration_s, dtype: int64"
      ]
     },
     "execution_count": 53,
     "metadata": {},
     "output_type": "execute_result"
    }
   ],
   "source": [
    "(df_session_tot.wav_duration_s < 5).value_counts()\n"
   ]
  },
  {
   "cell_type": "code",
   "execution_count": 54,
   "id": "f2cb430d",
   "metadata": {},
   "outputs": [
    {
     "data": {
      "text/html": [
       "<div>\n",
       "<style scoped>\n",
       "    .dataframe tbody tr th:only-of-type {\n",
       "        vertical-align: middle;\n",
       "    }\n",
       "\n",
       "    .dataframe tbody tr th {\n",
       "        vertical-align: top;\n",
       "    }\n",
       "\n",
       "    .dataframe thead th {\n",
       "        text-align: right;\n",
       "    }\n",
       "</style>\n",
       "<table border=\"1\" class=\"dataframe\">\n",
       "  <thead>\n",
       "    <tr style=\"text-align: right;\">\n",
       "      <th></th>\n",
       "      <th></th>\n",
       "      <th>0</th>\n",
       "    </tr>\n",
       "    <tr>\n",
       "      <th>ID</th>\n",
       "      <th>DB</th>\n",
       "      <th></th>\n",
       "    </tr>\n",
       "  </thead>\n",
       "  <tbody>\n",
       "    <tr>\n",
       "      <th>0bae55f8-2aab-4c7b-917f-7f0c3e627e5f</th>\n",
       "      <th>marloes</th>\n",
       "      <td>1</td>\n",
       "    </tr>\n",
       "    <tr>\n",
       "      <th>2b9fffea-9eea-43cc-9f1a-f026cbb4a19b</th>\n",
       "      <th>marloes</th>\n",
       "      <td>1</td>\n",
       "    </tr>\n",
       "    <tr>\n",
       "      <th>3bdd33ef-9671-4a3e-b152-eff41ef674e8</th>\n",
       "      <th>marloes</th>\n",
       "      <td>2</td>\n",
       "    </tr>\n",
       "    <tr>\n",
       "      <th>716dc108-5588-49ed-bf3c-04fb87212e2b</th>\n",
       "      <th>Radboud</th>\n",
       "      <td>2</td>\n",
       "    </tr>\n",
       "    <tr>\n",
       "      <th rowspan=\"2\" valign=\"top\">94025116-4e19-4718-9e4e-c9f5af205b4c</th>\n",
       "      <th>Radboud</th>\n",
       "      <td>1</td>\n",
       "    </tr>\n",
       "    <tr>\n",
       "      <th>marloes</th>\n",
       "      <td>1</td>\n",
       "    </tr>\n",
       "    <tr>\n",
       "      <th rowspan=\"2\" valign=\"top\">9c44a144-8722-4d83-9bc7-f3c1189c5b82</th>\n",
       "      <th>Radboud</th>\n",
       "      <td>1</td>\n",
       "    </tr>\n",
       "    <tr>\n",
       "      <th>marloes</th>\n",
       "      <td>1</td>\n",
       "    </tr>\n",
       "    <tr>\n",
       "      <th rowspan=\"3\" valign=\"top\">a97a84b6-7a66-461f-810e-b54bac686f64</th>\n",
       "      <th>PiSCES</th>\n",
       "      <td>7</td>\n",
       "    </tr>\n",
       "    <tr>\n",
       "      <th>Radboud</th>\n",
       "      <td>6</td>\n",
       "    </tr>\n",
       "    <tr>\n",
       "      <th>marloes</th>\n",
       "      <td>3</td>\n",
       "    </tr>\n",
       "    <tr>\n",
       "      <th>aef8bb4e-230d-42ae-a76a-dc5b37d97ff3</th>\n",
       "      <th>Radboud</th>\n",
       "      <td>1</td>\n",
       "    </tr>\n",
       "    <tr>\n",
       "      <th>bca36751-bfcb-42a7-bffd-b418e606f1ca</th>\n",
       "      <th>PiSCES</th>\n",
       "      <td>1</td>\n",
       "    </tr>\n",
       "  </tbody>\n",
       "</table>\n",
       "</div>"
      ],
      "text/plain": [
       "                                              0\n",
       "ID                                   DB        \n",
       "0bae55f8-2aab-4c7b-917f-7f0c3e627e5f marloes  1\n",
       "2b9fffea-9eea-43cc-9f1a-f026cbb4a19b marloes  1\n",
       "3bdd33ef-9671-4a3e-b152-eff41ef674e8 marloes  2\n",
       "716dc108-5588-49ed-bf3c-04fb87212e2b Radboud  2\n",
       "94025116-4e19-4718-9e4e-c9f5af205b4c Radboud  1\n",
       "                                     marloes  1\n",
       "9c44a144-8722-4d83-9bc7-f3c1189c5b82 Radboud  1\n",
       "                                     marloes  1\n",
       "a97a84b6-7a66-461f-810e-b54bac686f64 PiSCES   7\n",
       "                                     Radboud  6\n",
       "                                     marloes  3\n",
       "aef8bb4e-230d-42ae-a76a-dc5b37d97ff3 Radboud  1\n",
       "bca36751-bfcb-42a7-bffd-b418e606f1ca PiSCES   1"
      ]
     },
     "execution_count": 54,
     "metadata": {},
     "output_type": "execute_result"
    }
   ],
   "source": [
    "df_session_tot[(df_session_tot.wav_duration_s < 1)].groupby(\n",
    "    [\"ID\", \"DB\"]\n",
    ").size().to_frame()\n"
   ]
  },
  {
   "cell_type": "markdown",
   "id": "9962e7d6",
   "metadata": {},
   "source": [
    "### Filtering events"
   ]
  },
  {
   "cell_type": "code",
   "execution_count": 55,
   "id": "20181647",
   "metadata": {},
   "outputs": [
    {
     "data": {
      "text/plain": [
       "(1147, 20)"
      ]
     },
     "execution_count": 55,
     "metadata": {},
     "output_type": "execute_result"
    }
   ],
   "source": [
    "df_session_tot.shape"
   ]
  },
  {
   "cell_type": "code",
   "execution_count": 62,
   "id": "740946f2",
   "metadata": {},
   "outputs": [],
   "source": [
    "ids_to_skip = [\"a97a84b6-7a66-461f-810e-b54bac686f64\"]\n",
    "# we also skip this id\n",
    "df_session_tot[(~df_session_tot.ID.isin(ids_to_skip)) & (df_session_tot.wav_size > 100)]\n",
    "df_session_tot = df_session_tot.sort_values(by=['ID', 'time'], ignore_index=True)"
   ]
  },
  {
   "cell_type": "code",
   "execution_count": 4,
   "id": "aab69d69-7a6c-4e3e-8be4-a139e2b8a0bf",
   "metadata": {
    "execution": {
     "iopub.execute_input": "2022-02-08T10:21:00.672886Z",
     "iopub.status.busy": "2022-02-08T10:21:00.672597Z",
     "iopub.status.idle": "2022-02-08T10:21:00.785693Z",
     "shell.execute_reply": "2022-02-08T10:21:00.784574Z",
     "shell.execute_reply.started": "2022-02-08T10:21:00.672856Z"
    },
    "tags": []
   },
   "outputs": [],
   "source": [
    "df_session_tot[\"uuid\"] = [str(uuid4()) for _ in range(len(df_session_tot))]"
   ]
  },
  {
   "cell_type": "code",
   "execution_count": 65,
   "id": "34e61a94",
   "metadata": {},
   "outputs": [],
   "source": [
    "df_session_tot.to_parquet(loc_data_dir.joinpath('df_session_tot_uuid.parquet'))"
   ]
  }
 ],
 "metadata": {
  "kernelspec": {
   "display_name": "sgs",
   "language": "python",
   "name": "sgs"
  },
  "language_info": {
   "codemirror_mode": {
    "name": "ipython",
    "version": 3
   },
   "file_extension": ".py",
   "mimetype": "text/x-python",
   "name": "python",
   "nbconvert_exporter": "python",
   "pygments_lexer": "ipython3",
   "version": "3.8.0"
  }
 },
 "nbformat": 4,
 "nbformat_minor": 5
}
