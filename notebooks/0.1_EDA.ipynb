{
 "cells": [
  {
   "cell_type": "code",
   "execution_count": 1,
   "id": "21c6797f-dd1c-4bda-90d4-659ab88264e3",
   "metadata": {
    "tags": []
   },
   "outputs": [],
   "source": [
    "%load_ext autoreload\n",
    "%autoreload 2"
   ]
  },
  {
   "cell_type": "code",
   "execution_count": 2,
   "id": "eb8795e8-d000-4ac6-ab7a-3bddb68055d6",
   "metadata": {
    "tags": []
   },
   "outputs": [
    {
     "data": {
      "text/plain": [
       "PosixPath('/media/speech_webapp_merged/backup')"
      ]
     },
     "metadata": {},
     "output_type": "display_data"
    }
   ],
   "source": [
    "import json\n",
    "import sys\n",
    "\n",
    "from pathlib import Path\n",
    "import pandas as pd\n",
    "from IPython.display import display\n",
    "from functional import seq\n",
    "import librosa\n",
    "import seaborn as sns\n",
    "\n",
    "sys.path.append(\"..\")\n",
    "from sgs_utils.path_conf import speech_data_root_dir, loc_data_dir\n",
    "\n",
    "speech_data_session_dir = speech_data_root_dir.joinpath(\"backup\")\n",
    "display(speech_data_session_dir)\n",
    "\n",
    "pd.options.display.max_columns = None\n",
    "pd.options.display.max_rows = None\n",
    "pd.options.plotting.backend = \"plotly\"\n"
   ]
  },
  {
   "cell_type": "markdown",
   "id": "a79fe8cf",
   "metadata": {},
   "source": [
    "## Downloading all the data"
   ]
  },
  {
   "cell_type": "code",
   "execution_count": 3,
   "id": "9ccb963b",
   "metadata": {},
   "outputs": [],
   "source": [
    "# !wget --output-document=\"speech_data_webapp.zip\" https://cloud.ilabt.imec.be/index.php/s/tB2enWmZCJskGmG/download\n",
    "# !unzip speech_data_webapp.zip\n",
    "# !mv speech_web_app /project_scratch/data/\n",
    "# !rm speech_data_webapp.zip\n"
   ]
  },
  {
   "cell_type": "code",
   "execution_count": 4,
   "id": "c834491c",
   "metadata": {
    "tags": []
   },
   "outputs": [
    {
     "name": "stdout",
     "output_type": "stream",
     "text": [
      "total 0\n",
      "drwxr-xr-x 2 jonas jonas 27 Jun 27 07:19 2020-11-25__11:08:00+01:00__59b7f538-755a-4bee-8165-158c6795b287\n",
      "drwxr-xr-x 6 jonas jonas 83 Jun 27 07:19 2020-11-25__11:11:00+01:00__6fb54909-8b1d-4ff5-bc58-912249de7d94\n",
      "drwxr-xr-x 2 jonas jonas 27 Jun 27 07:19 2020-11-25__11:13:00+01:00__12cd1ed1-17ae-4a4c-8fa8-1363030736e7\n",
      "drwxr-xr-x 2 jonas jonas 27 Jun 27 07:19 2020-11-25__11:33:00+01:00__9247ce5d-23af-4af4-bb07-6c9b53f8bb90\n",
      "drwxr-xr-x 4 jonas jonas 54 Jun 27 07:19 2020-11-25__11:35:00+01:00__8c449866-0ac4-4b62-a4a7-d3ce0e7781b6\n",
      "drwxr-xr-x 3 jonas jonas 39 Jun 27 07:19 2020-11-25__11:45:00+01:00__a03a23eb-ca38-430d-afc6-e47dc4d71f61\n",
      "drwxr-xr-x 2 jonas jonas 27 Jun 27 07:19 2020-11-25__11:53:00+01:00__8071ebfc-e589-4175-900b-0fadf2627aa5\n",
      "drwxr-xr-x 2 jonas jonas 27 Jun 27 07:19 2020-11-25__11:54:00+01:00__f752870e-8461-4b7f-bdcc-93649b8caeaa\n",
      "drwxr-xr-x 2 jonas jonas 27 Jun 27 07:19 2020-11-25__12:15:00+01:00__2f87494b-5d33-46b3-8595-a4da6510ab1f\n",
      "ls: write error: Broken pipe\n"
     ]
    }
   ],
   "source": [
    "# so we have all folders in backup?\n",
    "!ls -lh {speech_data_session_dir} | head -n 10"
   ]
  },
  {
   "cell_type": "code",
   "execution_count": 5,
   "id": "ed9ebcc6",
   "metadata": {
    "tags": []
   },
   "outputs": [
    {
     "name": "stdout",
     "output_type": "stream",
     "text": [
      "marloes    114\n",
      "PiSCES     104\n",
      "Radboud     98\n",
      "demo         5\n",
      "dtype: int64\n"
     ]
    }
   ],
   "source": [
    "# This snippet summarizes the dir-names of the various folders\n",
    "# within `speech_data_session_dir`\n",
    "dir_list = []\n",
    "for folder in speech_data_session_dir.iterdir():\n",
    "    if not folder.is_dir():\n",
    "        continue\n",
    "    dir_list.extend(\n",
    "        seq(folder.iterdir())\n",
    "        .filter(lambda x: x.is_dir())\n",
    "        .map(lambda x: x.name)\n",
    "        .to_list()\n",
    "    )\n",
    "print(pd.Series(dir_list).value_counts())\n",
    "del dir_list, folder\n"
   ]
  },
  {
   "cell_type": "markdown",
   "id": "7998e716",
   "metadata": {},
   "source": [
    "## 1. Creating the metadata file"
   ]
  },
  {
   "cell_type": "markdown",
   "id": "bcf11db9",
   "metadata": {},
   "source": [
    "The metadata file is constructed of the `.json` file which resides within each user ID \n",
    "folder and withholds the person's metadata such as gender, age, education, used mic. etc ..."
   ]
  },
  {
   "cell_type": "code",
   "execution_count": 6,
   "id": "9cdb2143",
   "metadata": {},
   "outputs": [
    {
     "name": "stdout",
     "output_type": "stream",
     "text": [
      "<class 'pandas.core.frame.DataFrame'>\n",
      "RangeIndex: 214 entries, 0 to 213\n",
      "Data columns (total 10 columns):\n",
      " #   Column          Non-Null Count  Dtype                          \n",
      "---  ------          --------------  -----                          \n",
      " 0   age             214 non-null    int64                          \n",
      " 1   education       214 non-null    category                       \n",
      " 2   sex             214 non-null    category                       \n",
      " 3   timestamp       214 non-null    datetime64[ns, Europe/Brussels]\n",
      " 4   ID              214 non-null    object                         \n",
      " 5   Marloes         214 non-null    int64                          \n",
      " 6   PiSCES          214 non-null    int64                          \n",
      " 7   Radboud         214 non-null    int64                          \n",
      " 8   device          141 non-null    category                       \n",
      " 9   prolific_token  87 non-null     object                         \n",
      "dtypes: category(3), datetime64[ns, Europe/Brussels](1), int64(4), object(2)\n",
      "memory usage: 13.0+ KB\n"
     ]
    }
   ],
   "source": [
    "metadata_dict_list = []\n",
    "\n",
    "# creating alldata.csv\n",
    "for folder in speech_data_session_dir.iterdir():\n",
    "    if not folder.is_dir():\n",
    "        continue\n",
    "\n",
    "    metadata = folder.joinpath(\"metadata.json\")\n",
    "    if not metadata.is_file():\n",
    "        continue\n",
    "\n",
    "    with open(metadata, \"r\") as f:\n",
    "        metadata_dict = json.load(f)\n",
    "    metadata_dict[\"ID\"] = folder.name.split(\"__\")[-1]\n",
    "\n",
    "    metadata_dict[\"Marloes\"] = len(list(folder.joinpath(\"marloes\").glob(\"*.wav\")))\n",
    "    metadata_dict[\"PiSCES\"] = len(list(folder.joinpath(\"PiSCES\").glob(\"*.wav\")))\n",
    "    metadata_dict[\"Radboud\"] = len(list(folder.joinpath(\"Radboud\").glob(\"*.wav\")))\n",
    "\n",
    "    metadata_dict_list.append(metadata_dict)\n",
    "\n",
    "df_metadata = pd.DataFrame(metadata_dict_list)\n",
    "\n",
    "# conver the columns to the correct data format\n",
    "df_metadata[\"age\"] = df_metadata[\"age\"].astype(int)\n",
    "df_metadata[[\"sex\", \"device\", \"education\"]] = df_metadata[\n",
    "    [\"sex\", \"device\", \"education\"]\n",
    "].astype(\"category\")\n",
    "df_metadata[\"timestamp\"] = pd.to_datetime(\n",
    "    df_metadata.timestamp, utc=True\n",
    ").dt.tz_convert(\"Europe/Brussels\")\n",
    "\n",
    "del folder, metadata_dict, metadata_dict_list, f, metadata\n",
    "df_metadata.info()\n"
   ]
  },
  {
   "cell_type": "markdown",
   "id": "488642a5",
   "metadata": {},
   "source": [
    "## Analyzing the metadata"
   ]
  },
  {
   "cell_type": "code",
   "execution_count": 7,
   "id": "40b5b682",
   "metadata": {},
   "outputs": [
    {
     "data": {
      "text/plain": [
       "array([<AxesSubplot:ylabel='Frequency'>, <AxesSubplot:ylabel='Frequency'>,\n",
       "       <AxesSubplot:ylabel='Frequency'>], dtype=object)"
      ]
     },
     "execution_count": 7,
     "metadata": {},
     "output_type": "execute_result"
    },
    {
     "data": {
      "image/png": "[encoded data removed]",
      "text/plain": [
       "<Figure size 1080x504 with 3 Axes>"
      ]
     },
     "metadata": {
      "needs_background": "light"
     },
     "output_type": "display_data"
    }
   ],
   "source": [
    "df_metadata[[\"Marloes\", \"PiSCES\", \"Radboud\"]].plot(\n",
    "    subplots=True,\n",
    "    kind=\"hist\",\n",
    "    figsize=(15, 7),\n",
    "    sharex=False,\n",
    "    backend=\"matplotlib\",\n",
    "    color=sns.color_palette(\"Set3\"),\n",
    ")\n"
   ]
  },
  {
   "cell_type": "code",
   "execution_count": 8,
   "id": "7fc49e61",
   "metadata": {},
   "outputs": [
    {
     "data": {
      "text/html": [
       "<div>\n",
       "<style scoped>\n",
       "    .dataframe tbody tr th:only-of-type {\n",
       "        vertical-align: middle;\n",
       "    }\n",
       "\n",
       "    .dataframe tbody tr th {\n",
       "        vertical-align: top;\n",
       "    }\n",
       "\n",
       "    .dataframe thead th {\n",
       "        text-align: right;\n",
       "    }\n",
       "</style>\n",
       "<table border=\"1\" class=\"dataframe\">\n",
       "  <thead>\n",
       "    <tr style=\"text-align: right;\">\n",
       "      <th></th>\n",
       "      <th>age</th>\n",
       "      <th>Marloes</th>\n",
       "      <th>PiSCES</th>\n",
       "      <th>Radboud</th>\n",
       "    </tr>\n",
       "  </thead>\n",
       "  <tbody>\n",
       "    <tr>\n",
       "      <th>count</th>\n",
       "      <td>90.000000</td>\n",
       "      <td>90.000000</td>\n",
       "      <td>90.000</td>\n",
       "      <td>90.000000</td>\n",
       "    </tr>\n",
       "    <tr>\n",
       "      <th>mean</th>\n",
       "      <td>28.211111</td>\n",
       "      <td>6.977778</td>\n",
       "      <td>15.000</td>\n",
       "      <td>14.988889</td>\n",
       "    </tr>\n",
       "    <tr>\n",
       "      <th>std</th>\n",
       "      <td>9.320142</td>\n",
       "      <td>0.148231</td>\n",
       "      <td>0.212</td>\n",
       "      <td>0.105409</td>\n",
       "    </tr>\n",
       "    <tr>\n",
       "      <th>min</th>\n",
       "      <td>19.000000</td>\n",
       "      <td>6.000000</td>\n",
       "      <td>14.000</td>\n",
       "      <td>14.000000</td>\n",
       "    </tr>\n",
       "    <tr>\n",
       "      <th>25%</th>\n",
       "      <td>23.000000</td>\n",
       "      <td>7.000000</td>\n",
       "      <td>15.000</td>\n",
       "      <td>15.000000</td>\n",
       "    </tr>\n",
       "    <tr>\n",
       "      <th>50%</th>\n",
       "      <td>26.000000</td>\n",
       "      <td>7.000000</td>\n",
       "      <td>15.000</td>\n",
       "      <td>15.000000</td>\n",
       "    </tr>\n",
       "    <tr>\n",
       "      <th>75%</th>\n",
       "      <td>30.750000</td>\n",
       "      <td>7.000000</td>\n",
       "      <td>15.000</td>\n",
       "      <td>15.000000</td>\n",
       "    </tr>\n",
       "    <tr>\n",
       "      <th>max</th>\n",
       "      <td>90.000000</td>\n",
       "      <td>7.000000</td>\n",
       "      <td>16.000</td>\n",
       "      <td>15.000000</td>\n",
       "    </tr>\n",
       "  </tbody>\n",
       "</table>\n",
       "</div>"
      ],
      "text/plain": [
       "             age    Marloes  PiSCES    Radboud\n",
       "count  90.000000  90.000000  90.000  90.000000\n",
       "mean   28.211111   6.977778  15.000  14.988889\n",
       "std     9.320142   0.148231   0.212   0.105409\n",
       "min    19.000000   6.000000  14.000  14.000000\n",
       "25%    23.000000   7.000000  15.000  15.000000\n",
       "50%    26.000000   7.000000  15.000  15.000000\n",
       "75%    30.750000   7.000000  15.000  15.000000\n",
       "max    90.000000   7.000000  16.000  15.000000"
      ]
     },
     "execution_count": 8,
     "metadata": {},
     "output_type": "execute_result"
    }
   ],
   "source": [
    "df_metadata_relevant = (\n",
    "    df_metadata[\n",
    "        (df_metadata.Marloes >= 6)\n",
    "        & (df_metadata.Radboud >= 13)\n",
    "        & (df_metadata.PiSCES >= 13)\n",
    "    ]\n",
    "    .reset_index(drop=True)\n",
    "    .copy()\n",
    ")\n",
    "\n",
    "df_metadata_relevant[\n",
    "    [\"age\", \"sex\", \"device\", \"Marloes\", \"PiSCES\", \"Radboud\"]\n",
    "].describe()\n"
   ]
  },
  {
   "cell_type": "code",
   "execution_count": 9,
   "id": "68d92d7b",
   "metadata": {},
   "outputs": [
    {
     "data": {
      "text/plain": [
       "male      45\n",
       "female    44\n",
       "other      1\n",
       "Name: sex, dtype: int64"
      ]
     },
     "metadata": {},
     "output_type": "display_data"
    },
    {
     "name": "stdout",
     "output_type": "stream",
     "text": [
      "----------------------------------------\n"
     ]
    },
    {
     "data": {
      "text/plain": [
       "pc-mic       38\n",
       "headset      17\n",
       "earphones    16\n",
       "other         6\n",
       "Name: device, dtype: int64"
      ]
     },
     "metadata": {},
     "output_type": "display_data"
    },
    {
     "name": "stdout",
     "output_type": "stream",
     "text": [
      "----------------------------------------\n"
     ]
    },
    {
     "data": {
      "image/png": "[encoded data removed]",
      "text/plain": [
       "<Figure size 1440x720 with 4 Axes>"
      ]
     },
     "metadata": {
      "needs_background": "light"
     },
     "output_type": "display_data"
    }
   ],
   "source": [
    "display(df_metadata_relevant.sex.value_counts())\n",
    "print(\"-\" * 40)\n",
    "display(df_metadata_relevant.device.value_counts())\n",
    "print(\"-\" * 40)\n",
    "df_metadata_relevant.education.value_counts()\n",
    "\n",
    "# Also plot the distributions\n",
    "df_metadata_relevant[[\"age\", \"device\", \"Marloes\", \"PiSCES\", \"Radboud\"]].plot(\n",
    "    kind=\"hist\",\n",
    "    subplots=True,\n",
    "    sharex=False,\n",
    "    figsize=(20, 10),\n",
    "    backend=\"matplotlib\",\n",
    "    color=sns.color_palette(\"Set3\"),\n",
    "    bins=50,\n",
    ");\n"
   ]
  },
  {
   "cell_type": "code",
   "execution_count": 10,
   "id": "e89dae4a",
   "metadata": {},
   "outputs": [],
   "source": [
    "df_metadata_relevant.to_parquet(loc_data_dir.joinpath(\"metadata_rel_ids.parquet\"))\n"
   ]
  },
  {
   "cell_type": "markdown",
   "id": "e2ebb1e9",
   "metadata": {},
   "source": [
    "## Distilling sessions from the relevant metadata"
   ]
  },
  {
   "cell_type": "code",
   "execution_count": 11,
   "id": "6816aa09",
   "metadata": {},
   "outputs": [
    {
     "data": {
      "text/html": [
       "<div>\n",
       "<style scoped>\n",
       "    .dataframe tbody tr th:only-of-type {\n",
       "        vertical-align: middle;\n",
       "    }\n",
       "\n",
       "    .dataframe tbody tr th {\n",
       "        vertical-align: top;\n",
       "    }\n",
       "\n",
       "    .dataframe thead th {\n",
       "        text-align: right;\n",
       "    }\n",
       "</style>\n",
       "<table border=\"1\" class=\"dataframe\">\n",
       "  <thead>\n",
       "    <tr style=\"text-align: right;\">\n",
       "      <th></th>\n",
       "      <th>pic_name</th>\n",
       "      <th>time_str</th>\n",
       "      <th>wav_size</th>\n",
       "      <th>wav_sample_rate</th>\n",
       "      <th>wav_duration_s</th>\n",
       "      <th>wav_timestamp</th>\n",
       "      <th>ID</th>\n",
       "      <th>DB</th>\n",
       "      <th>arousal</th>\n",
       "      <th>valence</th>\n",
       "    </tr>\n",
       "  </thead>\n",
       "  <tbody>\n",
       "    <tr>\n",
       "      <th>2298</th>\n",
       "      <td>Rafd090_24_Caucasian_male_neutral_frontal</td>\n",
       "      <td>15:04:03</td>\n",
       "      <td>5546028</td>\n",
       "      <td>48000</td>\n",
       "      <td>57.77</td>\n",
       "      <td>2022-06-29 15:04:04+02:00</td>\n",
       "      <td>0ce7b123-c80b-44f3-ad3e-f935d9072cef</td>\n",
       "      <td>Radboud</td>\n",
       "      <td>36.0</td>\n",
       "      <td>54.0</td>\n",
       "    </tr>\n",
       "    <tr>\n",
       "      <th>1378</th>\n",
       "      <td>marloes</td>\n",
       "      <td>14:14:37</td>\n",
       "      <td>3006508</td>\n",
       "      <td>48000</td>\n",
       "      <td>31.32</td>\n",
       "      <td>2022-06-23 14:14:38+02:00</td>\n",
       "      <td>ca947b80-e84b-45b6-90ae-9e8cbef7daa6</td>\n",
       "      <td>marloes</td>\n",
       "      <td>27.0</td>\n",
       "      <td>70.0</td>\n",
       "    </tr>\n",
       "    <tr>\n",
       "      <th>2272</th>\n",
       "      <td>Picture 59</td>\n",
       "      <td>14:52:13</td>\n",
       "      <td>6651948</td>\n",
       "      <td>48000</td>\n",
       "      <td>69.29</td>\n",
       "      <td>2022-06-29 14:52:12+02:00</td>\n",
       "      <td>42c842a5-7051-44c3-af42-cf824fded959</td>\n",
       "      <td>PiSCES</td>\n",
       "      <td>59.0</td>\n",
       "      <td>76.0</td>\n",
       "    </tr>\n",
       "  </tbody>\n",
       "</table>\n",
       "</div>"
      ],
      "text/plain": [
       "                                       pic_name  time_str  wav_size  \\\n",
       "2298  Rafd090_24_Caucasian_male_neutral_frontal  15:04:03   5546028   \n",
       "1378                                    marloes  14:14:37   3006508   \n",
       "2272                                 Picture 59  14:52:13   6651948   \n",
       "\n",
       "      wav_sample_rate  wav_duration_s             wav_timestamp  \\\n",
       "2298            48000           57.77 2022-06-29 15:04:04+02:00   \n",
       "1378            48000           31.32 2022-06-23 14:14:38+02:00   \n",
       "2272            48000           69.29 2022-06-29 14:52:12+02:00   \n",
       "\n",
       "                                        ID       DB  arousal  valence  \n",
       "2298  0ce7b123-c80b-44f3-ad3e-f935d9072cef  Radboud     36.0     54.0  \n",
       "1378  ca947b80-e84b-45b6-90ae-9e8cbef7daa6  marloes     27.0     70.0  \n",
       "2272  42c842a5-7051-44c3-af42-cf824fded959   PiSCES     59.0     76.0  "
      ]
     },
     "metadata": {},
     "output_type": "display_data"
    },
    {
     "name": "stdout",
     "output_type": "stream",
     "text": [
      "----------------------------------------------------------------------------------------\n"
     ]
    },
    {
     "data": {
      "text/html": [
       "<div>\n",
       "<style scoped>\n",
       "    .dataframe tbody tr th:only-of-type {\n",
       "        vertical-align: middle;\n",
       "    }\n",
       "\n",
       "    .dataframe tbody tr th {\n",
       "        vertical-align: top;\n",
       "    }\n",
       "\n",
       "    .dataframe thead th {\n",
       "        text-align: right;\n",
       "    }\n",
       "</style>\n",
       "<table border=\"1\" class=\"dataframe\">\n",
       "  <thead>\n",
       "    <tr style=\"text-align: right;\">\n",
       "      <th></th>\n",
       "      <th>age</th>\n",
       "      <th>education</th>\n",
       "      <th>sex</th>\n",
       "      <th>timestamp</th>\n",
       "      <th>ID</th>\n",
       "      <th>Marloes</th>\n",
       "      <th>PiSCES</th>\n",
       "      <th>Radboud</th>\n",
       "      <th>device</th>\n",
       "      <th>prolific_token</th>\n",
       "      <th>pic_name</th>\n",
       "      <th>time_str</th>\n",
       "      <th>wav_size</th>\n",
       "      <th>wav_sample_rate</th>\n",
       "      <th>wav_duration_s</th>\n",
       "      <th>wav_timestamp</th>\n",
       "      <th>DB</th>\n",
       "      <th>arousal</th>\n",
       "      <th>valence</th>\n",
       "    </tr>\n",
       "  </thead>\n",
       "  <tbody>\n",
       "    <tr>\n",
       "      <th>2003</th>\n",
       "      <td>28</td>\n",
       "      <td>ho</td>\n",
       "      <td>female</td>\n",
       "      <td>2022-06-27 22:01:48.323990+02:00</td>\n",
       "      <td>0c28e160-d7bb-4b17-829c-c9ebc7ad0a1f</td>\n",
       "      <td>7</td>\n",
       "      <td>15</td>\n",
       "      <td>15</td>\n",
       "      <td>pc-mic</td>\n",
       "      <td>60fdb9bad55eb8c5b67f18f4</td>\n",
       "      <td>Rafd090_01_Caucasian_female_neutral_frontal</td>\n",
       "      <td>22:25:05</td>\n",
       "      <td>5947436</td>\n",
       "      <td>48000</td>\n",
       "      <td>61.95</td>\n",
       "      <td>2022-06-27 22:25:04+02:00</td>\n",
       "      <td>Radboud</td>\n",
       "      <td>4.0</td>\n",
       "      <td>58.0</td>\n",
       "    </tr>\n",
       "    <tr>\n",
       "      <th>835</th>\n",
       "      <td>37</td>\n",
       "      <td>unif</td>\n",
       "      <td>male</td>\n",
       "      <td>2020-12-04 21:44:43.508944+01:00</td>\n",
       "      <td>e0c00b33-2151-4bcf-98b8-82f7701fccea</td>\n",
       "      <td>7</td>\n",
       "      <td>16</td>\n",
       "      <td>15</td>\n",
       "      <td>headset</td>\n",
       "      <td>NaN</td>\n",
       "      <td>Picture 118</td>\n",
       "      <td>22:55:38</td>\n",
       "      <td>5685292</td>\n",
       "      <td>48000</td>\n",
       "      <td>59.22</td>\n",
       "      <td>2020-12-04 22:57:22+01:00</td>\n",
       "      <td>PiSCES</td>\n",
       "      <td>46.0</td>\n",
       "      <td>72.0</td>\n",
       "    </tr>\n",
       "    <tr>\n",
       "      <th>2741</th>\n",
       "      <td>25</td>\n",
       "      <td>ho</td>\n",
       "      <td>female</td>\n",
       "      <td>2022-07-17 13:09:11.536769+02:00</td>\n",
       "      <td>795f5119-2b11-49f9-80ea-e5a5ef61f4bf</td>\n",
       "      <td>7</td>\n",
       "      <td>15</td>\n",
       "      <td>15</td>\n",
       "      <td>headset</td>\n",
       "      <td>61115e026711eecf59e0e7ee</td>\n",
       "      <td>marloes</td>\n",
       "      <td>13:48:22</td>\n",
       "      <td>2277420</td>\n",
       "      <td>48000</td>\n",
       "      <td>23.72</td>\n",
       "      <td>2022-07-17 13:48:22+02:00</td>\n",
       "      <td>marloes</td>\n",
       "      <td>49.0</td>\n",
       "      <td>49.0</td>\n",
       "    </tr>\n",
       "  </tbody>\n",
       "</table>\n",
       "</div>"
      ],
      "text/plain": [
       "      age education     sex                        timestamp  \\\n",
       "2003   28        ho  female 2022-06-27 22:01:48.323990+02:00   \n",
       "835    37      unif    male 2020-12-04 21:44:43.508944+01:00   \n",
       "2741   25        ho  female 2022-07-17 13:09:11.536769+02:00   \n",
       "\n",
       "                                        ID  Marloes  PiSCES  Radboud   device  \\\n",
       "2003  0c28e160-d7bb-4b17-829c-c9ebc7ad0a1f        7      15       15   pc-mic   \n",
       "835   e0c00b33-2151-4bcf-98b8-82f7701fccea        7      16       15  headset   \n",
       "2741  795f5119-2b11-49f9-80ea-e5a5ef61f4bf        7      15       15  headset   \n",
       "\n",
       "                prolific_token                                     pic_name  \\\n",
       "2003  60fdb9bad55eb8c5b67f18f4  Rafd090_01_Caucasian_female_neutral_frontal   \n",
       "835                        NaN                                  Picture 118   \n",
       "2741  61115e026711eecf59e0e7ee                                      marloes   \n",
       "\n",
       "      time_str  wav_size  wav_sample_rate  wav_duration_s  \\\n",
       "2003  22:25:05   5947436            48000           61.95   \n",
       "835   22:55:38   5685292            48000           59.22   \n",
       "2741  13:48:22   2277420            48000           23.72   \n",
       "\n",
       "                 wav_timestamp       DB  arousal  valence  \n",
       "2003 2022-06-27 22:25:04+02:00  Radboud      4.0     58.0  \n",
       "835  2020-12-04 22:57:22+01:00   PiSCES     46.0     72.0  \n",
       "2741 2022-07-17 13:48:22+02:00  marloes     49.0     49.0  "
      ]
     },
     "metadata": {},
     "output_type": "display_data"
    }
   ],
   "source": [
    "session_dict_list = []\n",
    "\n",
    "# creating alldata.csv\n",
    "for folder in speech_data_session_dir.iterdir():\n",
    "    if not folder.is_dir():\n",
    "        continue\n",
    "\n",
    "    def parse_pic_name_ts(db_folder, pic_name, time_str, sep=\"__\") -> dict:\n",
    "        # what can we save from the wave file?\n",
    "        # duration - size\n",
    "        json_f = sep.join([pic_name, time_str]) + \".json\"\n",
    "        json_f = db_folder.joinpath(json_f)\n",
    "        if not json_f.is_file():\n",
    "            # print('json_f does not exist')\n",
    "            return {}\n",
    "\n",
    "        with open(json_f, \"r\") as f:\n",
    "            return json.load(f)\n",
    "\n",
    "    # TODO -> maybe we can also use the wav duration here as an extra assert.\n",
    "    def get_wav_json_mapping(db_folder: Path) -> dict:\n",
    "        # parse the wav files to construct a dataframe\n",
    "        wav_list = list(db_folder.glob(\"*.wav\"))\n",
    "        df_db_wav = pd.Series(\n",
    "            seq(wav_list).map(lambda x: x.name), name=\"wav_files\", dtype=\"str\"\n",
    "        ).to_frame()\n",
    "        df_db_wav[\"wav_time_str\"] = df_db_wav[\"wav_files\"].map(\n",
    "            lambda x: x.split(\"__\")[1].split(\".\")[0]\n",
    "        )\n",
    "        df_db_wav[\"wav_time_str\"] = pd.to_datetime(\n",
    "            \"2022/01/01 \" + df_db_wav[\"wav_time_str\"], infer_datetime_format=True\n",
    "        )\n",
    "        df_db_wav = df_db_wav.sort_values(by=\"wav_time_str\")\n",
    "\n",
    "        # parse the json files to construct a datafraem\n",
    "        json_list = list(db_folder.glob(\"*.json\"))\n",
    "        df_db_json = pd.Series(\n",
    "            seq(json_list).map(lambda x: x.name), name=\"json_files\", dtype=\"str\"\n",
    "        ).to_frame()\n",
    "        df_db_json[\"json_time_str\"] = df_db_json[\"json_files\"].map(\n",
    "            lambda x: x.split(\"__\")[1].split(\".\")[0]\n",
    "        )\n",
    "        df_db_json[\"json_time_str\"] = pd.to_datetime(\n",
    "            \"2022/01/01 \" + df_db_json[\"json_time_str\"], infer_datetime_format=True\n",
    "        )\n",
    "        df_db_json = df_db_json.sort_values(by=\"json_time_str\")\n",
    "\n",
    "        # TODO -> check if there is no overlapping data\n",
    "        json_wav_mapping = pd.merge_asof(\n",
    "            left=df_db_wav,\n",
    "            right=df_db_json,\n",
    "            left_on=\"wav_time_str\",\n",
    "            right_on=\"json_time_str\",\n",
    "            tolerance=pd.Timedelta(minutes=3),\n",
    "            # A \"forward\" search selects the first row in the right DataFrame whose 'on' key\n",
    "            # is greater than or equal to the left's key.\n",
    "            direction=\"forward\",\n",
    "        )\n",
    "\n",
    "        json_wav_mapping = json_wav_mapping.dropna(how=\"any\", axis=0)\n",
    "        json_wav_mapping = json_wav_mapping[\n",
    "            ~(\n",
    "                json_wav_mapping[\"wav_time_str\"]\n",
    "                < json_wav_mapping[\"json_time_str\"].shift(1)\n",
    "            )\n",
    "        ].reset_index(drop=True)\n",
    "\n",
    "        assert all(\n",
    "            (\n",
    "                json_wav_mapping[\"json_time_str\"].shift(1)\n",
    "                < json_wav_mapping[\"wav_time_str\"]\n",
    "            ).values[1:]\n",
    "        )\n",
    "        wav_json_mapping_dict = (\n",
    "            json_wav_mapping[[\"json_files\", \"wav_files\"]]\n",
    "            .set_index(\"wav_files\")\n",
    "            .to_dict()[\"json_files\"]\n",
    "        )\n",
    "        return wav_json_mapping_dict\n",
    "\n",
    "    for db_folder in [folder.joinpath(x) for x in [\"marloes\", \"Radboud\", \"PiSCES\"]]:\n",
    "        wav_json_mapping_dict = get_wav_json_mapping(db_folder)\n",
    "\n",
    "        for wav_file in db_folder.glob(\"*.wav\"):\n",
    "            pic_name, time_str = wav_file.name.split(\"__\")\n",
    "            metadata_dict = parse_pic_name_ts(db_folder, pic_name, time_str)\n",
    "            metadata_dict[\"pic_name\"] = pic_name\n",
    "            metadata_dict[\"time_str\"] = time_str.split(\".\")[0]\n",
    "            metadata_dict[\"wav_size\"] = wav_file.stat().st_size\n",
    "            data, sample_rate = librosa.load(path=wav_file, sr=None)\n",
    "            metadata_dict[\"wav_sample_rate\"] = sample_rate\n",
    "            metadata_dict[\"wav_duration_s\"] = round(data.shape[0] / sample_rate, 2)\n",
    "            ts = pd.Timestamp(wav_file.stat().st_mtime, unit=\"s\", tz=\"Europe/Brussels\")\n",
    "            metadata_dict[\"wav_timestamp\"] = ts + ts.utcoffset()\n",
    "            metadata_dict[\"ID\"] = db_folder.parent.name.split(\"__\")[-1]\n",
    "            metadata_dict[\"DB\"] = db_folder.name\n",
    "\n",
    "            # also read the json file to fetch the arousal and valence values\n",
    "            if wav_file.name in wav_json_mapping_dict:\n",
    "                with open(\n",
    "                    db_folder.joinpath(wav_json_mapping_dict[wav_file.name]), \"r\"\n",
    "                ) as f:\n",
    "                    json_dct = json.load(f)\n",
    "                    metadata_dict[\"arousal\"] = int(json_dct.get(\"arousal\"))\n",
    "                    metadata_dict[\"valence\"] = int(json_dct.get(\"valence\"))\n",
    "\n",
    "            session_dict_list.append(metadata_dict)\n",
    "\n",
    "df_session = pd.DataFrame(session_dict_list)\n",
    "\n",
    "# Sanity check - to see whether the wav_time_obj corresponds with the time_str\n",
    "# there must be < 10 minutes of difference between the two\n",
    "assert all(\n",
    "    (\n",
    "        df_session.apply(\n",
    "            lambda r: r.wav_timestamp.replace(\n",
    "                **dict(\n",
    "                    zip(\n",
    "                        [\"hour\", \"minute\", \"second\"],\n",
    "                        list(map(int, r.time_str.split(\":\"))),\n",
    "                    )\n",
    "                )\n",
    "            ),\n",
    "            axis=1,\n",
    "        )\n",
    "        - df_session.wav_timestamp\n",
    "    ).abs()\n",
    "    < pd.Timedelta(minutes=10)\n",
    ")\n",
    "\n",
    "\n",
    "del folder, db_folder, wav_file, ts, metadata_dict, session_dict_list, time_str, f\n",
    "del parse_pic_name_ts, pic_name, wav_json_mapping_dict, json_dct, data, sample_rate\n",
    "\n",
    "display(df_session.sample(3))\n",
    "\n",
    "print(\"-\" * 88)\n",
    "\n",
    "df_session_tot = df_metadata_relevant.merge(\n",
    "    df_session, how=\"left\", left_on=\"ID\", right_on=\"ID\"\n",
    ")\n",
    "display(df_session_tot.sample(3))\n",
    "\n",
    "del df_session\n"
   ]
  },
  {
   "cell_type": "markdown",
   "id": "4908801d",
   "metadata": {},
   "source": [
    "### Add the `DB_no` and `session_no` column"
   ]
  },
  {
   "cell_type": "code",
   "execution_count": 12,
   "id": "4e71e49a",
   "metadata": {},
   "outputs": [
    {
     "name": "stdout",
     "output_type": "stream",
     "text": [
      "[  1  10   3   5   2   8 100  12 200]\n",
      "[0 4 2 3 5 1 7 6 8]\n",
      "[1 6 3 4 2 5 8 7 9]\n"
     ]
    }
   ],
   "source": [
    "import numpy as np\n",
    "\n",
    "# This is a simplified testcase to see whether the applied logic will work\n",
    "test_arr = [1, 10, 3, 5, 2, 8, 100, 12, 200]\n",
    "print(np.array(test_arr))\n",
    "print(np.argsort(test_arr))\n",
    "print(1 + np.argsort(np.argsort(test_arr)))\n"
   ]
  },
  {
   "cell_type": "code",
   "execution_count": 13,
   "id": "2fd220cb",
   "metadata": {},
   "outputs": [],
   "source": [
    "df_session_tot[\"DB_no\"] = df_session_tot.groupby([\"ID\", \"DB\"])[\"wav_timestamp\"].apply(\n",
    "    lambda s: 1 + s.argsort().argsort()\n",
    ")\n",
    "df_session_tot[\"session_no\"] = df_session_tot.groupby([\"ID\"])[\"wav_timestamp\"].apply(\n",
    "    lambda s: 1 + s.argsort().argsort()\n",
    ")\n",
    "\n",
    "df_session_tot[\"pic_no\"] = None\n",
    "pic_mask = df_session_tot.DB != \"marloes\"\n",
    "df_session_tot.loc[pic_mask, \"pic_no\"] = (\n",
    "    df_session_tot[pic_mask]\n",
    "    .groupby([\"ID\"])\n",
    "    .wav_timestamp.apply(lambda s: 1 + s.argsort().argsort())\n",
    ")\n"
   ]
  },
  {
   "cell_type": "markdown",
   "id": "46bd5517",
   "metadata": {},
   "source": [
    "## Duration based visualizations"
   ]
  },
  {
   "cell_type": "code",
   "execution_count": 14,
   "id": "1b1018e8",
   "metadata": {},
   "outputs": [
    {
     "data": {
      "text/plain": [
       "<AxesSubplot:ylabel='Frequency'>"
      ]
     },
     "execution_count": 14,
     "metadata": {},
     "output_type": "execute_result"
    },
    {
     "data": {
      "image/png": "[encoded data removed]",
      "text/plain": [
       "<Figure size 720x360 with 1 Axes>"
      ]
     },
     "metadata": {
      "needs_background": "light"
     },
     "output_type": "display_data"
    }
   ],
   "source": [
    "(\n",
    "    (df_session_tot.wav_timestamp - df_session_tot.timestamp).dt.total_seconds() / 60\n",
    ").plot.hist(backend='matplotlib', figsize=(10, 5), bins=30, color=sns.color_palette('Set2', 2))\n"
   ]
  },
  {
   "cell_type": "code",
   "execution_count": 15,
   "id": "659abb03",
   "metadata": {},
   "outputs": [
    {
     "data": {
      "text/plain": [
       "<AxesSubplot:xlabel='wav_duration_s', ylabel='Count'>"
      ]
     },
     "execution_count": 15,
     "metadata": {},
     "output_type": "execute_result"
    },
    {
     "data": {
      "image/png": "[encoded data removed]",
      "text/plain": [
       "<Figure size 432x288 with 1 Axes>"
      ]
     },
     "metadata": {
      "needs_background": "light"
     },
     "output_type": "display_data"
    }
   ],
   "source": [
    "sns.histplot(\n",
    "    data=df_session_tot,\n",
    "    hue='DB',\n",
    "    x='wav_duration_s',\n",
    "    palette='Set3',\n",
    ")"
   ]
  },
  {
   "cell_type": "markdown",
   "id": "daf7f59c",
   "metadata": {},
   "source": [
    "## Analyzing the sample rate"
   ]
  },
  {
   "cell_type": "code",
   "execution_count": 16,
   "id": "cc1de622",
   "metadata": {},
   "outputs": [
    {
     "data": {
      "text/plain": [
       "<AxesSubplot:>"
      ]
     },
     "execution_count": 16,
     "metadata": {},
     "output_type": "execute_result"
    },
    {
     "data": {
      "image/png": "[encoded data removed]",
      "text/plain": [
       "<Figure size 432x288 with 1 Axes>"
      ]
     },
     "metadata": {
      "needs_background": "light"
     },
     "output_type": "display_data"
    }
   ],
   "source": [
    "df_session_tot.wav_sample_rate.value_counts().plot.bar(\n",
    "    backend=\"matplotlib\", color=sns.color_palette(\"Set3\")\n",
    ")\n"
   ]
  },
  {
   "cell_type": "markdown",
   "id": "5b3b9300",
   "metadata": {},
   "source": [
    "### Investigating the file duration"
   ]
  },
  {
   "cell_type": "code",
   "execution_count": 17,
   "id": "f2cb430d",
   "metadata": {},
   "outputs": [
    {
     "data": {
      "text/html": [
       "<div>\n",
       "<style scoped>\n",
       "    .dataframe tbody tr th:only-of-type {\n",
       "        vertical-align: middle;\n",
       "    }\n",
       "\n",
       "    .dataframe tbody tr th {\n",
       "        vertical-align: top;\n",
       "    }\n",
       "\n",
       "    .dataframe thead th {\n",
       "        text-align: right;\n",
       "    }\n",
       "</style>\n",
       "<table border=\"1\" class=\"dataframe\">\n",
       "  <thead>\n",
       "    <tr style=\"text-align: right;\">\n",
       "      <th></th>\n",
       "      <th></th>\n",
       "      <th></th>\n",
       "      <th></th>\n",
       "      <th>0</th>\n",
       "    </tr>\n",
       "    <tr>\n",
       "      <th>ID</th>\n",
       "      <th>timestamp</th>\n",
       "      <th>prolific_token</th>\n",
       "      <th>DB</th>\n",
       "      <th></th>\n",
       "    </tr>\n",
       "  </thead>\n",
       "  <tbody>\n",
       "    <tr>\n",
       "      <th rowspan=\"2\" valign=\"top\">87eafb16-0598-4340-9564-8e630acf85d6</th>\n",
       "      <th rowspan=\"2\" valign=\"top\">2022-07-16 13:40:19.209381+02:00</th>\n",
       "      <th rowspan=\"2\" valign=\"top\">5da367636f69c500149e6216</th>\n",
       "      <th>PiSCES</th>\n",
       "      <td>12</td>\n",
       "    </tr>\n",
       "    <tr>\n",
       "      <th>Radboud</th>\n",
       "      <td>13</td>\n",
       "    </tr>\n",
       "    <tr>\n",
       "      <th>9a725424-aafb-4d9b-8be7-acad80a46614</th>\n",
       "      <th>2022-07-27 14:55:01.266930+02:00</th>\n",
       "      <th>60fe5f65bf40c582873fefc2</th>\n",
       "      <th>Radboud</th>\n",
       "      <td>4</td>\n",
       "    </tr>\n",
       "    <tr>\n",
       "      <th rowspan=\"2\" valign=\"top\">a2dbee10-fc31-42ec-89f8-9b4e5fa74b7f</th>\n",
       "      <th rowspan=\"2\" valign=\"top\">2022-06-27 22:18:01.896264+02:00</th>\n",
       "      <th rowspan=\"2\" valign=\"top\">5f2be3f5d81eaf0009520f8b</th>\n",
       "      <th>PiSCES</th>\n",
       "      <td>14</td>\n",
       "    </tr>\n",
       "    <tr>\n",
       "      <th>Radboud</th>\n",
       "      <td>15</td>\n",
       "    </tr>\n",
       "    <tr>\n",
       "      <th>c30db4c2-a62a-4d69-8f1b-893a1f4b8c9d</th>\n",
       "      <th>2022-07-16 21:49:33.730743+02:00</th>\n",
       "      <th>5e360d610d43625c7da0a09d</th>\n",
       "      <th>Radboud</th>\n",
       "      <td>1</td>\n",
       "    </tr>\n",
       "    <tr>\n",
       "      <th>e61cd702-cd5f-4258-b4ef-57665e20803c</th>\n",
       "      <th>2022-06-29 14:23:23.366587+02:00</th>\n",
       "      <th>5b0c1fdebd9c3100015641ae</th>\n",
       "      <th>PiSCES</th>\n",
       "      <td>1</td>\n",
       "    </tr>\n",
       "  </tbody>\n",
       "</table>\n",
       "</div>"
      ],
      "text/plain": [
       "                                                                                                         0\n",
       "ID                                   timestamp                        prolific_token           DB         \n",
       "87eafb16-0598-4340-9564-8e630acf85d6 2022-07-16 13:40:19.209381+02:00 5da367636f69c500149e6216 PiSCES   12\n",
       "                                                                                               Radboud  13\n",
       "9a725424-aafb-4d9b-8be7-acad80a46614 2022-07-27 14:55:01.266930+02:00 60fe5f65bf40c582873fefc2 Radboud   4\n",
       "a2dbee10-fc31-42ec-89f8-9b4e5fa74b7f 2022-06-27 22:18:01.896264+02:00 5f2be3f5d81eaf0009520f8b PiSCES   14\n",
       "                                                                                               Radboud  15\n",
       "c30db4c2-a62a-4d69-8f1b-893a1f4b8c9d 2022-07-16 21:49:33.730743+02:00 5e360d610d43625c7da0a09d Radboud   1\n",
       "e61cd702-cd5f-4258-b4ef-57665e20803c 2022-06-29 14:23:23.366587+02:00 5b0c1fdebd9c3100015641ae PiSCES    1"
      ]
     },
     "execution_count": 17,
     "metadata": {},
     "output_type": "execute_result"
    }
   ],
   "source": [
    "df_session_tot[\n",
    "    (df_session_tot.wav_size > 400)\n",
    "    & (df_session_tot.wav_duration_s < 20)\n",
    "    & (df_session_tot.DB != \"marloes\")\n",
    "].groupby([\"ID\", \"timestamp\", \"prolific_token\", \"DB\"]).size().to_frame()\n"
   ]
  },
  {
   "cell_type": "markdown",
   "id": "9962e7d6",
   "metadata": {},
   "source": [
    "### Filtering events"
   ]
  },
  {
   "cell_type": "code",
   "execution_count": 18,
   "id": "5b649f26",
   "metadata": {},
   "outputs": [
    {
     "data": {
      "text/html": [
       "<div>\n",
       "<style scoped>\n",
       "    .dataframe tbody tr th:only-of-type {\n",
       "        vertical-align: middle;\n",
       "    }\n",
       "\n",
       "    .dataframe tbody tr th {\n",
       "        vertical-align: top;\n",
       "    }\n",
       "\n",
       "    .dataframe thead th {\n",
       "        text-align: right;\n",
       "    }\n",
       "</style>\n",
       "<table border=\"1\" class=\"dataframe\">\n",
       "  <thead>\n",
       "    <tr style=\"text-align: right;\">\n",
       "      <th></th>\n",
       "      <th>age</th>\n",
       "      <th>education</th>\n",
       "      <th>sex</th>\n",
       "      <th>timestamp</th>\n",
       "      <th>ID</th>\n",
       "      <th>Marloes</th>\n",
       "      <th>PiSCES</th>\n",
       "      <th>Radboud</th>\n",
       "      <th>device</th>\n",
       "      <th>prolific_token</th>\n",
       "      <th>pic_name</th>\n",
       "      <th>time_str</th>\n",
       "      <th>wav_size</th>\n",
       "      <th>wav_sample_rate</th>\n",
       "      <th>wav_duration_s</th>\n",
       "      <th>wav_timestamp</th>\n",
       "      <th>DB</th>\n",
       "      <th>arousal</th>\n",
       "      <th>valence</th>\n",
       "      <th>DB_no</th>\n",
       "      <th>session_no</th>\n",
       "      <th>pic_no</th>\n",
       "    </tr>\n",
       "  </thead>\n",
       "  <tbody>\n",
       "    <tr>\n",
       "      <th>1473</th>\n",
       "      <td>23</td>\n",
       "      <td>unif</td>\n",
       "      <td>male</td>\n",
       "      <td>2022-06-23 11:42:14.555429+02:00</td>\n",
       "      <td>3021f503-6e98-4c4a-8102-08ed581fa208</td>\n",
       "      <td>7</td>\n",
       "      <td>15</td>\n",
       "      <td>15</td>\n",
       "      <td>earphones</td>\n",
       "      <td>61649545e0a3638d8488f414</td>\n",
       "      <td>Picture 87</td>\n",
       "      <td>12:14:10</td>\n",
       "      <td>1015852</td>\n",
       "      <td>16000</td>\n",
       "      <td>31.74</td>\n",
       "      <td>2022-06-23 12:14:10+02:00</td>\n",
       "      <td>PiSCES</td>\n",
       "      <td>75.0</td>\n",
       "      <td>75.0</td>\n",
       "      <td>12</td>\n",
       "      <td>28</td>\n",
       "      <td>23</td>\n",
       "    </tr>\n",
       "    <tr>\n",
       "      <th>804</th>\n",
       "      <td>39</td>\n",
       "      <td>unif</td>\n",
       "      <td>female</td>\n",
       "      <td>2020-12-04 21:09:06.904945+01:00</td>\n",
       "      <td>aef8bb4e-230d-42ae-a76a-dc5b37d97ff3</td>\n",
       "      <td>7</td>\n",
       "      <td>15</td>\n",
       "      <td>15</td>\n",
       "      <td>pc-mic</td>\n",
       "      <td>NaN</td>\n",
       "      <td>Picture 81</td>\n",
       "      <td>21:57:24</td>\n",
       "      <td>5390380</td>\n",
       "      <td>44100</td>\n",
       "      <td>61.11</td>\n",
       "      <td>2020-12-04 21:57:28+01:00</td>\n",
       "      <td>PiSCES</td>\n",
       "      <td>77.0</td>\n",
       "      <td>38.0</td>\n",
       "      <td>14</td>\n",
       "      <td>33</td>\n",
       "      <td>27</td>\n",
       "    </tr>\n",
       "    <tr>\n",
       "      <th>455</th>\n",
       "      <td>33</td>\n",
       "      <td>unif</td>\n",
       "      <td>male</td>\n",
       "      <td>2020-11-29 16:26:03.291969+01:00</td>\n",
       "      <td>5ef38e39-8146-4cf5-b365-43a08eac9905</td>\n",
       "      <td>7</td>\n",
       "      <td>15</td>\n",
       "      <td>15</td>\n",
       "      <td>NaN</td>\n",
       "      <td>NaN</td>\n",
       "      <td>Rafd090_32_Caucasian_female_neutral_frontal</td>\n",
       "      <td>16:47:06</td>\n",
       "      <td>1540140</td>\n",
       "      <td>44100</td>\n",
       "      <td>17.46</td>\n",
       "      <td>2020-11-29 16:47:06+01:00</td>\n",
       "      <td>Radboud</td>\n",
       "      <td>45.0</td>\n",
       "      <td>48.0</td>\n",
       "      <td>11</td>\n",
       "      <td>27</td>\n",
       "      <td>22</td>\n",
       "    </tr>\n",
       "  </tbody>\n",
       "</table>\n",
       "</div>"
      ],
      "text/plain": [
       "      age education     sex                        timestamp  \\\n",
       "1473   23      unif    male 2022-06-23 11:42:14.555429+02:00   \n",
       "804    39      unif  female 2020-12-04 21:09:06.904945+01:00   \n",
       "455    33      unif    male 2020-11-29 16:26:03.291969+01:00   \n",
       "\n",
       "                                        ID  Marloes  PiSCES  Radboud  \\\n",
       "1473  3021f503-6e98-4c4a-8102-08ed581fa208        7      15       15   \n",
       "804   aef8bb4e-230d-42ae-a76a-dc5b37d97ff3        7      15       15   \n",
       "455   5ef38e39-8146-4cf5-b365-43a08eac9905        7      15       15   \n",
       "\n",
       "         device            prolific_token  \\\n",
       "1473  earphones  61649545e0a3638d8488f414   \n",
       "804      pc-mic                       NaN   \n",
       "455         NaN                       NaN   \n",
       "\n",
       "                                         pic_name  time_str  wav_size  \\\n",
       "1473                                   Picture 87  12:14:10   1015852   \n",
       "804                                    Picture 81  21:57:24   5390380   \n",
       "455   Rafd090_32_Caucasian_female_neutral_frontal  16:47:06   1540140   \n",
       "\n",
       "      wav_sample_rate  wav_duration_s             wav_timestamp       DB  \\\n",
       "1473            16000           31.74 2022-06-23 12:14:10+02:00   PiSCES   \n",
       "804             44100           61.11 2020-12-04 21:57:28+01:00   PiSCES   \n",
       "455             44100           17.46 2020-11-29 16:47:06+01:00  Radboud   \n",
       "\n",
       "      arousal  valence  DB_no  session_no pic_no  \n",
       "1473     75.0     75.0     12          28     23  \n",
       "804      77.0     38.0     14          33     27  \n",
       "455      45.0     48.0     11          27     22  "
      ]
     },
     "execution_count": 18,
     "metadata": {},
     "output_type": "execute_result"
    }
   ],
   "source": [
    "df_session_tot.sample(3)\n"
   ]
  },
  {
   "cell_type": "code",
   "execution_count": 19,
   "id": "146099ac",
   "metadata": {},
   "outputs": [
    {
     "data": {
      "text/plain": [
       "ID                                    pic_name                                   \n",
       "716dc108-5588-49ed-bf3c-04fb87212e2b  Picture 59                                     2\n",
       "9223720f-1a2a-4811-84a1-a421646f63a0  Picture 59                                     2\n",
       "e0c00b33-2151-4bcf-98b8-82f7701fccea  Picture 81                                     2\n",
       "                                      Rafd090_32_Caucasian_female_neutral_frontal    2\n",
       "dtype: int64"
      ]
     },
     "metadata": {},
     "output_type": "display_data"
    }
   ],
   "source": [
    "# We store the pic_count (number of times the user described the picutre) to use a a future filter\n",
    "df_session_tot[\"pic_count\"] = (\n",
    "    df_session_tot[df_session_tot.DB != \"marloes\"]\n",
    "    .groupby([\"ID\", \"pic_name\"])[\"pic_name\"]\n",
    "    .transform(\"count\")\n",
    ")\n",
    "\n",
    "out = df_session_tot[df_session_tot.DB != \"marloes\"].groupby([\"ID\", \"pic_name\"]).size()\n",
    "display(out[out > 1])\n",
    "del out\n"
   ]
  },
  {
   "cell_type": "code",
   "execution_count": 20,
   "id": "740946f2",
   "metadata": {},
   "outputs": [
    {
     "name": "stdout",
     "output_type": "stream",
     "text": [
      "(3327, 23)\n"
     ]
    },
    {
     "data": {
      "text/plain": [
       "(3194, 23)"
      ]
     },
     "metadata": {},
     "output_type": "display_data"
    }
   ],
   "source": [
    "ids_to_skip = [\n",
    "    \"a97a84b6-7a66-461f-810e-b54bac686f64\",  # Test run mitchel (a lot of short sessions)\n",
    "    \"a2dbee10-fc31-42ec-89f8-9b4e5fa74b7f\",  # Too much short sessions\n",
    "    \"87eafb16-0598-4340-9564-8e630acf85d6\",  # This prolific users does not want to be included into the data analysis\n",
    "    # TODO -> we do not need to throw thes all away; but for sake of simplicity we do now\n",
    "    # \"716dc108-5588-49ed-bf3c-04fb87212e2b\",  # Got Picture 59 twice\n",
    "    # \"9223720f-1a2a-4811-84a1-a421646f63a0\",  # Got Picture 59 twice\n",
    "    # \"e0c00b33-2151-4bcf-98b8-82f7701fccea\",  # Got Picture 81 and Rafd090_32_Caucasian_female_neutral_frontal twice\n",
    "]\n",
    "\n",
    "df_session_tot_cleaned = df_session_tot[\n",
    "    (~df_session_tot.ID.isin(ids_to_skip)) & (df_session_tot.wav_size > 400)\n",
    "].copy()\n",
    "df_session_tot_cleaned = df_session_tot_cleaned.sort_values(\n",
    "    by=[\"ID\", \"wav_timestamp\"], ignore_index=True\n",
    ")\n",
    "print(df_session_tot.shape)\n",
    "display(df_session_tot_cleaned.shape)\n"
   ]
  },
  {
   "cell_type": "code",
   "execution_count": 21,
   "id": "ba847bbb",
   "metadata": {},
   "outputs": [
    {
     "data": {
      "text/html": [
       "<div>\n",
       "<style scoped>\n",
       "    .dataframe tbody tr th:only-of-type {\n",
       "        vertical-align: middle;\n",
       "    }\n",
       "\n",
       "    .dataframe tbody tr th {\n",
       "        vertical-align: top;\n",
       "    }\n",
       "\n",
       "    .dataframe thead th {\n",
       "        text-align: right;\n",
       "    }\n",
       "</style>\n",
       "<table border=\"1\" class=\"dataframe\">\n",
       "  <thead>\n",
       "    <tr style=\"text-align: right;\">\n",
       "      <th></th>\n",
       "      <th>session_no</th>\n",
       "      <th>wav_timestamp</th>\n",
       "      <th>DB</th>\n",
       "    </tr>\n",
       "  </thead>\n",
       "  <tbody>\n",
       "    <tr>\n",
       "      <th>3084</th>\n",
       "      <td>1</td>\n",
       "      <td>2020-12-01 17:29:06+01:00</td>\n",
       "      <td>PiSCES</td>\n",
       "    </tr>\n",
       "    <tr>\n",
       "      <th>3085</th>\n",
       "      <td>2</td>\n",
       "      <td>2020-12-01 17:29:42+01:00</td>\n",
       "      <td>Radboud</td>\n",
       "    </tr>\n",
       "    <tr>\n",
       "      <th>3086</th>\n",
       "      <td>3</td>\n",
       "      <td>2020-12-01 17:30:44+01:00</td>\n",
       "      <td>PiSCES</td>\n",
       "    </tr>\n",
       "    <tr>\n",
       "      <th>3087</th>\n",
       "      <td>4</td>\n",
       "      <td>2020-12-01 17:31:22+01:00</td>\n",
       "      <td>Radboud</td>\n",
       "    </tr>\n",
       "    <tr>\n",
       "      <th>3088</th>\n",
       "      <td>5</td>\n",
       "      <td>2020-12-01 17:32:34+01:00</td>\n",
       "      <td>PiSCES</td>\n",
       "    </tr>\n",
       "    <tr>\n",
       "      <th>3089</th>\n",
       "      <td>6</td>\n",
       "      <td>2020-12-01 17:33:10+01:00</td>\n",
       "      <td>marloes</td>\n",
       "    </tr>\n",
       "    <tr>\n",
       "      <th>3090</th>\n",
       "      <td>7</td>\n",
       "      <td>2020-12-01 17:33:52+01:00</td>\n",
       "      <td>Radboud</td>\n",
       "    </tr>\n",
       "    <tr>\n",
       "      <th>3091</th>\n",
       "      <td>8</td>\n",
       "      <td>2020-12-01 17:34:44+01:00</td>\n",
       "      <td>PiSCES</td>\n",
       "    </tr>\n",
       "    <tr>\n",
       "      <th>3092</th>\n",
       "      <td>9</td>\n",
       "      <td>2020-12-01 17:36:02+01:00</td>\n",
       "      <td>Radboud</td>\n",
       "    </tr>\n",
       "    <tr>\n",
       "      <th>3093</th>\n",
       "      <td>10</td>\n",
       "      <td>2020-12-01 17:36:40+01:00</td>\n",
       "      <td>PiSCES</td>\n",
       "    </tr>\n",
       "  </tbody>\n",
       "</table>\n",
       "</div>"
      ],
      "text/plain": [
       "      session_no             wav_timestamp       DB\n",
       "3084           1 2020-12-01 17:29:06+01:00   PiSCES\n",
       "3085           2 2020-12-01 17:29:42+01:00  Radboud\n",
       "3086           3 2020-12-01 17:30:44+01:00   PiSCES\n",
       "3087           4 2020-12-01 17:31:22+01:00  Radboud\n",
       "3088           5 2020-12-01 17:32:34+01:00   PiSCES\n",
       "3089           6 2020-12-01 17:33:10+01:00  marloes\n",
       "3090           7 2020-12-01 17:33:52+01:00  Radboud\n",
       "3091           8 2020-12-01 17:34:44+01:00   PiSCES\n",
       "3092           9 2020-12-01 17:36:02+01:00  Radboud\n",
       "3093          10 2020-12-01 17:36:40+01:00   PiSCES"
      ]
     },
     "metadata": {},
     "output_type": "display_data"
    },
    {
     "data": {
      "text/html": [
       "<div>\n",
       "<style scoped>\n",
       "    .dataframe tbody tr th:only-of-type {\n",
       "        vertical-align: middle;\n",
       "    }\n",
       "\n",
       "    .dataframe tbody tr th {\n",
       "        vertical-align: top;\n",
       "    }\n",
       "\n",
       "    .dataframe thead th {\n",
       "        text-align: right;\n",
       "    }\n",
       "</style>\n",
       "<table border=\"1\" class=\"dataframe\">\n",
       "  <thead>\n",
       "    <tr style=\"text-align: right;\">\n",
       "      <th></th>\n",
       "      <th>session_no</th>\n",
       "      <th>wav_timestamp</th>\n",
       "      <th>DB</th>\n",
       "    </tr>\n",
       "  </thead>\n",
       "  <tbody>\n",
       "    <tr>\n",
       "      <th>3084</th>\n",
       "      <td>2</td>\n",
       "      <td>2020-12-01 17:29:06+01:00</td>\n",
       "      <td>PiSCES</td>\n",
       "    </tr>\n",
       "    <tr>\n",
       "      <th>3085</th>\n",
       "      <td>3</td>\n",
       "      <td>2020-12-01 17:29:42+01:00</td>\n",
       "      <td>Radboud</td>\n",
       "    </tr>\n",
       "    <tr>\n",
       "      <th>3086</th>\n",
       "      <td>4</td>\n",
       "      <td>2020-12-01 17:30:44+01:00</td>\n",
       "      <td>PiSCES</td>\n",
       "    </tr>\n",
       "    <tr>\n",
       "      <th>3087</th>\n",
       "      <td>5</td>\n",
       "      <td>2020-12-01 17:31:22+01:00</td>\n",
       "      <td>Radboud</td>\n",
       "    </tr>\n",
       "    <tr>\n",
       "      <th>3088</th>\n",
       "      <td>6</td>\n",
       "      <td>2020-12-01 17:32:34+01:00</td>\n",
       "      <td>PiSCES</td>\n",
       "    </tr>\n",
       "    <tr>\n",
       "      <th>3089</th>\n",
       "      <td>7</td>\n",
       "      <td>2020-12-01 17:33:10+01:00</td>\n",
       "      <td>marloes</td>\n",
       "    </tr>\n",
       "    <tr>\n",
       "      <th>3090</th>\n",
       "      <td>8</td>\n",
       "      <td>2020-12-01 17:33:52+01:00</td>\n",
       "      <td>Radboud</td>\n",
       "    </tr>\n",
       "    <tr>\n",
       "      <th>3091</th>\n",
       "      <td>9</td>\n",
       "      <td>2020-12-01 17:34:44+01:00</td>\n",
       "      <td>PiSCES</td>\n",
       "    </tr>\n",
       "    <tr>\n",
       "      <th>3092</th>\n",
       "      <td>10</td>\n",
       "      <td>2020-12-01 17:36:02+01:00</td>\n",
       "      <td>Radboud</td>\n",
       "    </tr>\n",
       "    <tr>\n",
       "      <th>3093</th>\n",
       "      <td>11</td>\n",
       "      <td>2020-12-01 17:36:40+01:00</td>\n",
       "      <td>PiSCES</td>\n",
       "    </tr>\n",
       "  </tbody>\n",
       "</table>\n",
       "</div>"
      ],
      "text/plain": [
       "      session_no             wav_timestamp       DB\n",
       "3084           2 2020-12-01 17:29:06+01:00   PiSCES\n",
       "3085           3 2020-12-01 17:29:42+01:00  Radboud\n",
       "3086           4 2020-12-01 17:30:44+01:00   PiSCES\n",
       "3087           5 2020-12-01 17:31:22+01:00  Radboud\n",
       "3088           6 2020-12-01 17:32:34+01:00   PiSCES\n",
       "3089           7 2020-12-01 17:33:10+01:00  marloes\n",
       "3090           8 2020-12-01 17:33:52+01:00  Radboud\n",
       "3091           9 2020-12-01 17:34:44+01:00   PiSCES\n",
       "3092          10 2020-12-01 17:36:02+01:00  Radboud\n",
       "3093          11 2020-12-01 17:36:40+01:00   PiSCES"
      ]
     },
     "metadata": {},
     "output_type": "display_data"
    }
   ],
   "source": [
    "# custom parsing\n",
    "display(\n",
    "    df_session_tot_cleaned[\n",
    "        df_session_tot_cleaned.ID == \"f57eb3a1-bc73-4fb8-9c40-8a31a6b67e34\"\n",
    "    ]\n",
    "    .sort_values(by=\"wav_timestamp\")[[\"session_no\", \"wav_timestamp\", \"DB\"]]\n",
    "    .iloc[:10]\n",
    ")\n",
    "# this user starts with pisces and has a total of 6 marloes instead of 7\n",
    "# for some reason, the first marloes was not stored -> adjust the session_no and DB_no\n",
    "df_session_tot_cleaned.loc[\n",
    "    df_session_tot_cleaned.ID == \"f57eb3a1-bc73-4fb8-9c40-8a31a6b67e34\", \"session_no\"\n",
    "] += 1\n",
    "df_session_tot_cleaned.loc[\n",
    "    (df_session_tot_cleaned.ID == (\"f57eb3a1-bc73-4fb8-9c40-8a31a6b67e34\"))\n",
    "    & (df_session_tot_cleaned.DB == \"marloes\"),\n",
    "    \"DB_no\",\n",
    "] += 1\n",
    "display(\n",
    "    df_session_tot_cleaned[\n",
    "        df_session_tot_cleaned.ID == \"f57eb3a1-bc73-4fb8-9c40-8a31a6b67e34\"\n",
    "    ]\n",
    "    .sort_values(by=\"wav_timestamp\")[[\"session_no\", \"wav_timestamp\", \"DB\"]]\n",
    "    .iloc[:10]\n",
    ")\n"
   ]
  },
  {
   "cell_type": "code",
   "execution_count": 22,
   "id": "21e58da8",
   "metadata": {},
   "outputs": [
    {
     "data": {
      "text/html": [
       "<div>\n",
       "<style scoped>\n",
       "    .dataframe tbody tr th:only-of-type {\n",
       "        vertical-align: middle;\n",
       "    }\n",
       "\n",
       "    .dataframe tbody tr th {\n",
       "        vertical-align: top;\n",
       "    }\n",
       "\n",
       "    .dataframe thead th {\n",
       "        text-align: right;\n",
       "    }\n",
       "</style>\n",
       "<table border=\"1\" class=\"dataframe\">\n",
       "  <thead>\n",
       "    <tr style=\"text-align: right;\">\n",
       "      <th></th>\n",
       "      <th></th>\n",
       "      <th></th>\n",
       "      <th>0</th>\n",
       "    </tr>\n",
       "    <tr>\n",
       "      <th>ID</th>\n",
       "      <th>timestamp</th>\n",
       "      <th>DB</th>\n",
       "      <th></th>\n",
       "    </tr>\n",
       "  </thead>\n",
       "  <tbody>\n",
       "    <tr>\n",
       "      <th>0bae55f8-2aab-4c7b-917f-7f0c3e627e5f</th>\n",
       "      <th>2020-11-27 20:02:22.592132+01:00</th>\n",
       "      <th>Radboud</th>\n",
       "      <td>2</td>\n",
       "    </tr>\n",
       "    <tr>\n",
       "      <th>29fb88a7-d9de-428b-9905-88d1f05a6154</th>\n",
       "      <th>2020-12-09 15:55:02.026184+01:00</th>\n",
       "      <th>Radboud</th>\n",
       "      <td>7</td>\n",
       "    </tr>\n",
       "    <tr>\n",
       "      <th>3bdd33ef-9671-4a3e-b152-eff41ef674e8</th>\n",
       "      <th>2020-12-01 10:39:34.523391+01:00</th>\n",
       "      <th>Radboud</th>\n",
       "      <td>1</td>\n",
       "    </tr>\n",
       "    <tr>\n",
       "      <th rowspan=\"2\" valign=\"top\">5ef38e39-8146-4cf5-b365-43a08eac9905</th>\n",
       "      <th rowspan=\"2\" valign=\"top\">2020-11-29 16:26:03.291969+01:00</th>\n",
       "      <th>PiSCES</th>\n",
       "      <td>3</td>\n",
       "    </tr>\n",
       "    <tr>\n",
       "      <th>Radboud</th>\n",
       "      <td>7</td>\n",
       "    </tr>\n",
       "    <tr>\n",
       "      <th>716dc108-5588-49ed-bf3c-04fb87212e2b</th>\n",
       "      <th>2020-11-27 12:06:42.365579+01:00</th>\n",
       "      <th>PiSCES</th>\n",
       "      <td>1</td>\n",
       "    </tr>\n",
       "    <tr>\n",
       "      <th>7e62dc42-e811-4674-ba8b-302850dd84e5</th>\n",
       "      <th>2020-11-30 13:47:57.876901+01:00</th>\n",
       "      <th>PiSCES</th>\n",
       "      <td>1</td>\n",
       "    </tr>\n",
       "    <tr>\n",
       "      <th>9a725424-aafb-4d9b-8be7-acad80a46614</th>\n",
       "      <th>2022-07-27 14:55:01.266930+02:00</th>\n",
       "      <th>Radboud</th>\n",
       "      <td>4</td>\n",
       "    </tr>\n",
       "    <tr>\n",
       "      <th>c30db4c2-a62a-4d69-8f1b-893a1f4b8c9d</th>\n",
       "      <th>2022-07-16 21:49:33.730743+02:00</th>\n",
       "      <th>Radboud</th>\n",
       "      <td>1</td>\n",
       "    </tr>\n",
       "  </tbody>\n",
       "</table>\n",
       "</div>"
      ],
      "text/plain": [
       "                                                                               0\n",
       "ID                                   timestamp                        DB        \n",
       "0bae55f8-2aab-4c7b-917f-7f0c3e627e5f 2020-11-27 20:02:22.592132+01:00 Radboud  2\n",
       "29fb88a7-d9de-428b-9905-88d1f05a6154 2020-12-09 15:55:02.026184+01:00 Radboud  7\n",
       "3bdd33ef-9671-4a3e-b152-eff41ef674e8 2020-12-01 10:39:34.523391+01:00 Radboud  1\n",
       "5ef38e39-8146-4cf5-b365-43a08eac9905 2020-11-29 16:26:03.291969+01:00 PiSCES   3\n",
       "                                                                      Radboud  7\n",
       "716dc108-5588-49ed-bf3c-04fb87212e2b 2020-11-27 12:06:42.365579+01:00 PiSCES   1\n",
       "7e62dc42-e811-4674-ba8b-302850dd84e5 2020-11-30 13:47:57.876901+01:00 PiSCES   1\n",
       "9a725424-aafb-4d9b-8be7-acad80a46614 2022-07-27 14:55:01.266930+02:00 Radboud  4\n",
       "c30db4c2-a62a-4d69-8f1b-893a1f4b8c9d 2022-07-16 21:49:33.730743+02:00 Radboud  1"
      ]
     },
     "execution_count": 22,
     "metadata": {},
     "output_type": "execute_result"
    }
   ],
   "source": [
    "df_session_tot_cleaned[\n",
    "    (df_session_tot_cleaned.wav_duration_s < 18)\n",
    "    & (df_session_tot_cleaned.DB != \"marloes\")\n",
    "].groupby([\"ID\", \"timestamp\", \"DB\"]).size().to_frame()\n"
   ]
  },
  {
   "cell_type": "code",
   "execution_count": 23,
   "id": "34e61a94",
   "metadata": {},
   "outputs": [],
   "source": [
    "df_session_tot_cleaned.to_parquet(\n",
    "    loc_data_dir.joinpath(\"df_session_tot_cleaned.parquet\")\n",
    ")\n",
    "\n",
    "df_session_tot.to_parquet(loc_data_dir.joinpath(\"df_session_tot.parquet\"))\n"
   ]
  }
 ],
 "metadata": {
  "kernelspec": {
   "display_name": "Python 3 (ipykernel)",
   "language": "python",
   "name": "python3"
  },
  "language_info": {
   "codemirror_mode": {
    "name": "ipython",
    "version": 3
   },
   "file_extension": ".py",
   "mimetype": "text/x-python",
   "name": "python",
   "nbconvert_exporter": "python",
   "pygments_lexer": "ipython3",
   "version": "3.8.13"
  },
  "vscode": {
   "interpreter": {
    "hash": "14accab11a8dde1829a82d5477aee5050c56a20d58c0fbbbf6574e6407175af4"
   }
  }
 },
 "nbformat": 4,
 "nbformat_minor": 5
}
