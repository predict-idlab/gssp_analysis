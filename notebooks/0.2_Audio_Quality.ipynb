{
 "cells": [
  {
   "cell_type": "markdown",
   "metadata": {},
   "source": [
    "TODO:\n",
    "\n",
    "- [x] Validate the duration of the audio files\n",
    "* Process the audio files and inspect for audio quality\n",
    "* Analyze duration per image"
   ]
  },
  {
   "cell_type": "code",
   "execution_count": 1,
   "metadata": {},
   "outputs": [],
   "source": [
    "%load_ext autoreload\n",
    "%autoreload 2"
   ]
  },
  {
   "cell_type": "code",
   "execution_count": 4,
   "metadata": {},
   "outputs": [],
   "source": [
    "from pathlib import Path\n",
    "import pandas as pd\n",
    "import speechmetrics as sm\n",
    "from tqdm.auto import tqdm\n",
    "import traceback\n",
    "\n",
    "import sys\n",
    "import seaborn as sn\n",
    "\n",
    "sys.path.append(\"..\")\n",
    "from sgs_utils.path_conf import (\n",
    "    speech_data_root_dir,\n",
    "    loc_data_dir,\n",
    ")\n",
    "\n",
    "speech_data_session_dir = speech_data_root_dir.joinpath('backup')\n",
    "\n",
    "pd.options.display.max_rows = None\n",
    "pd.options.display.max_columns = None"
   ]
  },
  {
   "cell_type": "code",
   "execution_count": 5,
   "metadata": {},
   "outputs": [],
   "source": [
    "df_session = pd.read_parquet(loc_data_dir.joinpath('df_session_tot_cleaned.parquet'))"
   ]
  },
  {
   "cell_type": "markdown",
   "metadata": {
    "tags": []
   },
   "source": [
    "## Extracting the metrics"
   ]
  },
  {
   "cell_type": "code",
   "execution_count": 4,
   "metadata": {},
   "outputs": [
    {
     "name": "stdout",
     "output_type": "stream",
     "text": [
      "1 Physical GPUs, 1 Logical GPUs\n",
      "WARNING:tensorflow:Layer lstm will not use cuDNN kernels since it doesn't meet the criteria. It will use a generic GPU kernel as fallback when running on GPU.\n",
      "WARNING:tensorflow:Layer lstm will not use cuDNN kernels since it doesn't meet the criteria. It will use a generic GPU kernel as fallback when running on GPU.\n",
      "WARNING:tensorflow:Layer lstm will not use cuDNN kernels since it doesn't meet the criteria. It will use a generic GPU kernel as fallback when running on GPU.\n",
      "Loaded  speechmetrics.absolute.mosnet\n",
      "Loaded  speechmetrics.absolute.srmr\n"
     ]
    }
   ],
   "source": [
    "metrics = sm.load('absolute', 5)"
   ]
  },
  {
   "cell_type": "code",
   "execution_count": 7,
   "metadata": {
    "tags": []
   },
   "outputs": [
    {
     "data": {
      "application/vnd.jupyter.widget-view+json": {
       "model_id": "46ccaaac66e746858ab222572e3cae8c",
       "version_major": 2,
       "version_minor": 0
      },
      "text/plain": [
       "  0%|          | 0/3194 [00:00<?, ?it/s]"
      ]
     },
     "metadata": {},
     "output_type": "display_data"
    },
    {
     "name": "stderr",
     "output_type": "stream",
     "text": [
      "/home/jonas/.cache/pypoetry/virtualenvs/semi-guided-speech-27YL4uf1-py3.8/lib/python3.8/site-packages/speechmetrics/absolute/srmr/srmr.py:89: RuntimeWarning: invalid value encountered in true_divide\n",
      "  AC_perc = AC_energy*100/total_energy\n",
      "Traceback (most recent call last):\n",
      "  File \"/tmp/ipykernel_44296/1292355683.py\", line 10, in <cell line: 2>\n",
      "    metric_dict = metrics(str(wav_path), rate=r.wav_sample_rate)\n",
      "  File \"/home/jonas/.cache/pypoetry/virtualenvs/semi-guided-speech-27YL4uf1-py3.8/lib/python3.8/site-packages/speechmetrics/__init__.py\", line 117, in __call__\n",
      "    result_metric = metric.test(*files, array_rate=rate)\n",
      "  File \"/home/jonas/.cache/pypoetry/virtualenvs/semi-guided-speech-27YL4uf1-py3.8/lib/python3.8/site-packages/speechmetrics/__init__.py\", line 88, in test\n",
      "    result_t = self.test_window([audio[win] for audio in audios],\n",
      "  File \"/home/jonas/.cache/pypoetry/virtualenvs/semi-guided-speech-27YL4uf1-py3.8/lib/python3.8/site-packages/speechmetrics/absolute/srmr/__init__.py\", line 14, in test_window\n",
      "    return {'srmr': srmr(audios[0], self.fixed_rate, n_cochlear_filters=23,\n",
      "  File \"/home/jonas/.cache/pypoetry/virtualenvs/semi-guided-speech-27YL4uf1-py3.8/lib/python3.8/site-packages/speechmetrics/absolute/srmr/srmr.py\", line 92, in srmr\n",
      "    K90perc_idx = np.where(AC_perc_cumsum > 90)[0][0]\n",
      "IndexError: index 0 is out of bounds for axis 0 with size 0\n",
      "Traceback (most recent call last):\n",
      "  File \"/tmp/ipykernel_44296/1292355683.py\", line 10, in <cell line: 2>\n",
      "    metric_dict = metrics(str(wav_path), rate=r.wav_sample_rate)\n",
      "  File \"/home/jonas/.cache/pypoetry/virtualenvs/semi-guided-speech-27YL4uf1-py3.8/lib/python3.8/site-packages/speechmetrics/__init__.py\", line 117, in __call__\n",
      "    result_metric = metric.test(*files, array_rate=rate)\n",
      "  File \"/home/jonas/.cache/pypoetry/virtualenvs/semi-guided-speech-27YL4uf1-py3.8/lib/python3.8/site-packages/speechmetrics/__init__.py\", line 88, in test\n",
      "    result_t = self.test_window([audio[win] for audio in audios],\n",
      "  File \"/home/jonas/.cache/pypoetry/virtualenvs/semi-guided-speech-27YL4uf1-py3.8/lib/python3.8/site-packages/speechmetrics/absolute/srmr/__init__.py\", line 14, in test_window\n",
      "    return {'srmr': srmr(audios[0], self.fixed_rate, n_cochlear_filters=23,\n",
      "  File \"/home/jonas/.cache/pypoetry/virtualenvs/semi-guided-speech-27YL4uf1-py3.8/lib/python3.8/site-packages/speechmetrics/absolute/srmr/srmr.py\", line 92, in srmr\n",
      "    K90perc_idx = np.where(AC_perc_cumsum > 90)[0][0]\n",
      "IndexError: index 0 is out of bounds for axis 0 with size 0\n",
      "Traceback (most recent call last):\n",
      "  File \"/tmp/ipykernel_44296/1292355683.py\", line 10, in <cell line: 2>\n",
      "    metric_dict = metrics(str(wav_path), rate=r.wav_sample_rate)\n",
      "  File \"/home/jonas/.cache/pypoetry/virtualenvs/semi-guided-speech-27YL4uf1-py3.8/lib/python3.8/site-packages/speechmetrics/__init__.py\", line 117, in __call__\n",
      "    result_metric = metric.test(*files, array_rate=rate)\n",
      "  File \"/home/jonas/.cache/pypoetry/virtualenvs/semi-guided-speech-27YL4uf1-py3.8/lib/python3.8/site-packages/speechmetrics/__init__.py\", line 88, in test\n",
      "    result_t = self.test_window([audio[win] for audio in audios],\n",
      "  File \"/home/jonas/.cache/pypoetry/virtualenvs/semi-guided-speech-27YL4uf1-py3.8/lib/python3.8/site-packages/speechmetrics/absolute/srmr/__init__.py\", line 14, in test_window\n",
      "    return {'srmr': srmr(audios[0], self.fixed_rate, n_cochlear_filters=23,\n",
      "  File \"/home/jonas/.cache/pypoetry/virtualenvs/semi-guided-speech-27YL4uf1-py3.8/lib/python3.8/site-packages/speechmetrics/absolute/srmr/srmr.py\", line 92, in srmr\n",
      "    K90perc_idx = np.where(AC_perc_cumsum > 90)[0][0]\n",
      "IndexError: index 0 is out of bounds for axis 0 with size 0\n",
      "Traceback (most recent call last):\n",
      "  File \"/tmp/ipykernel_44296/1292355683.py\", line 10, in <cell line: 2>\n",
      "    metric_dict = metrics(str(wav_path), rate=r.wav_sample_rate)\n",
      "  File \"/home/jonas/.cache/pypoetry/virtualenvs/semi-guided-speech-27YL4uf1-py3.8/lib/python3.8/site-packages/speechmetrics/__init__.py\", line 117, in __call__\n",
      "    result_metric = metric.test(*files, array_rate=rate)\n",
      "  File \"/home/jonas/.cache/pypoetry/virtualenvs/semi-guided-speech-27YL4uf1-py3.8/lib/python3.8/site-packages/speechmetrics/__init__.py\", line 88, in test\n",
      "    result_t = self.test_window([audio[win] for audio in audios],\n",
      "  File \"/home/jonas/.cache/pypoetry/virtualenvs/semi-guided-speech-27YL4uf1-py3.8/lib/python3.8/site-packages/speechmetrics/absolute/srmr/__init__.py\", line 14, in test_window\n",
      "    return {'srmr': srmr(audios[0], self.fixed_rate, n_cochlear_filters=23,\n",
      "  File \"/home/jonas/.cache/pypoetry/virtualenvs/semi-guided-speech-27YL4uf1-py3.8/lib/python3.8/site-packages/speechmetrics/absolute/srmr/srmr.py\", line 92, in srmr\n",
      "    K90perc_idx = np.where(AC_perc_cumsum > 90)[0][0]\n",
      "IndexError: index 0 is out of bounds for axis 0 with size 0\n",
      "Traceback (most recent call last):\n",
      "  File \"/tmp/ipykernel_44296/1292355683.py\", line 10, in <cell line: 2>\n",
      "    metric_dict = metrics(str(wav_path), rate=r.wav_sample_rate)\n",
      "  File \"/home/jonas/.cache/pypoetry/virtualenvs/semi-guided-speech-27YL4uf1-py3.8/lib/python3.8/site-packages/speechmetrics/__init__.py\", line 117, in __call__\n",
      "    result_metric = metric.test(*files, array_rate=rate)\n",
      "  File \"/home/jonas/.cache/pypoetry/virtualenvs/semi-guided-speech-27YL4uf1-py3.8/lib/python3.8/site-packages/speechmetrics/__init__.py\", line 88, in test\n",
      "    result_t = self.test_window([audio[win] for audio in audios],\n",
      "  File \"/home/jonas/.cache/pypoetry/virtualenvs/semi-guided-speech-27YL4uf1-py3.8/lib/python3.8/site-packages/speechmetrics/absolute/srmr/__init__.py\", line 14, in test_window\n",
      "    return {'srmr': srmr(audios[0], self.fixed_rate, n_cochlear_filters=23,\n",
      "  File \"/home/jonas/.cache/pypoetry/virtualenvs/semi-guided-speech-27YL4uf1-py3.8/lib/python3.8/site-packages/speechmetrics/absolute/srmr/srmr.py\", line 92, in srmr\n",
      "    K90perc_idx = np.where(AC_perc_cumsum > 90)[0][0]\n",
      "IndexError: index 0 is out of bounds for axis 0 with size 0\n"
     ]
    }
   ],
   "source": [
    "metric_list = []\n",
    "for _, r in tqdm(df_session.iterrows(), total=len(df_session)):\n",
    "    if r.wav_duration_s < 5:\n",
    "        continue\n",
    "\n",
    "    wav_path = list(\n",
    "        speech_data_session_dir.glob(f\"*{r.ID}/{r.DB}/{r.pic_name}*{r.time_str}*.wav\")\n",
    "    )[0]\n",
    "    try:\n",
    "        metric_dict = metrics(str(wav_path), rate=r.wav_sample_rate)\n",
    "\n",
    "        metric_dict = {\n",
    "            f\"{k}_{i}\": v[i] for k, v in metric_dict.items() for i in range(len(v))\n",
    "        }\n",
    "        # will be used to merge\n",
    "        metric_dict[\"ID\"] = r.ID\n",
    "        metric_dict[\"DB\"] = r.DB\n",
    "        metric_dict[\"time_str\"] = r.time_str\n",
    "\n",
    "        metric_list.append(metric_dict)\n",
    "    except KeyboardInterrupt:\n",
    "        break\n",
    "    except:\n",
    "        traceback.print_exc()\n",
    "        continue\n"
   ]
  },
  {
   "cell_type": "code",
   "execution_count": 8,
   "metadata": {},
   "outputs": [],
   "source": [
    "df_metric = pd.DataFrame(metric_list)\n",
    "# del wav_path, metric_dict, metric_list, r"
   ]
  },
  {
   "cell_type": "code",
   "execution_count": 9,
   "metadata": {},
   "outputs": [],
   "source": [
    "df_metric.to_parquet(loc_data_dir.joinpath('df_metric.parquet'))"
   ]
  },
  {
   "cell_type": "markdown",
   "metadata": {},
   "source": [
    "## Analyzing the metrics"
   ]
  },
  {
   "cell_type": "code",
   "execution_count": 10,
   "metadata": {},
   "outputs": [],
   "source": [
    "df_metric = pd.read_parquet(loc_data_dir.joinpath('df_metric.parquet'))"
   ]
  },
  {
   "cell_type": "code",
   "execution_count": 11,
   "metadata": {},
   "outputs": [],
   "source": [
    "df_metric['nb_metrics'] = df_metric.filter(like='srmr').apply(lambda x: sum(x.notna()), axis=1)"
   ]
  },
  {
   "cell_type": "code",
   "execution_count": 12,
   "metadata": {},
   "outputs": [],
   "source": [
    "df_session_metric = pd.merge(df_session, df_metric, on=['ID', 'DB', 'time_str'], how='left')"
   ]
  },
  {
   "cell_type": "code",
   "execution_count": 13,
   "metadata": {},
   "outputs": [],
   "source": [
    "df_session_metric['wav_metric_ratio'] = df_session_metric['wav_duration_s'] / df_session_metric['nb_metrics']"
   ]
  },
  {
   "cell_type": "markdown",
   "metadata": {},
   "source": [
    "It appears we have a metric each 5s of data"
   ]
  },
  {
   "cell_type": "code",
   "execution_count": 14,
   "metadata": {},
   "outputs": [
    {
     "data": {
      "text/plain": [
       "<AxesSubplot:ylabel='Frequency'>"
      ]
     },
     "execution_count": 14,
     "metadata": {},
     "output_type": "execute_result"
    },
    {
     "data": {
      "image/png": "[encoded data removed]",
      "text/plain": [
       "<Figure size 432x288 with 1 Axes>"
      ]
     },
     "metadata": {
      "needs_background": "light"
     },
     "output_type": "display_data"
    }
   ],
   "source": [
    "df_session_metric[df_session_metric.wav_duration_s > 10].wav_metric_ratio.plot.hist()"
   ]
  },
  {
   "cell_type": "code",
   "execution_count": 19,
   "metadata": {},
   "outputs": [
    {
     "data": {
      "text/plain": [
       "<AxesSubplot:ylabel='Frequency'>"
      ]
     },
     "execution_count": 19,
     "metadata": {},
     "output_type": "execute_result"
    },
    {
     "data": {
      "image/png": "[encoded data removed]",
      "text/plain": [
       "<Figure size 432x288 with 1 Axes>"
      ]
     },
     "metadata": {
      "needs_background": "light"
     },
     "output_type": "display_data"
    }
   ],
   "source": [
    "df_session_metric[(df_session_metric.wav_duration_s > 5) & (df_session_metric.wav_duration_s < 9.9)].nb_metrics.plot.hist()"
   ]
  },
  {
   "cell_type": "code",
   "execution_count": 28,
   "metadata": {},
   "outputs": [
    {
     "data": {
      "text/plain": [
       "<AxesSubplot:ylabel='Frequency'>"
      ]
     },
     "execution_count": 28,
     "metadata": {},
     "output_type": "execute_result"
    },
    {
     "data": {
      "image/png": "[encoded data removed]",
      "text/plain": [
       "<Figure size 432x288 with 1 Axes>"
      ]
     },
     "metadata": {
      "needs_background": "light"
     },
     "output_type": "display_data"
    }
   ],
   "source": [
    "df_session_metric[(df_session_metric.wav_duration_s > 10) & (df_session_metric.wav_duration_s < )].nb_metrics.plot.hist()"
   ]
  },
  {
   "cell_type": "markdown",
   "metadata": {
    "tags": []
   },
   "source": [
    "### mosnet"
   ]
  },
  {
   "cell_type": "code",
   "execution_count": 29,
   "metadata": {},
   "outputs": [
    {
     "data": {
      "text/plain": [
       "<AxesSubplot:ylabel='Density'>"
      ]
     },
     "execution_count": 29,
     "metadata": {},
     "output_type": "execute_result"
    },
    {
     "data": {
      "image/png": "[encoded data removed]",
      "text/plain": [
       "<Figure size 432x288 with 1 Axes>"
      ]
     },
     "metadata": {
      "needs_background": "light"
     },
     "output_type": "display_data"
    }
   ],
   "source": [
    "sn.kdeplot(df_metric.filter(like='mosnet').values.ravel())"
   ]
  },
  {
   "cell_type": "code",
   "execution_count": 30,
   "metadata": {},
   "outputs": [
    {
     "data": {
      "text/plain": [
       "<AxesSubplot:ylabel='Density'>"
      ]
     },
     "execution_count": 30,
     "metadata": {},
     "output_type": "execute_result"
    },
    {
     "data": {
      "image/png": "[encoded data removed]",
      "text/plain": [
       "<Figure size 432x288 with 1 Axes>"
      ]
     },
     "metadata": {
      "needs_background": "light"
     },
     "output_type": "display_data"
    }
   ],
   "source": [
    "df_metric.filter(like='mosnet').mean(axis=1).plot.kde()"
   ]
  },
  {
   "cell_type": "code",
   "execution_count": 31,
   "metadata": {},
   "outputs": [
    {
     "data": {
      "text/plain": [
       "<AxesSubplot:ylabel='Density'>"
      ]
     },
     "execution_count": 31,
     "metadata": {},
     "output_type": "execute_result"
    },
    {
     "data": {
      "image/png": "[encoded data removed]",
      "text/plain": [
       "<Figure size 432x288 with 1 Axes>"
      ]
     },
     "metadata": {
      "needs_background": "light"
     },
     "output_type": "display_data"
    }
   ],
   "source": [
    "sn.kdeplot(df_metric.filter(like='mosnet').median(axis=1))"
   ]
  },
  {
   "cell_type": "code",
   "execution_count": 32,
   "metadata": {},
   "outputs": [
    {
     "data": {
      "text/plain": [
       "<AxesSubplot:ylabel='Density'>"
      ]
     },
     "execution_count": 32,
     "metadata": {},
     "output_type": "execute_result"
    },
    {
     "data": {
      "image/png": "[encoded data removed]",
      "text/plain": [
       "<Figure size 432x288 with 1 Axes>"
      ]
     },
     "metadata": {
      "needs_background": "light"
     },
     "output_type": "display_data"
    }
   ],
   "source": [
    "sn.kdeplot(df_metric.filter(like='mosnet').std(axis=1))"
   ]
  },
  {
   "cell_type": "markdown",
   "metadata": {
    "tags": []
   },
   "source": [
    "### srmr"
   ]
  },
  {
   "cell_type": "code",
   "execution_count": 33,
   "metadata": {},
   "outputs": [
    {
     "data": {
      "text/plain": [
       "<AxesSubplot:ylabel='Density'>"
      ]
     },
     "execution_count": 33,
     "metadata": {},
     "output_type": "execute_result"
    },
    {
     "data": {
      "image/png": "[encoded data removed]",
      "text/plain": [
       "<Figure size 432x288 with 1 Axes>"
      ]
     },
     "metadata": {
      "needs_background": "light"
     },
     "output_type": "display_data"
    }
   ],
   "source": [
    "sn.kdeplot(df_metric.filter(like='srmr').min(axis=1))"
   ]
  },
  {
   "cell_type": "code",
   "execution_count": 34,
   "metadata": {},
   "outputs": [
    {
     "data": {
      "text/plain": [
       "<AxesSubplot:ylabel='Density'>"
      ]
     },
     "execution_count": 34,
     "metadata": {},
     "output_type": "execute_result"
    },
    {
     "data": {
      "image/png": "[encoded data removed]",
      "text/plain": [
       "<Figure size 432x288 with 1 Axes>"
      ]
     },
     "metadata": {
      "needs_background": "light"
     },
     "output_type": "display_data"
    }
   ],
   "source": [
    "sn.kdeplot(df_metric[df_metric.filter(like='srmr').max(axis=1) < 25].filter(like='srmr').max(axis=1))"
   ]
  },
  {
   "cell_type": "code",
   "execution_count": 35,
   "metadata": {},
   "outputs": [
    {
     "data": {
      "text/plain": [
       "<AxesSubplot:ylabel='Density'>"
      ]
     },
     "execution_count": 35,
     "metadata": {},
     "output_type": "execute_result"
    },
    {
     "data": {
      "image/png": "[encoded data removed]",
      "text/plain": [
       "<Figure size 432x288 with 1 Axes>"
      ]
     },
     "metadata": {
      "needs_background": "light"
     },
     "output_type": "display_data"
    }
   ],
   "source": [
    "sn.kdeplot(df_metric.filter(like='srmr').median(axis=1))"
   ]
  },
  {
   "cell_type": "markdown",
   "metadata": {},
   "source": [
    "## Filtering df session metric"
   ]
  },
  {
   "cell_type": "code",
   "execution_count": 36,
   "metadata": {},
   "outputs": [
    {
     "data": {
      "text/html": [
       "<div>\n",
       "<style scoped>\n",
       "    .dataframe tbody tr th:only-of-type {\n",
       "        vertical-align: middle;\n",
       "    }\n",
       "\n",
       "    .dataframe tbody tr th {\n",
       "        vertical-align: top;\n",
       "    }\n",
       "\n",
       "    .dataframe thead th {\n",
       "        text-align: right;\n",
       "    }\n",
       "</style>\n",
       "<table border=\"1\" class=\"dataframe\">\n",
       "  <thead>\n",
       "    <tr style=\"text-align: right;\">\n",
       "      <th></th>\n",
       "      <th>ID</th>\n",
       "      <th>timestamp</th>\n",
       "      <th>DB</th>\n",
       "      <th>pic_name</th>\n",
       "      <th>time_str</th>\n",
       "    </tr>\n",
       "  </thead>\n",
       "  <tbody>\n",
       "    <tr>\n",
       "      <th>2731</th>\n",
       "      <td>d7fbc4b9-5f94-4639-b82b-6b1592b2ad3a</td>\n",
       "      <td>2022-06-29 19:34:02.048344+02:00</td>\n",
       "      <td>PiSCES</td>\n",
       "      <td>Picture 80</td>\n",
       "      <td>19:57:47</td>\n",
       "    </tr>\n",
       "  </tbody>\n",
       "</table>\n",
       "</div>"
      ],
      "text/plain": [
       "                                        ID                        timestamp  \\\n",
       "2731  d7fbc4b9-5f94-4639-b82b-6b1592b2ad3a 2022-06-29 19:34:02.048344+02:00   \n",
       "\n",
       "          DB    pic_name  time_str  \n",
       "2731  PiSCES  Picture 80  19:57:47  "
      ]
     },
     "execution_count": 36,
     "metadata": {},
     "output_type": "execute_result"
    }
   ],
   "source": [
    "df_session_metric[\n",
    "    # (df_session_metric.wav_duration_s > 8) &\n",
    "    (df_session_metric.filter(like='mosnet').min(axis=1) < 1.5) \n",
    " & ~(df_session_metric.filter(like='mosnet').mean(axis=1) < 2)\n",
    "][['ID', 'timestamp', 'DB', 'pic_name', 'time_str']]"
   ]
  },
  {
   "cell_type": "code",
   "execution_count": 37,
   "metadata": {},
   "outputs": [
    {
     "data": {
      "text/plain": [
       "<AxesSubplot:>"
      ]
     },
     "execution_count": 37,
     "metadata": {},
     "output_type": "execute_result"
    },
    {
     "data": {
      "image/png": "[encoded data removed]",
      "text/plain": [
       "<Figure size 432x288 with 1 Axes>"
      ]
     },
     "metadata": {
      "needs_background": "light"
     },
     "output_type": "display_data"
    }
   ],
   "source": [
    "# a lot of silent / no audio sessions\n",
    "df_session_metric[df_session_metric.ID == '42c842a5-7051-44c3-af42-cf824fded959'].filter(like='srmr').median(axis=1).hist(bins=80)"
   ]
  },
  {
   "cell_type": "code",
   "execution_count": 44,
   "metadata": {},
   "outputs": [],
   "source": [
    "valid_mask = (\n",
    "    (df_session_metric.wav_duration_s > 15) &\n",
    "    # totally silent; no speech at all\n",
    "    # (df_session_metric.filter(like='srmr').quantile(q=0.85, axis=1) > 40)\n",
    "    # (df_session_metric.filter(like='srmr').apply(lambda x: x[x.notna()][1:-1].mean(), axis=1) > 18)\n",
    "    # determined heuristically -> seemed like a good estimate\n",
    "    ~((df_session_metric.filter(like='mosnet').mean(axis=1) < 2)\n",
    "    | (df_session_metric.filter(like='mosnet').min(axis=1) < 1.5) \n",
    "    | (df_session_metric.filter(like='srmr').median(axis=1) < 0.5) \n",
    "    )\n",
    ")"
   ]
  },
  {
   "cell_type": "code",
   "execution_count": 47,
   "metadata": {},
   "outputs": [
    {
     "data": {
      "text/html": [
       "<div>\n",
       "<style scoped>\n",
       "    .dataframe tbody tr th:only-of-type {\n",
       "        vertical-align: middle;\n",
       "    }\n",
       "\n",
       "    .dataframe tbody tr th {\n",
       "        vertical-align: top;\n",
       "    }\n",
       "\n",
       "    .dataframe thead th {\n",
       "        text-align: right;\n",
       "    }\n",
       "</style>\n",
       "<table border=\"1\" class=\"dataframe\">\n",
       "  <thead>\n",
       "    <tr style=\"text-align: right;\">\n",
       "      <th></th>\n",
       "      <th>ID</th>\n",
       "      <th>timestamp</th>\n",
       "      <th>DB</th>\n",
       "      <th>pic_name</th>\n",
       "      <th>wav_duration_s</th>\n",
       "      <th>time_str</th>\n",
       "    </tr>\n",
       "  </thead>\n",
       "  <tbody>\n",
       "    <tr>\n",
       "      <th>74</th>\n",
       "      <td>0c28e160-d7bb-4b17-829c-c9ebc7ad0a1f</td>\n",
       "      <td>2022-06-27 22:01:48.323990+02:00</td>\n",
       "      <td>PiSCES</td>\n",
       "      <td>Picture 81</td>\n",
       "      <td>91.05</td>\n",
       "      <td>22:13:27</td>\n",
       "    </tr>\n",
       "    <tr>\n",
       "      <th>75</th>\n",
       "      <td>0c28e160-d7bb-4b17-829c-c9ebc7ad0a1f</td>\n",
       "      <td>2022-06-27 22:01:48.323990+02:00</td>\n",
       "      <td>Radboud</td>\n",
       "      <td>Rafd090_58_Caucasian_female_neutral_frontal</td>\n",
       "      <td>67.24</td>\n",
       "      <td>22:14:45</td>\n",
       "    </tr>\n",
       "    <tr>\n",
       "      <th>77</th>\n",
       "      <td>0c28e160-d7bb-4b17-829c-c9ebc7ad0a1f</td>\n",
       "      <td>2022-06-27 22:01:48.323990+02:00</td>\n",
       "      <td>Radboud</td>\n",
       "      <td>Rafd090_04_Caucasian_female_neutral_frontal</td>\n",
       "      <td>70.49</td>\n",
       "      <td>22:17:13</td>\n",
       "    </tr>\n",
       "    <tr>\n",
       "      <th>81</th>\n",
       "      <td>0c28e160-d7bb-4b17-829c-c9ebc7ad0a1f</td>\n",
       "      <td>2022-06-27 22:01:48.323990+02:00</td>\n",
       "      <td>PiSCES</td>\n",
       "      <td>Picture 105</td>\n",
       "      <td>54.10</td>\n",
       "      <td>22:21:22</td>\n",
       "    </tr>\n",
       "    <tr>\n",
       "      <th>845</th>\n",
       "      <td>42c842a5-7051-44c3-af42-cf824fded959</td>\n",
       "      <td>2022-06-29 14:11:06.409834+02:00</td>\n",
       "      <td>Radboud</td>\n",
       "      <td>Rafd090_46_Caucasian_male_neutral_frontal</td>\n",
       "      <td>59.05</td>\n",
       "      <td>14:22:30</td>\n",
       "    </tr>\n",
       "    <tr>\n",
       "      <th>848</th>\n",
       "      <td>42c842a5-7051-44c3-af42-cf824fded959</td>\n",
       "      <td>2022-06-29 14:11:06.409834+02:00</td>\n",
       "      <td>PiSCES</td>\n",
       "      <td>Picture 93</td>\n",
       "      <td>83.20</td>\n",
       "      <td>14:26:44</td>\n",
       "    </tr>\n",
       "    <tr>\n",
       "      <th>849</th>\n",
       "      <td>42c842a5-7051-44c3-af42-cf824fded959</td>\n",
       "      <td>2022-06-29 14:11:06.409834+02:00</td>\n",
       "      <td>marloes</td>\n",
       "      <td>marloes</td>\n",
       "      <td>25.94</td>\n",
       "      <td>14:27:22</td>\n",
       "    </tr>\n",
       "    <tr>\n",
       "      <th>850</th>\n",
       "      <td>42c842a5-7051-44c3-af42-cf824fded959</td>\n",
       "      <td>2022-06-29 14:11:06.409834+02:00</td>\n",
       "      <td>Radboud</td>\n",
       "      <td>Rafd090_24_Caucasian_male_neutral_frontal</td>\n",
       "      <td>58.62</td>\n",
       "      <td>14:28:30</td>\n",
       "    </tr>\n",
       "    <tr>\n",
       "      <th>851</th>\n",
       "      <td>42c842a5-7051-44c3-af42-cf824fded959</td>\n",
       "      <td>2022-06-29 14:11:06.409834+02:00</td>\n",
       "      <td>PiSCES</td>\n",
       "      <td>Picture 56</td>\n",
       "      <td>95.32</td>\n",
       "      <td>14:30:13</td>\n",
       "    </tr>\n",
       "    <tr>\n",
       "      <th>852</th>\n",
       "      <td>42c842a5-7051-44c3-af42-cf824fded959</td>\n",
       "      <td>2022-06-29 14:11:06.409834+02:00</td>\n",
       "      <td>Radboud</td>\n",
       "      <td>Rafd090_05_Caucasian_male_neutral_frontal</td>\n",
       "      <td>49.83</td>\n",
       "      <td>14:31:12</td>\n",
       "    </tr>\n",
       "    <tr>\n",
       "      <th>853</th>\n",
       "      <td>42c842a5-7051-44c3-af42-cf824fded959</td>\n",
       "      <td>2022-06-29 14:11:06.409834+02:00</td>\n",
       "      <td>PiSCES</td>\n",
       "      <td>Picture 65</td>\n",
       "      <td>67.16</td>\n",
       "      <td>14:32:29</td>\n",
       "    </tr>\n",
       "    <tr>\n",
       "      <th>854</th>\n",
       "      <td>42c842a5-7051-44c3-af42-cf824fded959</td>\n",
       "      <td>2022-06-29 14:11:06.409834+02:00</td>\n",
       "      <td>Radboud</td>\n",
       "      <td>Rafd090_57_Caucasian_female_neutral_frontal</td>\n",
       "      <td>75.18</td>\n",
       "      <td>14:34:01</td>\n",
       "    </tr>\n",
       "    <tr>\n",
       "      <th>855</th>\n",
       "      <td>42c842a5-7051-44c3-af42-cf824fded959</td>\n",
       "      <td>2022-06-29 14:11:06.409834+02:00</td>\n",
       "      <td>marloes</td>\n",
       "      <td>marloes</td>\n",
       "      <td>25.94</td>\n",
       "      <td>14:34:34</td>\n",
       "    </tr>\n",
       "    <tr>\n",
       "      <th>856</th>\n",
       "      <td>42c842a5-7051-44c3-af42-cf824fded959</td>\n",
       "      <td>2022-06-29 14:11:06.409834+02:00</td>\n",
       "      <td>PiSCES</td>\n",
       "      <td>Picture 110</td>\n",
       "      <td>63.57</td>\n",
       "      <td>14:35:48</td>\n",
       "    </tr>\n",
       "    <tr>\n",
       "      <th>857</th>\n",
       "      <td>42c842a5-7051-44c3-af42-cf824fded959</td>\n",
       "      <td>2022-06-29 14:11:06.409834+02:00</td>\n",
       "      <td>Radboud</td>\n",
       "      <td>Rafd090_04_Caucasian_female_neutral_frontal</td>\n",
       "      <td>53.42</td>\n",
       "      <td>14:36:50</td>\n",
       "    </tr>\n",
       "    <tr>\n",
       "      <th>858</th>\n",
       "      <td>42c842a5-7051-44c3-af42-cf824fded959</td>\n",
       "      <td>2022-06-29 14:11:06.409834+02:00</td>\n",
       "      <td>PiSCES</td>\n",
       "      <td>Picture 88</td>\n",
       "      <td>66.99</td>\n",
       "      <td>14:38:09</td>\n",
       "    </tr>\n",
       "    <tr>\n",
       "      <th>859</th>\n",
       "      <td>42c842a5-7051-44c3-af42-cf824fded959</td>\n",
       "      <td>2022-06-29 14:11:06.409834+02:00</td>\n",
       "      <td>Radboud</td>\n",
       "      <td>Rafd090_27_Caucasian_female_neutral_frontal</td>\n",
       "      <td>58.37</td>\n",
       "      <td>14:39:18</td>\n",
       "    </tr>\n",
       "    <tr>\n",
       "      <th>860</th>\n",
       "      <td>42c842a5-7051-44c3-af42-cf824fded959</td>\n",
       "      <td>2022-06-29 14:11:06.409834+02:00</td>\n",
       "      <td>PiSCES</td>\n",
       "      <td>Picture 87</td>\n",
       "      <td>67.84</td>\n",
       "      <td>14:40:32</td>\n",
       "    </tr>\n",
       "    <tr>\n",
       "      <th>861</th>\n",
       "      <td>42c842a5-7051-44c3-af42-cf824fded959</td>\n",
       "      <td>2022-06-29 14:11:06.409834+02:00</td>\n",
       "      <td>marloes</td>\n",
       "      <td>marloes</td>\n",
       "      <td>25.09</td>\n",
       "      <td>14:41:02</td>\n",
       "    </tr>\n",
       "    <tr>\n",
       "      <th>862</th>\n",
       "      <td>42c842a5-7051-44c3-af42-cf824fded959</td>\n",
       "      <td>2022-06-29 14:11:06.409834+02:00</td>\n",
       "      <td>Radboud</td>\n",
       "      <td>Rafd090_01_Caucasian_female_neutral_frontal</td>\n",
       "      <td>61.61</td>\n",
       "      <td>14:42:20</td>\n",
       "    </tr>\n",
       "    <tr>\n",
       "      <th>863</th>\n",
       "      <td>42c842a5-7051-44c3-af42-cf824fded959</td>\n",
       "      <td>2022-06-29 14:11:06.409834+02:00</td>\n",
       "      <td>PiSCES</td>\n",
       "      <td>Picture 82</td>\n",
       "      <td>105.39</td>\n",
       "      <td>14:44:14</td>\n",
       "    </tr>\n",
       "    <tr>\n",
       "      <th>864</th>\n",
       "      <td>42c842a5-7051-44c3-af42-cf824fded959</td>\n",
       "      <td>2022-06-29 14:11:06.409834+02:00</td>\n",
       "      <td>Radboud</td>\n",
       "      <td>Rafd090_02_Caucasian_female_neutral_frontal</td>\n",
       "      <td>45.91</td>\n",
       "      <td>14:45:05</td>\n",
       "    </tr>\n",
       "    <tr>\n",
       "      <th>865</th>\n",
       "      <td>42c842a5-7051-44c3-af42-cf824fded959</td>\n",
       "      <td>2022-06-29 14:11:06.409834+02:00</td>\n",
       "      <td>PiSCES</td>\n",
       "      <td>Picture 96</td>\n",
       "      <td>71.68</td>\n",
       "      <td>14:46:53</td>\n",
       "    </tr>\n",
       "    <tr>\n",
       "      <th>866</th>\n",
       "      <td>42c842a5-7051-44c3-af42-cf824fded959</td>\n",
       "      <td>2022-06-29 14:11:06.409834+02:00</td>\n",
       "      <td>Radboud</td>\n",
       "      <td>Rafd090_47_Caucasian_male_neutral_frontal</td>\n",
       "      <td>50.69</td>\n",
       "      <td>14:47:57</td>\n",
       "    </tr>\n",
       "    <tr>\n",
       "      <th>867</th>\n",
       "      <td>42c842a5-7051-44c3-af42-cf824fded959</td>\n",
       "      <td>2022-06-29 14:11:06.409834+02:00</td>\n",
       "      <td>marloes</td>\n",
       "      <td>marloes</td>\n",
       "      <td>25.17</td>\n",
       "      <td>14:48:31</td>\n",
       "    </tr>\n",
       "    <tr>\n",
       "      <th>868</th>\n",
       "      <td>42c842a5-7051-44c3-af42-cf824fded959</td>\n",
       "      <td>2022-06-29 14:11:06.409834+02:00</td>\n",
       "      <td>PiSCES</td>\n",
       "      <td>Picture 80</td>\n",
       "      <td>71.59</td>\n",
       "      <td>14:49:54</td>\n",
       "    </tr>\n",
       "    <tr>\n",
       "      <th>869</th>\n",
       "      <td>42c842a5-7051-44c3-af42-cf824fded959</td>\n",
       "      <td>2022-06-29 14:11:06.409834+02:00</td>\n",
       "      <td>Radboud</td>\n",
       "      <td>Rafd090_36_Caucasian_male_neutral_frontal</td>\n",
       "      <td>49.75</td>\n",
       "      <td>14:50:53</td>\n",
       "    </tr>\n",
       "    <tr>\n",
       "      <th>870</th>\n",
       "      <td>42c842a5-7051-44c3-af42-cf824fded959</td>\n",
       "      <td>2022-06-29 14:11:06.409834+02:00</td>\n",
       "      <td>PiSCES</td>\n",
       "      <td>Picture 59</td>\n",
       "      <td>69.29</td>\n",
       "      <td>14:52:13</td>\n",
       "    </tr>\n",
       "    <tr>\n",
       "      <th>871</th>\n",
       "      <td>42c842a5-7051-44c3-af42-cf824fded959</td>\n",
       "      <td>2022-06-29 14:11:06.409834+02:00</td>\n",
       "      <td>Radboud</td>\n",
       "      <td>Rafd090_61_Caucasian_female_neutral_frontal</td>\n",
       "      <td>60.93</td>\n",
       "      <td>14:53:26</td>\n",
       "    </tr>\n",
       "    <tr>\n",
       "      <th>872</th>\n",
       "      <td>42c842a5-7051-44c3-af42-cf824fded959</td>\n",
       "      <td>2022-06-29 14:11:06.409834+02:00</td>\n",
       "      <td>PiSCES</td>\n",
       "      <td>Picture 98</td>\n",
       "      <td>75.52</td>\n",
       "      <td>14:54:49</td>\n",
       "    </tr>\n",
       "    <tr>\n",
       "      <th>873</th>\n",
       "      <td>42c842a5-7051-44c3-af42-cf824fded959</td>\n",
       "      <td>2022-06-29 14:11:06.409834+02:00</td>\n",
       "      <td>marloes</td>\n",
       "      <td>marloes</td>\n",
       "      <td>25.17</td>\n",
       "      <td>14:55:21</td>\n",
       "    </tr>\n",
       "    <tr>\n",
       "      <th>874</th>\n",
       "      <td>42c842a5-7051-44c3-af42-cf824fded959</td>\n",
       "      <td>2022-06-29 14:11:06.409834+02:00</td>\n",
       "      <td>Radboud</td>\n",
       "      <td>Rafd090_58_Caucasian_female_neutral_frontal</td>\n",
       "      <td>93.10</td>\n",
       "      <td>14:57:31</td>\n",
       "    </tr>\n",
       "    <tr>\n",
       "      <th>875</th>\n",
       "      <td>42c842a5-7051-44c3-af42-cf824fded959</td>\n",
       "      <td>2022-06-29 14:11:06.409834+02:00</td>\n",
       "      <td>PiSCES</td>\n",
       "      <td>Picture 132</td>\n",
       "      <td>101.55</td>\n",
       "      <td>14:59:19</td>\n",
       "    </tr>\n",
       "    <tr>\n",
       "      <th>876</th>\n",
       "      <td>42c842a5-7051-44c3-af42-cf824fded959</td>\n",
       "      <td>2022-06-29 14:11:06.409834+02:00</td>\n",
       "      <td>Radboud</td>\n",
       "      <td>Rafd090_49_Caucasian_male_neutral_frontal</td>\n",
       "      <td>66.82</td>\n",
       "      <td>15:01:19</td>\n",
       "    </tr>\n",
       "    <tr>\n",
       "      <th>877</th>\n",
       "      <td>42c842a5-7051-44c3-af42-cf824fded959</td>\n",
       "      <td>2022-06-29 14:11:06.409834+02:00</td>\n",
       "      <td>PiSCES</td>\n",
       "      <td>Picture 105</td>\n",
       "      <td>72.19</td>\n",
       "      <td>15:02:40</td>\n",
       "    </tr>\n",
       "    <tr>\n",
       "      <th>878</th>\n",
       "      <td>42c842a5-7051-44c3-af42-cf824fded959</td>\n",
       "      <td>2022-06-29 14:11:06.409834+02:00</td>\n",
       "      <td>Radboud</td>\n",
       "      <td>Rafd090_33_Caucasian_male_neutral_frontal</td>\n",
       "      <td>76.20</td>\n",
       "      <td>15:04:04</td>\n",
       "    </tr>\n",
       "    <tr>\n",
       "      <th>879</th>\n",
       "      <td>42c842a5-7051-44c3-af42-cf824fded959</td>\n",
       "      <td>2022-06-29 14:11:06.409834+02:00</td>\n",
       "      <td>marloes</td>\n",
       "      <td>marloes</td>\n",
       "      <td>23.72</td>\n",
       "      <td>15:04:34</td>\n",
       "    </tr>\n",
       "    <tr>\n",
       "      <th>2728</th>\n",
       "      <td>d7fbc4b9-5f94-4639-b82b-6b1592b2ad3a</td>\n",
       "      <td>2022-06-29 19:34:02.048344+02:00</td>\n",
       "      <td>Radboud</td>\n",
       "      <td>Rafd090_61_Caucasian_female_neutral_frontal</td>\n",
       "      <td>41.98</td>\n",
       "      <td>19:54:55</td>\n",
       "    </tr>\n",
       "    <tr>\n",
       "      <th>2729</th>\n",
       "      <td>d7fbc4b9-5f94-4639-b82b-6b1592b2ad3a</td>\n",
       "      <td>2022-06-29 19:34:02.048344+02:00</td>\n",
       "      <td>PiSCES</td>\n",
       "      <td>Picture 110</td>\n",
       "      <td>41.47</td>\n",
       "      <td>19:55:44</td>\n",
       "    </tr>\n",
       "    <tr>\n",
       "      <th>2730</th>\n",
       "      <td>d7fbc4b9-5f94-4639-b82b-6b1592b2ad3a</td>\n",
       "      <td>2022-06-29 19:34:02.048344+02:00</td>\n",
       "      <td>Radboud</td>\n",
       "      <td>Rafd090_58_Caucasian_female_neutral_frontal</td>\n",
       "      <td>45.74</td>\n",
       "      <td>19:56:41</td>\n",
       "    </tr>\n",
       "    <tr>\n",
       "      <th>2731</th>\n",
       "      <td>d7fbc4b9-5f94-4639-b82b-6b1592b2ad3a</td>\n",
       "      <td>2022-06-29 19:34:02.048344+02:00</td>\n",
       "      <td>PiSCES</td>\n",
       "      <td>Picture 80</td>\n",
       "      <td>59.39</td>\n",
       "      <td>19:57:47</td>\n",
       "    </tr>\n",
       "    <tr>\n",
       "      <th>2732</th>\n",
       "      <td>d7fbc4b9-5f94-4639-b82b-6b1592b2ad3a</td>\n",
       "      <td>2022-06-29 19:34:02.048344+02:00</td>\n",
       "      <td>marloes</td>\n",
       "      <td>marloes</td>\n",
       "      <td>20.65</td>\n",
       "      <td>19:58:16</td>\n",
       "    </tr>\n",
       "    <tr>\n",
       "      <th>2733</th>\n",
       "      <td>d7fbc4b9-5f94-4639-b82b-6b1592b2ad3a</td>\n",
       "      <td>2022-06-29 19:34:02.048344+02:00</td>\n",
       "      <td>Radboud</td>\n",
       "      <td>Rafd090_24_Caucasian_male_neutral_frontal</td>\n",
       "      <td>49.49</td>\n",
       "      <td>19:59:13</td>\n",
       "    </tr>\n",
       "    <tr>\n",
       "      <th>2734</th>\n",
       "      <td>d7fbc4b9-5f94-4639-b82b-6b1592b2ad3a</td>\n",
       "      <td>2022-06-29 19:34:02.048344+02:00</td>\n",
       "      <td>PiSCES</td>\n",
       "      <td>Picture 82</td>\n",
       "      <td>60.33</td>\n",
       "      <td>20:00:21</td>\n",
       "    </tr>\n",
       "    <tr>\n",
       "      <th>2735</th>\n",
       "      <td>d7fbc4b9-5f94-4639-b82b-6b1592b2ad3a</td>\n",
       "      <td>2022-06-29 19:34:02.048344+02:00</td>\n",
       "      <td>Radboud</td>\n",
       "      <td>Rafd090_36_Caucasian_male_neutral_frontal</td>\n",
       "      <td>36.10</td>\n",
       "      <td>20:01:12</td>\n",
       "    </tr>\n",
       "  </tbody>\n",
       "</table>\n",
       "</div>"
      ],
      "text/plain": [
       "                                        ID                        timestamp  \\\n",
       "74    0c28e160-d7bb-4b17-829c-c9ebc7ad0a1f 2022-06-27 22:01:48.323990+02:00   \n",
       "75    0c28e160-d7bb-4b17-829c-c9ebc7ad0a1f 2022-06-27 22:01:48.323990+02:00   \n",
       "77    0c28e160-d7bb-4b17-829c-c9ebc7ad0a1f 2022-06-27 22:01:48.323990+02:00   \n",
       "81    0c28e160-d7bb-4b17-829c-c9ebc7ad0a1f 2022-06-27 22:01:48.323990+02:00   \n",
       "845   42c842a5-7051-44c3-af42-cf824fded959 2022-06-29 14:11:06.409834+02:00   \n",
       "848   42c842a5-7051-44c3-af42-cf824fded959 2022-06-29 14:11:06.409834+02:00   \n",
       "849   42c842a5-7051-44c3-af42-cf824fded959 2022-06-29 14:11:06.409834+02:00   \n",
       "850   42c842a5-7051-44c3-af42-cf824fded959 2022-06-29 14:11:06.409834+02:00   \n",
       "851   42c842a5-7051-44c3-af42-cf824fded959 2022-06-29 14:11:06.409834+02:00   \n",
       "852   42c842a5-7051-44c3-af42-cf824fded959 2022-06-29 14:11:06.409834+02:00   \n",
       "853   42c842a5-7051-44c3-af42-cf824fded959 2022-06-29 14:11:06.409834+02:00   \n",
       "854   42c842a5-7051-44c3-af42-cf824fded959 2022-06-29 14:11:06.409834+02:00   \n",
       "855   42c842a5-7051-44c3-af42-cf824fded959 2022-06-29 14:11:06.409834+02:00   \n",
       "856   42c842a5-7051-44c3-af42-cf824fded959 2022-06-29 14:11:06.409834+02:00   \n",
       "857   42c842a5-7051-44c3-af42-cf824fded959 2022-06-29 14:11:06.409834+02:00   \n",
       "858   42c842a5-7051-44c3-af42-cf824fded959 2022-06-29 14:11:06.409834+02:00   \n",
       "859   42c842a5-7051-44c3-af42-cf824fded959 2022-06-29 14:11:06.409834+02:00   \n",
       "860   42c842a5-7051-44c3-af42-cf824fded959 2022-06-29 14:11:06.409834+02:00   \n",
       "861   42c842a5-7051-44c3-af42-cf824fded959 2022-06-29 14:11:06.409834+02:00   \n",
       "862   42c842a5-7051-44c3-af42-cf824fded959 2022-06-29 14:11:06.409834+02:00   \n",
       "863   42c842a5-7051-44c3-af42-cf824fded959 2022-06-29 14:11:06.409834+02:00   \n",
       "864   42c842a5-7051-44c3-af42-cf824fded959 2022-06-29 14:11:06.409834+02:00   \n",
       "865   42c842a5-7051-44c3-af42-cf824fded959 2022-06-29 14:11:06.409834+02:00   \n",
       "866   42c842a5-7051-44c3-af42-cf824fded959 2022-06-29 14:11:06.409834+02:00   \n",
       "867   42c842a5-7051-44c3-af42-cf824fded959 2022-06-29 14:11:06.409834+02:00   \n",
       "868   42c842a5-7051-44c3-af42-cf824fded959 2022-06-29 14:11:06.409834+02:00   \n",
       "869   42c842a5-7051-44c3-af42-cf824fded959 2022-06-29 14:11:06.409834+02:00   \n",
       "870   42c842a5-7051-44c3-af42-cf824fded959 2022-06-29 14:11:06.409834+02:00   \n",
       "871   42c842a5-7051-44c3-af42-cf824fded959 2022-06-29 14:11:06.409834+02:00   \n",
       "872   42c842a5-7051-44c3-af42-cf824fded959 2022-06-29 14:11:06.409834+02:00   \n",
       "873   42c842a5-7051-44c3-af42-cf824fded959 2022-06-29 14:11:06.409834+02:00   \n",
       "874   42c842a5-7051-44c3-af42-cf824fded959 2022-06-29 14:11:06.409834+02:00   \n",
       "875   42c842a5-7051-44c3-af42-cf824fded959 2022-06-29 14:11:06.409834+02:00   \n",
       "876   42c842a5-7051-44c3-af42-cf824fded959 2022-06-29 14:11:06.409834+02:00   \n",
       "877   42c842a5-7051-44c3-af42-cf824fded959 2022-06-29 14:11:06.409834+02:00   \n",
       "878   42c842a5-7051-44c3-af42-cf824fded959 2022-06-29 14:11:06.409834+02:00   \n",
       "879   42c842a5-7051-44c3-af42-cf824fded959 2022-06-29 14:11:06.409834+02:00   \n",
       "2728  d7fbc4b9-5f94-4639-b82b-6b1592b2ad3a 2022-06-29 19:34:02.048344+02:00   \n",
       "2729  d7fbc4b9-5f94-4639-b82b-6b1592b2ad3a 2022-06-29 19:34:02.048344+02:00   \n",
       "2730  d7fbc4b9-5f94-4639-b82b-6b1592b2ad3a 2022-06-29 19:34:02.048344+02:00   \n",
       "2731  d7fbc4b9-5f94-4639-b82b-6b1592b2ad3a 2022-06-29 19:34:02.048344+02:00   \n",
       "2732  d7fbc4b9-5f94-4639-b82b-6b1592b2ad3a 2022-06-29 19:34:02.048344+02:00   \n",
       "2733  d7fbc4b9-5f94-4639-b82b-6b1592b2ad3a 2022-06-29 19:34:02.048344+02:00   \n",
       "2734  d7fbc4b9-5f94-4639-b82b-6b1592b2ad3a 2022-06-29 19:34:02.048344+02:00   \n",
       "2735  d7fbc4b9-5f94-4639-b82b-6b1592b2ad3a 2022-06-29 19:34:02.048344+02:00   \n",
       "\n",
       "           DB                                     pic_name  wav_duration_s  \\\n",
       "74     PiSCES                                   Picture 81           91.05   \n",
       "75    Radboud  Rafd090_58_Caucasian_female_neutral_frontal           67.24   \n",
       "77    Radboud  Rafd090_04_Caucasian_female_neutral_frontal           70.49   \n",
       "81     PiSCES                                  Picture 105           54.10   \n",
       "845   Radboud    Rafd090_46_Caucasian_male_neutral_frontal           59.05   \n",
       "848    PiSCES                                   Picture 93           83.20   \n",
       "849   marloes                                      marloes           25.94   \n",
       "850   Radboud    Rafd090_24_Caucasian_male_neutral_frontal           58.62   \n",
       "851    PiSCES                                   Picture 56           95.32   \n",
       "852   Radboud    Rafd090_05_Caucasian_male_neutral_frontal           49.83   \n",
       "853    PiSCES                                   Picture 65           67.16   \n",
       "854   Radboud  Rafd090_57_Caucasian_female_neutral_frontal           75.18   \n",
       "855   marloes                                      marloes           25.94   \n",
       "856    PiSCES                                  Picture 110           63.57   \n",
       "857   Radboud  Rafd090_04_Caucasian_female_neutral_frontal           53.42   \n",
       "858    PiSCES                                   Picture 88           66.99   \n",
       "859   Radboud  Rafd090_27_Caucasian_female_neutral_frontal           58.37   \n",
       "860    PiSCES                                   Picture 87           67.84   \n",
       "861   marloes                                      marloes           25.09   \n",
       "862   Radboud  Rafd090_01_Caucasian_female_neutral_frontal           61.61   \n",
       "863    PiSCES                                   Picture 82          105.39   \n",
       "864   Radboud  Rafd090_02_Caucasian_female_neutral_frontal           45.91   \n",
       "865    PiSCES                                   Picture 96           71.68   \n",
       "866   Radboud    Rafd090_47_Caucasian_male_neutral_frontal           50.69   \n",
       "867   marloes                                      marloes           25.17   \n",
       "868    PiSCES                                   Picture 80           71.59   \n",
       "869   Radboud    Rafd090_36_Caucasian_male_neutral_frontal           49.75   \n",
       "870    PiSCES                                   Picture 59           69.29   \n",
       "871   Radboud  Rafd090_61_Caucasian_female_neutral_frontal           60.93   \n",
       "872    PiSCES                                   Picture 98           75.52   \n",
       "873   marloes                                      marloes           25.17   \n",
       "874   Radboud  Rafd090_58_Caucasian_female_neutral_frontal           93.10   \n",
       "875    PiSCES                                  Picture 132          101.55   \n",
       "876   Radboud    Rafd090_49_Caucasian_male_neutral_frontal           66.82   \n",
       "877    PiSCES                                  Picture 105           72.19   \n",
       "878   Radboud    Rafd090_33_Caucasian_male_neutral_frontal           76.20   \n",
       "879   marloes                                      marloes           23.72   \n",
       "2728  Radboud  Rafd090_61_Caucasian_female_neutral_frontal           41.98   \n",
       "2729   PiSCES                                  Picture 110           41.47   \n",
       "2730  Radboud  Rafd090_58_Caucasian_female_neutral_frontal           45.74   \n",
       "2731   PiSCES                                   Picture 80           59.39   \n",
       "2732  marloes                                      marloes           20.65   \n",
       "2733  Radboud    Rafd090_24_Caucasian_male_neutral_frontal           49.49   \n",
       "2734   PiSCES                                   Picture 82           60.33   \n",
       "2735  Radboud    Rafd090_36_Caucasian_male_neutral_frontal           36.10   \n",
       "\n",
       "      time_str  \n",
       "74    22:13:27  \n",
       "75    22:14:45  \n",
       "77    22:17:13  \n",
       "81    22:21:22  \n",
       "845   14:22:30  \n",
       "848   14:26:44  \n",
       "849   14:27:22  \n",
       "850   14:28:30  \n",
       "851   14:30:13  \n",
       "852   14:31:12  \n",
       "853   14:32:29  \n",
       "854   14:34:01  \n",
       "855   14:34:34  \n",
       "856   14:35:48  \n",
       "857   14:36:50  \n",
       "858   14:38:09  \n",
       "859   14:39:18  \n",
       "860   14:40:32  \n",
       "861   14:41:02  \n",
       "862   14:42:20  \n",
       "863   14:44:14  \n",
       "864   14:45:05  \n",
       "865   14:46:53  \n",
       "866   14:47:57  \n",
       "867   14:48:31  \n",
       "868   14:49:54  \n",
       "869   14:50:53  \n",
       "870   14:52:13  \n",
       "871   14:53:26  \n",
       "872   14:54:49  \n",
       "873   14:55:21  \n",
       "874   14:57:31  \n",
       "875   14:59:19  \n",
       "876   15:01:19  \n",
       "877   15:02:40  \n",
       "878   15:04:04  \n",
       "879   15:04:34  \n",
       "2728  19:54:55  \n",
       "2729  19:55:44  \n",
       "2730  19:56:41  \n",
       "2731  19:57:47  \n",
       "2732  19:58:16  \n",
       "2733  19:59:13  \n",
       "2734  20:00:21  \n",
       "2735  20:01:12  "
      ]
     },
     "execution_count": 47,
     "metadata": {},
     "output_type": "execute_result"
    }
   ],
   "source": [
    "df_session_metric[\n",
    "    (df_session_metric.wav_duration_s > 17) &\n",
    "    # totally silent; no speech at all\n",
    "    # (df_session_metric.filter(like='srmr').quantile(q=0.85, axis=1) > 40)\n",
    "    # (df_session_metric.filter(like='srmr').apply(lambda x: x[x.notna()][1:-1].mean(), axis=1) > 18)\n",
    "    # determined heuristically -> seemed like a good estimate\n",
    "    ((df_session_metric.filter(like='mosnet').mean(axis=1) < 2)\n",
    "    | (df_session_metric.filter(like='mosnet').min(axis=1) < 1.5) \n",
    "    | (df_session_metric.filter(like='srmr').median(axis=1) < 0.5) \n",
    "    )\n",
    "][['ID', 'timestamp', 'DB', 'pic_name', 'wav_duration_s', 'time_str']]"
   ]
  }
 ],
 "metadata": {
  "kernelspec": {
   "display_name": "Python 3 (ipykernel)",
   "language": "python",
   "name": "python3"
  },
  "language_info": {
   "codemirror_mode": {
    "name": "ipython",
    "version": 3
   },
   "file_extension": ".py",
   "mimetype": "text/x-python",
   "name": "python",
   "nbconvert_exporter": "python",
   "pygments_lexer": "ipython3",
   "version": "3.8.13"
  },
  "vscode": {
   "interpreter": {
    "hash": "14accab11a8dde1829a82d5477aee5050c56a20d58c0fbbbf6574e6407175af4"
   }
  }
 },
 "nbformat": 4,
 "nbformat_minor": 4
}
